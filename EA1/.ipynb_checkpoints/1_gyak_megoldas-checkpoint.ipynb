{
 "cells": [
  {
   "cell_type": "markdown",
   "id": "f17e5bae",
   "metadata": {},
   "source": [
    "## 1. előadás -  Python\n",
    "\n",
    "### 2022. szeptember 15.\n",
    "\n",
    "#### Dr. Tóth Zoltán és Dr. Tamus Zoltán Ádám"
   ]
  },
  {
   "cell_type": "markdown",
   "id": "84d5e2f3",
   "metadata": {},
   "source": [
    "#### 1. feladat\n",
    "Vizsgáljuk meg az alábbi műveleteket:\n",
    "1. `1 + 2`"
   ]
  },
  {
   "cell_type": "code",
   "execution_count": 3,
   "id": "7fe74e0a",
   "metadata": {},
   "outputs": [
    {
     "data": {
      "text/plain": [
       "3"
      ]
     },
     "execution_count": 3,
     "metadata": {},
     "output_type": "execute_result"
    }
   ],
   "source": [
    "1+2"
   ]
  },
  {
   "cell_type": "markdown",
   "id": "63f12a9f",
   "metadata": {},
   "source": [
    "2. `\"a\" + 2`"
   ]
  },
  {
   "cell_type": "code",
   "execution_count": 4,
   "id": "634a304b",
   "metadata": {},
   "outputs": [
    {
     "ename": "TypeError",
     "evalue": "can only concatenate str (not \"int\") to str",
     "output_type": "error",
     "traceback": [
      "\u001b[0;31m---------------------------------------------------------------------------\u001b[0m",
      "\u001b[0;31mTypeError\u001b[0m                                 Traceback (most recent call last)",
      "Input \u001b[0;32mIn [4]\u001b[0m, in \u001b[0;36m<cell line: 1>\u001b[0;34m()\u001b[0m\n\u001b[0;32m----> 1\u001b[0m \u001b[38;5;124;43m\"\u001b[39;49m\u001b[38;5;124;43ma\u001b[39;49m\u001b[38;5;124;43m\"\u001b[39;49m\u001b[38;5;241;43m+\u001b[39;49m\u001b[38;5;241;43m2\u001b[39;49m\n",
      "\u001b[0;31mTypeError\u001b[0m: can only concatenate str (not \"int\") to str"
     ]
    }
   ],
   "source": [
    "\"a\"+2"
   ]
  },
  {
   "cell_type": "markdown",
   "id": "27ab5260",
   "metadata": {},
   "source": [
    "3. `2 + \"1\"`"
   ]
  },
  {
   "cell_type": "code",
   "execution_count": 5,
   "id": "d3b341c2",
   "metadata": {},
   "outputs": [
    {
     "ename": "TypeError",
     "evalue": "unsupported operand type(s) for +: 'int' and 'str'",
     "output_type": "error",
     "traceback": [
      "\u001b[0;31m---------------------------------------------------------------------------\u001b[0m",
      "\u001b[0;31mTypeError\u001b[0m                                 Traceback (most recent call last)",
      "Input \u001b[0;32mIn [5]\u001b[0m, in \u001b[0;36m<cell line: 1>\u001b[0;34m()\u001b[0m\n\u001b[0;32m----> 1\u001b[0m \u001b[38;5;241;43m2\u001b[39;49m\u001b[38;5;241;43m+\u001b[39;49m\u001b[38;5;124;43m\"\u001b[39;49m\u001b[38;5;124;43m1\u001b[39;49m\u001b[38;5;124;43m\"\u001b[39;49m\n",
      "\u001b[0;31mTypeError\u001b[0m: unsupported operand type(s) for +: 'int' and 'str'"
     ]
    }
   ],
   "source": [
    "2+\"1\""
   ]
  },
  {
   "cell_type": "markdown",
   "id": "43e23de9",
   "metadata": {},
   "source": [
    "4. `\"1\" + 2`"
   ]
  },
  {
   "cell_type": "code",
   "execution_count": 6,
   "id": "5bb585b6",
   "metadata": {},
   "outputs": [
    {
     "ename": "TypeError",
     "evalue": "can only concatenate str (not \"int\") to str",
     "output_type": "error",
     "traceback": [
      "\u001b[0;31m---------------------------------------------------------------------------\u001b[0m",
      "\u001b[0;31mTypeError\u001b[0m                                 Traceback (most recent call last)",
      "Input \u001b[0;32mIn [6]\u001b[0m, in \u001b[0;36m<cell line: 1>\u001b[0;34m()\u001b[0m\n\u001b[0;32m----> 1\u001b[0m \u001b[38;5;124;43m\"\u001b[39;49m\u001b[38;5;124;43m1\u001b[39;49m\u001b[38;5;124;43m\"\u001b[39;49m\u001b[38;5;241;43m+\u001b[39;49m\u001b[38;5;241;43m2\u001b[39;49m\n",
      "\u001b[0;31mTypeError\u001b[0m: can only concatenate str (not \"int\") to str"
     ]
    }
   ],
   "source": [
    "\"1\"+2"
   ]
  },
  {
   "cell_type": "markdown",
   "id": "aa7095bc",
   "metadata": {},
   "source": [
    "5. `\"a\" + \"b\"`"
   ]
  },
  {
   "cell_type": "code",
   "execution_count": 7,
   "id": "f188e6da",
   "metadata": {},
   "outputs": [
    {
     "data": {
      "text/plain": [
       "'ab'"
      ]
     },
     "execution_count": 7,
     "metadata": {},
     "output_type": "execute_result"
    }
   ],
   "source": [
    "\"a\"+\"b\""
   ]
  },
  {
   "cell_type": "markdown",
   "id": "32a3cf09",
   "metadata": {},
   "source": [
    "#### 2. feladat - Változók típusai\n",
    "Vizsgáljuk meg a típusukat a következő értékeknek\n",
    "1. `a = 2`"
   ]
  },
  {
   "cell_type": "code",
   "execution_count": 8,
   "id": "3242b932",
   "metadata": {},
   "outputs": [
    {
     "data": {
      "text/plain": [
       "int"
      ]
     },
     "execution_count": 8,
     "metadata": {},
     "output_type": "execute_result"
    }
   ],
   "source": [
    "type(2)"
   ]
  },
  {
   "cell_type": "markdown",
   "id": "c96c2bda",
   "metadata": {},
   "source": [
    "2. `b = 2.0`"
   ]
  },
  {
   "cell_type": "code",
   "execution_count": 10,
   "id": "2fd0024a",
   "metadata": {},
   "outputs": [
    {
     "data": {
      "text/plain": [
       "True"
      ]
     },
     "execution_count": 10,
     "metadata": {},
     "output_type": "execute_result"
    }
   ],
   "source": [
    "type(2.0)\n",
    "2==2.0"
   ]
  },
  {
   "cell_type": "markdown",
   "id": "d4a6d1c2",
   "metadata": {},
   "source": [
    "3. `c = 2E3`"
   ]
  },
  {
   "cell_type": "code",
   "execution_count": 13,
   "id": "527ebc7d",
   "metadata": {},
   "outputs": [
    {
     "name": "stdout",
     "output_type": "stream",
     "text": [
      "0.002\n"
     ]
    }
   ],
   "source": [
    "print(2E-3)"
   ]
  },
  {
   "cell_type": "markdown",
   "id": "e09d96df",
   "metadata": {},
   "source": [
    "4. `d = 2/3`"
   ]
  },
  {
   "cell_type": "code",
   "execution_count": 15,
   "id": "62c958ec",
   "metadata": {},
   "outputs": [
    {
     "data": {
      "text/plain": [
       "float"
      ]
     },
     "execution_count": 15,
     "metadata": {},
     "output_type": "execute_result"
    }
   ],
   "source": [
    "type(2/1)"
   ]
  },
  {
   "cell_type": "markdown",
   "id": "ed2879ee",
   "metadata": {},
   "source": [
    "5. `e = \"a\"`"
   ]
  },
  {
   "cell_type": "code",
   "execution_count": 17,
   "id": "395c5be7",
   "metadata": {},
   "outputs": [
    {
     "data": {
      "text/plain": [
       "str"
      ]
     },
     "execution_count": 17,
     "metadata": {},
     "output_type": "execute_result"
    }
   ],
   "source": [
    "type('a')"
   ]
  },
  {
   "cell_type": "markdown",
   "id": "692f515b",
   "metadata": {},
   "source": [
    "6. `f = a / b`"
   ]
  },
  {
   "cell_type": "code",
   "execution_count": 18,
   "id": "bf99c2ad",
   "metadata": {},
   "outputs": [
    {
     "data": {
      "text/plain": [
       "float"
      ]
     },
     "execution_count": 18,
     "metadata": {},
     "output_type": "execute_result"
    }
   ],
   "source": [
    "a=2\n",
    "b=3\n",
    "f=a/b\n",
    "type(f)"
   ]
  },
  {
   "cell_type": "markdown",
   "id": "d87bdcf4",
   "metadata": {},
   "source": [
    "7. `f = b / a`"
   ]
  },
  {
   "cell_type": "code",
   "execution_count": 19,
   "id": "8b4904eb",
   "metadata": {},
   "outputs": [
    {
     "data": {
      "text/plain": [
       "float"
      ]
     },
     "execution_count": 19,
     "metadata": {},
     "output_type": "execute_result"
    }
   ],
   "source": [
    "type(b/a)"
   ]
  },
  {
   "cell_type": "markdown",
   "id": "7fa12380",
   "metadata": {},
   "source": [
    "8. `f = a / b`"
   ]
  },
  {
   "cell_type": "code",
   "execution_count": 20,
   "id": "0b934dca",
   "metadata": {},
   "outputs": [],
   "source": [
    "f=a/b"
   ]
  },
  {
   "cell_type": "markdown",
   "id": "c4b6e189",
   "metadata": {},
   "source": [
    "9. `f = True`"
   ]
  },
  {
   "cell_type": "code",
   "execution_count": 21,
   "id": "759ba5bd",
   "metadata": {
    "scrolled": true
   },
   "outputs": [
    {
     "data": {
      "text/plain": [
       "bool"
      ]
     },
     "execution_count": 21,
     "metadata": {},
     "output_type": "execute_result"
    }
   ],
   "source": [
    "f=True\n",
    "type(f)"
   ]
  },
  {
   "cell_type": "markdown",
   "id": "375e05b8",
   "metadata": {},
   "source": [
    "#### 3. feladat - Műveletek változókkal\n",
    "Vizsgáljuk meg a típusukat a következő értékeknek\n",
    "\n",
    "`a = 2` `b = 4` `c = 3`\n",
    "\n",
    "1. `c = a + b`\n",
    "    Mennyi lesz `c`?"
   ]
  },
  {
   "cell_type": "code",
   "execution_count": 25,
   "id": "4ba17b38",
   "metadata": {},
   "outputs": [
    {
     "name": "stdout",
     "output_type": "stream",
     "text": [
      "6\n"
     ]
    }
   ],
   "source": [
    "a = 2\n",
    "b = 4\n",
    "c = 3\n",
    "c = a+b\n",
    "print(c)"
   ]
  },
  {
   "cell_type": "markdown",
   "id": "647f947f",
   "metadata": {},
   "source": [
    "2. `f == true`"
   ]
  },
  {
   "cell_type": "code",
   "execution_count": 26,
   "id": "80f42a72",
   "metadata": {},
   "outputs": [
    {
     "ename": "NameError",
     "evalue": "name 'true' is not defined",
     "output_type": "error",
     "traceback": [
      "\u001b[0;31m---------------------------------------------------------------------------\u001b[0m",
      "\u001b[0;31mNameError\u001b[0m                                 Traceback (most recent call last)",
      "Input \u001b[0;32mIn [26]\u001b[0m, in \u001b[0;36m<cell line: 1>\u001b[0;34m()\u001b[0m\n\u001b[0;32m----> 1\u001b[0m f\u001b[38;5;241m==\u001b[39m\u001b[43mtrue\u001b[49m\n",
      "\u001b[0;31mNameError\u001b[0m: name 'true' is not defined"
     ]
    }
   ],
   "source": [
    "f==true"
   ]
  },
  {
   "cell_type": "markdown",
   "id": "2bfbb70d",
   "metadata": {},
   "source": [
    "3. `f == True`"
   ]
  },
  {
   "cell_type": "code",
   "execution_count": 29,
   "id": "b74d1132",
   "metadata": {},
   "outputs": [
    {
     "data": {
      "text/plain": [
       "True"
      ]
     },
     "execution_count": 29,
     "metadata": {},
     "output_type": "execute_result"
    }
   ],
   "source": [
    "f==True"
   ]
  },
  {
   "cell_type": "markdown",
   "id": "14dd7ea6",
   "metadata": {},
   "source": [
    "4. `c = a + (b == 2)`\n",
    "    Mennyi lesz `c`?"
   ]
  },
  {
   "cell_type": "code",
   "execution_count": 32,
   "id": "1b39c800",
   "metadata": {},
   "outputs": [
    {
     "name": "stdout",
     "output_type": "stream",
     "text": [
      "3\n"
     ]
    }
   ],
   "source": [
    "c = a + (b == 4)\n",
    "print(c)"
   ]
  },
  {
   "cell_type": "markdown",
   "id": "25b8d715",
   "metadata": {},
   "source": [
    "#### 4. feladat - Műveletek gyakorlása\n",
    "Műveleti sorrendek\n",
    "\n",
    "1. `3 + 4`\n",
    "2. `3 * 4`\n",
    "3. `3 / 4`\n",
    "4. `3 + 4 / 2 * 4`\n",
    "5. `3 + (4 / 2) * 4`\n",
    "6. `(3 + 4) / 2 * 4`\n",
    "7. `(3 + 4) / 2 ** 4`"
   ]
  },
  {
   "cell_type": "code",
   "execution_count": 33,
   "id": "2ed9ef1a",
   "metadata": {},
   "outputs": [
    {
     "name": "stdout",
     "output_type": "stream",
     "text": [
      "7\n"
     ]
    }
   ],
   "source": [
    "print(3+4)"
   ]
  },
  {
   "cell_type": "code",
   "execution_count": 34,
   "id": "6bca54e6",
   "metadata": {},
   "outputs": [
    {
     "name": "stdout",
     "output_type": "stream",
     "text": [
      "12\n"
     ]
    }
   ],
   "source": [
    "print(3*4)"
   ]
  },
  {
   "cell_type": "code",
   "execution_count": 35,
   "id": "241e9d95",
   "metadata": {},
   "outputs": [
    {
     "name": "stdout",
     "output_type": "stream",
     "text": [
      "0.75\n"
     ]
    }
   ],
   "source": [
    "print(3 / 4)"
   ]
  },
  {
   "cell_type": "code",
   "execution_count": 36,
   "id": "1a9bf065",
   "metadata": {},
   "outputs": [
    {
     "name": "stdout",
     "output_type": "stream",
     "text": [
      "11.0\n"
     ]
    }
   ],
   "source": [
    "print(3 + 4 / 2 * 4)"
   ]
  },
  {
   "cell_type": "code",
   "execution_count": 37,
   "id": "71e76bc8",
   "metadata": {},
   "outputs": [
    {
     "name": "stdout",
     "output_type": "stream",
     "text": [
      "11.0\n"
     ]
    }
   ],
   "source": [
    "print(3 + (4 / 2) * 4)"
   ]
  },
  {
   "cell_type": "code",
   "execution_count": 38,
   "id": "9d4b877b",
   "metadata": {},
   "outputs": [
    {
     "name": "stdout",
     "output_type": "stream",
     "text": [
      "14.0\n"
     ]
    }
   ],
   "source": [
    "print((3 + 4) / 2 * 4)"
   ]
  },
  {
   "cell_type": "code",
   "execution_count": 39,
   "id": "c35ed0e8",
   "metadata": {},
   "outputs": [
    {
     "name": "stdout",
     "output_type": "stream",
     "text": [
      "0.4375\n"
     ]
    }
   ],
   "source": [
    "print((3 + 4) / 2 ** 4)"
   ]
  },
  {
   "cell_type": "markdown",
   "id": "da319a4e",
   "metadata": {},
   "source": [
    "#### 5. feladat - Műveletek gyakorlása\n",
    "Műveletek, moduló\n",
    "(Irodai alkalamzásokon: `MARADÉK()`)\n",
    "\n",
    "1. `10 % 2`\n",
    "2. `10 % 3`\n",
    "3. `10 % 4`\n",
    "4. `10 % 7`"
   ]
  },
  {
   "cell_type": "code",
   "execution_count": 40,
   "id": "fd2e15a0",
   "metadata": {},
   "outputs": [
    {
     "name": "stdout",
     "output_type": "stream",
     "text": [
      "0\n"
     ]
    }
   ],
   "source": [
    "print(10%2)"
   ]
  },
  {
   "cell_type": "code",
   "execution_count": 41,
   "id": "6f6f3691",
   "metadata": {},
   "outputs": [
    {
     "name": "stdout",
     "output_type": "stream",
     "text": [
      "1\n"
     ]
    }
   ],
   "source": [
    "print(10%3)"
   ]
  },
  {
   "cell_type": "code",
   "execution_count": 42,
   "id": "374a8d4f",
   "metadata": {},
   "outputs": [
    {
     "name": "stdout",
     "output_type": "stream",
     "text": [
      "2\n"
     ]
    }
   ],
   "source": [
    "print(10%4)"
   ]
  },
  {
   "cell_type": "code",
   "execution_count": 43,
   "id": "e9314513",
   "metadata": {},
   "outputs": [
    {
     "name": "stdout",
     "output_type": "stream",
     "text": [
      "3\n"
     ]
    }
   ],
   "source": [
    "print(10%7)"
   ]
  },
  {
   "cell_type": "markdown",
   "id": "0b0f427f",
   "metadata": {},
   "source": [
    "#### 6. feladat - Műveletek gyakorlása\n",
    "Műveletek, moduló\n",
    "(Irodai alkalamzásokon: `KÓCIENS()`)\n",
    "\n",
    "1. `10 // 2`\n",
    "2. `10 // 3`\n",
    "3. `10 // 4`\n",
    "4. `10 // 7`"
   ]
  },
  {
   "cell_type": "code",
   "execution_count": 44,
   "id": "d6a57265",
   "metadata": {},
   "outputs": [
    {
     "name": "stdout",
     "output_type": "stream",
     "text": [
      "5\n"
     ]
    }
   ],
   "source": [
    "print(10//2)"
   ]
  },
  {
   "cell_type": "code",
   "execution_count": 45,
   "id": "c93a9374",
   "metadata": {},
   "outputs": [
    {
     "name": "stdout",
     "output_type": "stream",
     "text": [
      "3\n"
     ]
    }
   ],
   "source": [
    "print(10//3)"
   ]
  },
  {
   "cell_type": "code",
   "execution_count": 46,
   "id": "a3e34cd3",
   "metadata": {},
   "outputs": [
    {
     "name": "stdout",
     "output_type": "stream",
     "text": [
      "2\n"
     ]
    }
   ],
   "source": [
    "print(10//4)"
   ]
  },
  {
   "cell_type": "code",
   "execution_count": 47,
   "id": "fc4d6517",
   "metadata": {},
   "outputs": [
    {
     "name": "stdout",
     "output_type": "stream",
     "text": [
      "1\n"
     ]
    }
   ],
   "source": [
    "print(10//7)"
   ]
  },
  {
   "cell_type": "markdown",
   "id": "663a70eb",
   "metadata": {},
   "source": [
    "#### 7. feladat - Műveletek szöveggel\n",
    "`print(object(s), sep=separator, end=end, file=file, flush=flush)`\n",
    "\n",
    "1. `print(\"Hello Word!\")`\n",
    "2. `print('Hello Word!')`\n",
    "3. `print(\"Hello \\' Word!\")`\n",
    "4. `print(\"Hello \\n Word!\")`\n",
    "5. `print(\"Hello\", \"Word!\")`\n",
    "6. `print(\"Hello\" + \"Word!\")`\n",
    "7. `print('Hello World!'[1])`\n",
    "8. `print('Hello World!'[0])` (Itt a 0 az első!)\n",
    "9. `print('Hello World!'[15])` (Itt Index error!)\n",
    "10. `nevem = \"Zoli\"; print(\"Hello\", nevem)`"
   ]
  },
  {
   "cell_type": "code",
   "execution_count": 48,
   "id": "c107927b",
   "metadata": {},
   "outputs": [
    {
     "name": "stdout",
     "output_type": "stream",
     "text": [
      "Hello Word!\n"
     ]
    }
   ],
   "source": [
    "print(\"Hello Word!\")"
   ]
  },
  {
   "cell_type": "code",
   "execution_count": 49,
   "id": "a18a5f48",
   "metadata": {},
   "outputs": [
    {
     "name": "stdout",
     "output_type": "stream",
     "text": [
      "Hello Word!\n"
     ]
    }
   ],
   "source": [
    "print('Hello Word!')"
   ]
  },
  {
   "cell_type": "code",
   "execution_count": 63,
   "id": "07649181",
   "metadata": {},
   "outputs": [
    {
     "name": "stdout",
     "output_type": "stream",
     "text": [
      "Hello \" Word!\n"
     ]
    }
   ],
   "source": [
    "print(\"Hello \\\" Word!\")"
   ]
  },
  {
   "cell_type": "code",
   "execution_count": 68,
   "id": "69ab0185",
   "metadata": {},
   "outputs": [
    {
     "name": "stdout",
     "output_type": "stream",
     "text": [
      "Hello \n",
      " Word!\n",
      "1992-03-14!"
     ]
    }
   ],
   "source": [
    "print(\"Hello \\n Word!\")\n",
    "print(\"1992\",\"03\", \"14\", sep='-', end='!')"
   ]
  },
  {
   "cell_type": "code",
   "execution_count": 54,
   "id": "8aa8171c",
   "metadata": {},
   "outputs": [
    {
     "name": "stdout",
     "output_type": "stream",
     "text": [
      "Hello Word!\n"
     ]
    }
   ],
   "source": [
    "print(\"Hello\", \"Word!\")"
   ]
  },
  {
   "cell_type": "code",
   "execution_count": 55,
   "id": "c41a12d2",
   "metadata": {},
   "outputs": [
    {
     "name": "stdout",
     "output_type": "stream",
     "text": [
      "HelloWord!\n"
     ]
    }
   ],
   "source": [
    "print(\"Hello\" + \"Word!\")"
   ]
  },
  {
   "cell_type": "code",
   "execution_count": 56,
   "id": "f3bc2817",
   "metadata": {},
   "outputs": [
    {
     "name": "stdout",
     "output_type": "stream",
     "text": [
      "e\n"
     ]
    }
   ],
   "source": [
    "print('Hello World!'[1])"
   ]
  },
  {
   "cell_type": "code",
   "execution_count": 57,
   "id": "9acf5444",
   "metadata": {},
   "outputs": [
    {
     "name": "stdout",
     "output_type": "stream",
     "text": [
      "H\n"
     ]
    }
   ],
   "source": [
    "print('Hello World!'[0])"
   ]
  },
  {
   "cell_type": "code",
   "execution_count": 74,
   "id": "24bd3939",
   "metadata": {},
   "outputs": [
    {
     "name": "stdout",
     "output_type": "stream",
     "text": [
      "!\n",
      "12\n"
     ]
    }
   ],
   "source": [
    "print('Hello World!'[11])\n",
    "print(len(\"Hello World!\"))"
   ]
  },
  {
   "cell_type": "code",
   "execution_count": 75,
   "id": "4fe7a1a0",
   "metadata": {},
   "outputs": [
    {
     "name": "stdout",
     "output_type": "stream",
     "text": [
      "Hello, Zoli!"
     ]
    }
   ],
   "source": [
    "nevem = \"Zoli\"; print(\"Hello\", nevem, sep=\", \", end=\"!\")"
   ]
  },
  {
   "cell_type": "markdown",
   "id": "e48088ee",
   "metadata": {},
   "source": [
    "#### 8. feladat - Műveletek szöveggel\n",
    "##### Bevitel\n",
    "var = input(\"Írj be valamit!\")"
   ]
  },
  {
   "cell_type": "code",
   "execution_count": 79,
   "id": "8aa6b081",
   "metadata": {},
   "outputs": [
    {
     "name": "stdout",
     "output_type": "stream",
     "text": [
      "Mikor születtél? (év)1992\n",
      "Gratulálok, te ennyi éves vagy: 30\n"
     ]
    }
   ],
   "source": [
    "ev=int(input(\"Mikor születtél? (év)\"))\n",
    "print(\"Gratulálok, te ennyi éves vagy:\", 2022-ev)"
   ]
  },
  {
   "cell_type": "markdown",
   "id": "d3cef348",
   "metadata": {},
   "source": [
    "##### Feladatok\n",
    "1.\tKészíts programot, amely bekéri a felhasználó nevét, majd üdvözli őt a nevén szólítva!\n",
    "2.\tKészíts programot, ami bekéri a vezeték majd a keresztnevét, majd a teljes nevén üdvözli!\n",
    "3.\tÍrj programot, ami bekéri egy kör sugarát, majd kiszámítja a kerületét és a területét!\n",
    "4.\tÍrj programot, amely a felhasználótól bekéri két síkbeli pont x és y koordinátáit, és kiírja a közéjük húzott egyenes szakasz hosszát (Pitagorasz tétel)!\n",
    "5.\tSzobafestés. Készíts programot, ami bekéri a szoba szélességét, hosszát és magasságát, majd megmondja hány doboz festéket kell venni! Egy doboz festék 5m2 festésére elég."
   ]
  },
  {
   "cell_type": "code",
   "execution_count": 4,
   "id": "44529ad4",
   "metadata": {},
   "outputs": [
    {
     "name": "stdout",
     "output_type": "stream",
     "text": [
      "Kérem, add meg a keresztnevedet: Zoli\n",
      "Szia, Zoli!"
     ]
    }
   ],
   "source": [
    "neve = input(\"Kérem, add meg a keresztnevedet: \")\n",
    "print(\"Szia,\", neve, end=\"!\")"
   ]
  },
  {
   "cell_type": "code",
   "execution_count": 5,
   "id": "f733c227",
   "metadata": {},
   "outputs": [
    {
     "name": "stdout",
     "output_type": "stream",
     "text": [
      "Kérem, add meg a vezetéknevedet: Tóth\n",
      "Kérem, add meg a keresztnevedet: Zoltán\n",
      "Szia, Tóth Zoltán!"
     ]
    }
   ],
   "source": [
    "veznev = input(\"Kérem, add meg a vezetéknevedet: \")\n",
    "kernev = input(\"Kérem, add meg a keresztnevedet: \")\n",
    "\n",
    "print(\"Szia,\", veznev, kernev, end=\"!\")"
   ]
  },
  {
   "cell_type": "code",
   "execution_count": 7,
   "id": "2b3b1c1a",
   "metadata": {},
   "outputs": [
    {
     "name": "stdout",
     "output_type": "stream",
     "text": [
      "A kör sugara: 2.1\n",
      "Kerület: 13.194678 m\n",
      "Terület: 13.8544119 m2\n"
     ]
    }
   ],
   "source": [
    "sugar = float(input(\"A kör sugara: \"))\n",
    "pi = 3.14159\n",
    "print(\"Kerület:\", 2*sugar*pi, \"m\")\n",
    "print(\"Terület:\", (sugar**2)*pi, \"m2\")"
   ]
  },
  {
   "cell_type": "code",
   "execution_count": 8,
   "id": "d35b7119",
   "metadata": {},
   "outputs": [
    {
     "name": "stdout",
     "output_type": "stream",
     "text": [
      "1. pont x koordináta: 1\n",
      "1. pont y koordináta: 1\n",
      "2. pont x koordináta: 2\n",
      "2. pont y koordináta: 2\n",
      "A két pont közötti távolság: 1.4142135623730951 m\n"
     ]
    }
   ],
   "source": [
    "p1_x = float(input(\"1. pont x koordináta: \"))\n",
    "p1_y = float(input(\"1. pont y koordináta: \"))\n",
    "p2_x = float(input(\"2. pont x koordináta: \"))\n",
    "p2_y = float(input(\"2. pont y koordináta: \"))\n",
    "\n",
    "print(\"A két pont közötti távolság:\", ( (p1_x-p2_x)**2 + (p1_y-p2_y)**2 )**0.5, \"m\" )"
   ]
  },
  {
   "cell_type": "code",
   "execution_count": null,
   "id": "b31b7771",
   "metadata": {},
   "outputs": [],
   "source": [
    "szelesseg = float(input(\"Szélesség: \"))\n",
    "hossz = float(input(\"Hossz: \"))\n",
    "magassag = float(input(\"Magasság: \"))\n",
    "\n",
    "falfelulet = 2*(szelesseg*magassag + hossz*magassag)+hossz*szelesseg\n",
    "festek = (falfelulet //5 + 0.49)// 1\n",
    "\n",
    "print(\"Ennyi feték kell:\", festek, \"vödör (5m2-re elegendő)\")"
   ]
  }
 ],
 "metadata": {
  "kernelspec": {
   "display_name": "Python 3 (ipykernel)",
   "language": "python",
   "name": "python3"
  },
  "language_info": {
   "codemirror_mode": {
    "name": "ipython",
    "version": 3
   },
   "file_extension": ".py",
   "mimetype": "text/x-python",
   "name": "python",
   "nbconvert_exporter": "python",
   "pygments_lexer": "ipython3",
   "version": "3.9.12"
  }
 },
 "nbformat": 4,
 "nbformat_minor": 5
}
