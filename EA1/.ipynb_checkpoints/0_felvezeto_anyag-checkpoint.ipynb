{
 "cells": [
  {
   "cell_type": "markdown",
   "id": "440710c3",
   "metadata": {},
   "source": [
    "## Bevezetés -  Python\n",
    "\n",
    "### 2022. szeptember 15.\n",
    "\n",
    "#### Dr. Tóth Zoltán és Dr. Tamus Zoltán Ádám"
   ]
  },
  {
   "cell_type": "markdown",
   "id": "0c3c2abc",
   "metadata": {},
   "source": [
    "# A Python története\n",
    "\n",
    "- a Python egy holland programozó, Guido van Rossum hobby projektként kezdődött 1989-ben.\n",
    "- 1994: Python 1.0\n",
    "- 2000: Python 2.0\n",
    "  - cycle-detecting garbage collector\n",
    "  - Unicode support\n",
    "- 2008: Python 3.0\n",
    "  - visszafele kompatibilitás\n",
    "- Python2 End-of-Life (EOL) date was postponed from 2015 to 2020"
   ]
  },
  {
   "cell_type": "markdown",
   "id": "73c38c31",
   "metadata": {},
   "source": [
    "# Az élet jóindulatú diktárora\n",
    " \n",
    " <img width=\"400\" alt=\"portfolio_view\" src=\"https://upload.wikimedia.org/wikipedia/commons/6/66/Guido_van_Rossum_OSCON_2006.jpg\">\n",
    " Guido van Rossum at OSCON 2006. by [Doc Searls](https://www.flickr.com/photos/docsearls/) licensed under [CC BY 2.0](https://creativecommons.org/licenses/by/2.0/)"
   ]
  },
  {
   "cell_type": "markdown",
   "id": "07ad4c58",
   "metadata": {},
   "source": [
    "# Python közösség és fejelsztés\n",
    "\n",
    "- A Python Software Foundation Nonprofit Szervezet Delaware-ben van bejegyezve\n",
    "- PEPs-en keresztül menedzselt (Python Enhancement Proposal)\n",
    "- erős közösségi befogadás\n",
    "- nagy standard library\n",
    "- nagyon nagy third-party module repository (PyPI - Python Package Index)\n",
    "- pip installer"
   ]
  },
  {
   "cell_type": "code",
   "execution_count": 1,
   "id": "57c89ba2",
   "metadata": {},
   "outputs": [],
   "source": [
    "import antigravity"
   ]
  },
  {
   "cell_type": "markdown",
   "id": "e7ca1640",
   "metadata": {},
   "source": [
    "## Python neologizmusz\n",
    "\n",
    "- a Python közösség számos felépített kifejezéssel rendelkezik \n",
    "- _Pythonic_: a Python egyezmények után, Python-like\n",
    "- _Pythonist_ or _Pythonista_: jó Python programozó"
   ]
  },
  {
   "cell_type": "markdown",
   "id": "1f0f8607",
   "metadata": {},
   "source": [
    "# PEP8, a Python stílus útmutató\n",
    "\n",
    "- széles körben elfogadott stílus útmutató a Python számára\n",
    "- [PEP8](https://www.python.org/dev/peps/pep-0008/) Guido által, 2001\n",
    "\n",
    "Meghatározza:\n",
    "\n",
    "- behúzást\n",
    "- vonalhosszt\n",
    "- modul importot\n",
    "- osztály neveket, függvény neveket, stb.\n",
    "\n",
    "A PEP8-at használjuk az egész kurzuson."
   ]
  },
  {
   "cell_type": "markdown",
   "id": "f385d7a6",
   "metadata": {},
   "source": [
    "# Általános tulajdonságai a Pythonnak"
   ]
  },
  {
   "cell_type": "markdown",
   "id": "bf071218",
   "metadata": {},
   "source": [
    "## Whitespaces\n",
    "\n",
    "- whitespace van a `{}` helyett"
   ]
  },
  {
   "cell_type": "code",
   "execution_count": null,
   "id": "3a4dcfa2",
   "metadata": {},
   "outputs": [],
   "source": [
    "n = 12\n",
    "if n % 2 == 0:\n",
    "    print(\"n is even\")\n",
    "else:\n",
    "    print(\"n is odd\")"
   ]
  },
  {
   "cell_type": "markdown",
   "id": "34c7e967",
   "metadata": {},
   "source": [
    "- `\\n` az utasítás vége; nincs szükség `;`-re\n",
    "- de a `;`-ket egy sorban több utasítás végrehajtására is fel lehet használni (ez nagyon unPythonic)"
   ]
  },
  {
   "cell_type": "code",
   "execution_count": null,
   "id": "40c7ef66",
   "metadata": {},
   "outputs": [],
   "source": [
    "i = 2; j = 3\n",
    "i + j"
   ]
  },
  {
   "cell_type": "markdown",
   "id": "6c5510a7",
   "metadata": {},
   "source": [
    "## Dinamikus gépelés\n",
    "\n",
    "- tÍpusellenőrzés futási időben történik, ellentétben a fordítási idővel (C++)\n",
    "- a változók létrehozása hozzárendeléskor\n",
    "- a típus a kezdeti értékből származik"
   ]
  },
  {
   "cell_type": "code",
   "execution_count": null,
   "id": "a1f854ae",
   "metadata": {},
   "outputs": [],
   "source": [
    "n = 2.0\n",
    "print(type(n))\n",
    "\n",
    "n = 2.1\n",
    "print(type(n))\n",
    "\n",
    "n = \"foo\"\n",
    "print(type(n))"
   ]
  },
  {
   "cell_type": "markdown",
   "id": "7c82431d",
   "metadata": {},
   "source": [
    "## Assignment\n",
    "\n",
    "assignment differs from other imperative languages:\n",
    "\n",
    "- in C++ `i = 2` translates to _typed variable named i receives a copy of numeric value 2_\n",
    "- in Python `i = 2` translates to _name i receives a reference to object of numeric type of value 2_\n",
    "\n",
    "the built-in function `id` returns the object's id"
   ]
  },
  {
   "cell_type": "code",
   "execution_count": null,
   "id": "b9552397",
   "metadata": {},
   "outputs": [],
   "source": [
    "i = 2\n",
    "print(id(i))\n",
    "\n",
    "j = 2\n",
    "print(id(i))\n",
    "\n",
    "i = 3.3\n",
    "print(id(i))"
   ]
  },
  {
   "cell_type": "markdown",
   "id": "ab1756c5",
   "metadata": {},
   "source": [
    "### az `is` operátor\n",
    "\n",
    "`is` ellenőrzi az objektum azonosságát"
   ]
  },
  {
   "cell_type": "code",
   "execution_count": null,
   "id": "f38d04f7",
   "metadata": {},
   "outputs": [],
   "source": [
    "i = \"foo\"\n",
    "print(id(i))\n",
    "\n",
    "s = i\n",
    "print(s is i)  # same as print(id(s) == id(i))\n",
    "\n",
    "old_id = id(s)\n",
    "s += \"bar\"\n",
    "print(s is i)\n",
    "print(old_id == id(s))\n",
    "print(old_id == id(i))"
   ]
  },
  {
   "cell_type": "code",
   "execution_count": null,
   "id": "605629cf",
   "metadata": {},
   "outputs": [],
   "source": [
    "a = 2\n",
    "b = a\n",
    "print(a is b)\n",
    "a += 1\n",
    "print(a is b)\n",
    "a -= 1\n",
    "print(a is b)"
   ]
  }
 ],
 "metadata": {
  "kernelspec": {
   "display_name": "Python 3 (ipykernel)",
   "language": "python",
   "name": "python3"
  },
  "language_info": {
   "codemirror_mode": {
    "name": "ipython",
    "version": 3
   },
   "file_extension": ".py",
   "mimetype": "text/x-python",
   "name": "python",
   "nbconvert_exporter": "python",
   "pygments_lexer": "ipython3",
   "version": "3.9.12"
  }
 },
 "nbformat": 4,
 "nbformat_minor": 5
}
