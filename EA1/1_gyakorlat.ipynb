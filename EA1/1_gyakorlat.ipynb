{
 "cells": [
  {
   "cell_type": "markdown",
   "id": "f17e5bae",
   "metadata": {},
   "source": [
    "## 1. előadás -  Python\n",
    "\n",
    "### 2022. szeptember 15.\n",
    "\n",
    "#### Dr. Tóth Zoltán és Dr. Tamus Zoltán Ádám"
   ]
  },
  {
   "cell_type": "markdown",
   "id": "84d5e2f3",
   "metadata": {},
   "source": [
    "#### 1. feladat\n",
    "Vizsgáljuk meg az alábbi műveleteket:\n",
    "1. `1 + 2`"
   ]
  },
  {
   "cell_type": "code",
   "execution_count": null,
   "id": "7fe74e0a",
   "metadata": {},
   "outputs": [],
   "source": []
  },
  {
   "cell_type": "markdown",
   "id": "63f12a9f",
   "metadata": {},
   "source": [
    "2. `\"a\" + 2`"
   ]
  },
  {
   "cell_type": "code",
   "execution_count": null,
   "id": "634a304b",
   "metadata": {},
   "outputs": [],
   "source": []
  },
  {
   "cell_type": "markdown",
   "id": "27ab5260",
   "metadata": {},
   "source": [
    "3. `2 + \"1\"`"
   ]
  },
  {
   "cell_type": "code",
   "execution_count": null,
   "id": "d3b341c2",
   "metadata": {},
   "outputs": [],
   "source": []
  },
  {
   "cell_type": "markdown",
   "id": "43e23de9",
   "metadata": {},
   "source": [
    "4. `\"1\" + 2`"
   ]
  },
  {
   "cell_type": "code",
   "execution_count": null,
   "id": "5bb585b6",
   "metadata": {},
   "outputs": [],
   "source": []
  },
  {
   "cell_type": "markdown",
   "id": "aa7095bc",
   "metadata": {},
   "source": [
    "5. `\"a\" + \"b\"`"
   ]
  },
  {
   "cell_type": "code",
   "execution_count": null,
   "id": "f188e6da",
   "metadata": {},
   "outputs": [],
   "source": []
  },
  {
   "cell_type": "markdown",
   "id": "32a3cf09",
   "metadata": {},
   "source": [
    "#### 1. feladat - Változók típusai\n",
    "Vizsgáljuk meg a típusukat a következő értékeknek\n",
    "1. `a = 2`"
   ]
  },
  {
   "cell_type": "code",
   "execution_count": null,
   "id": "3242b932",
   "metadata": {},
   "outputs": [],
   "source": []
  },
  {
   "cell_type": "markdown",
   "id": "c96c2bda",
   "metadata": {},
   "source": [
    "2. `b = 2.0`"
   ]
  },
  {
   "cell_type": "code",
   "execution_count": null,
   "id": "2fd0024a",
   "metadata": {},
   "outputs": [],
   "source": []
  },
  {
   "cell_type": "markdown",
   "id": "d4a6d1c2",
   "metadata": {},
   "source": [
    "3. `c = 2E3`"
   ]
  },
  {
   "cell_type": "code",
   "execution_count": null,
   "id": "527ebc7d",
   "metadata": {},
   "outputs": [],
   "source": []
  },
  {
   "cell_type": "markdown",
   "id": "e09d96df",
   "metadata": {},
   "source": [
    "4. `d = 2/3`"
   ]
  },
  {
   "cell_type": "code",
   "execution_count": null,
   "id": "62c958ec",
   "metadata": {},
   "outputs": [],
   "source": []
  },
  {
   "cell_type": "markdown",
   "id": "ed2879ee",
   "metadata": {},
   "source": [
    "5. `e = \"a\"`"
   ]
  },
  {
   "cell_type": "code",
   "execution_count": null,
   "id": "395c5be7",
   "metadata": {},
   "outputs": [],
   "source": []
  },
  {
   "cell_type": "markdown",
   "id": "692f515b",
   "metadata": {},
   "source": [
    "6. `f = a / b`"
   ]
  },
  {
   "cell_type": "code",
   "execution_count": null,
   "id": "bf99c2ad",
   "metadata": {},
   "outputs": [],
   "source": []
  },
  {
   "cell_type": "markdown",
   "id": "d87bdcf4",
   "metadata": {},
   "source": [
    "7. `f = b / a`"
   ]
  },
  {
   "cell_type": "code",
   "execution_count": null,
   "id": "8b4904eb",
   "metadata": {},
   "outputs": [],
   "source": []
  },
  {
   "cell_type": "markdown",
   "id": "7fa12380",
   "metadata": {},
   "source": [
    "8. `f = a / b`"
   ]
  },
  {
   "cell_type": "code",
   "execution_count": null,
   "id": "0b934dca",
   "metadata": {},
   "outputs": [],
   "source": []
  },
  {
   "cell_type": "markdown",
   "id": "c4b6e189",
   "metadata": {},
   "source": [
    "9. `f = True`"
   ]
  },
  {
   "cell_type": "code",
   "execution_count": null,
   "id": "759ba5bd",
   "metadata": {
    "scrolled": true
   },
   "outputs": [],
   "source": []
  },
  {
   "cell_type": "markdown",
   "id": "375e05b8",
   "metadata": {},
   "source": [
    "#### 2. feladat - Műveletek változókkal\n",
    "Vizsgáljuk meg a típusukat a következő értékeknek\n",
    "\n",
    "`a = 2` `b = 4` `c = 3`\n",
    "\n",
    "1. `c = a + b`\n",
    "    Mennyi lesz `c`?"
   ]
  },
  {
   "cell_type": "code",
   "execution_count": 20,
   "id": "4ba17b38",
   "metadata": {},
   "outputs": [],
   "source": [
    "a = 2; b= 4; c=3"
   ]
  },
  {
   "cell_type": "markdown",
   "id": "647f947f",
   "metadata": {},
   "source": [
    "2. `f == true`"
   ]
  },
  {
   "cell_type": "code",
   "execution_count": null,
   "id": "80f42a72",
   "metadata": {},
   "outputs": [],
   "source": []
  },
  {
   "cell_type": "markdown",
   "id": "2bfbb70d",
   "metadata": {},
   "source": [
    "3. `f == True`"
   ]
  },
  {
   "cell_type": "code",
   "execution_count": null,
   "id": "b74d1132",
   "metadata": {},
   "outputs": [],
   "source": []
  },
  {
   "cell_type": "markdown",
   "id": "14dd7ea6",
   "metadata": {},
   "source": [
    "4. `c = a + (b == 2)`\n",
    "    Mennyi lesz `c`?"
   ]
  },
  {
   "cell_type": "code",
   "execution_count": 21,
   "id": "1b39c800",
   "metadata": {},
   "outputs": [],
   "source": [
    "c = a + (b == 2)"
   ]
  }
 ],
 "metadata": {
  "kernelspec": {
   "display_name": "Python 3 (ipykernel)",
   "language": "python",
   "name": "python3"
  },
  "language_info": {
   "codemirror_mode": {
    "name": "ipython",
    "version": 3
   },
   "file_extension": ".py",
   "mimetype": "text/x-python",
   "name": "python",
   "nbconvert_exporter": "python",
   "pygments_lexer": "ipython3",
   "version": "3.9.12"
  }
 },
 "nbformat": 4,
 "nbformat_minor": 5
}
