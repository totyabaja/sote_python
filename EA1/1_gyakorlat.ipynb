{
 "cells": [
  {
   "cell_type": "markdown",
   "id": "f17e5bae",
   "metadata": {},
   "source": [
    "## 1. előadás -  Python\n",
    "\n",
    "### 2022. szeptember 15.\n",
    "\n",
    "#### Dr. Tóth Zoltán és Dr. Tamus Zoltán Ádám"
   ]
  },
  {
   "cell_type": "markdown",
   "id": "84d5e2f3",
   "metadata": {},
   "source": [
    "#### 1. feladat\n",
    "Vizsgáljuk meg az alábbi műveleteket:\n",
    "1. `1 + 2`"
   ]
  },
  {
   "cell_type": "code",
   "execution_count": null,
   "id": "7fe74e0a",
   "metadata": {},
   "outputs": [],
   "source": []
  },
  {
   "cell_type": "markdown",
   "id": "63f12a9f",
   "metadata": {},
   "source": [
    "2. `\"a\" + 2`"
   ]
  },
  {
   "cell_type": "code",
   "execution_count": null,
   "id": "634a304b",
   "metadata": {},
   "outputs": [],
   "source": []
  },
  {
   "cell_type": "markdown",
   "id": "27ab5260",
   "metadata": {},
   "source": [
    "3. `2 + \"1\"`"
   ]
  },
  {
   "cell_type": "code",
   "execution_count": null,
   "id": "d3b341c2",
   "metadata": {},
   "outputs": [],
   "source": []
  },
  {
   "cell_type": "markdown",
   "id": "43e23de9",
   "metadata": {},
   "source": [
    "4. `\"1\" + 2`"
   ]
  },
  {
   "cell_type": "code",
   "execution_count": null,
   "id": "5bb585b6",
   "metadata": {},
   "outputs": [],
   "source": []
  },
  {
   "cell_type": "markdown",
   "id": "aa7095bc",
   "metadata": {},
   "source": [
    "5. `\"a\" + \"b\"`"
   ]
  },
  {
   "cell_type": "code",
   "execution_count": null,
   "id": "f188e6da",
   "metadata": {},
   "outputs": [],
   "source": []
  },
  {
   "cell_type": "markdown",
   "id": "32a3cf09",
   "metadata": {},
   "source": [
    "#### 2. feladat - Változók típusai\n",
    "Vizsgáljuk meg a típusukat a következő értékeknek\n",
    "1. `a = 2`"
   ]
  },
  {
   "cell_type": "code",
   "execution_count": null,
   "id": "3242b932",
   "metadata": {},
   "outputs": [],
   "source": []
  },
  {
   "cell_type": "markdown",
   "id": "c96c2bda",
   "metadata": {},
   "source": [
    "2. `b = 2.0`"
   ]
  },
  {
   "cell_type": "code",
   "execution_count": null,
   "id": "2fd0024a",
   "metadata": {},
   "outputs": [],
   "source": []
  },
  {
   "cell_type": "markdown",
   "id": "d4a6d1c2",
   "metadata": {},
   "source": [
    "3. `c = 2E3`"
   ]
  },
  {
   "cell_type": "code",
   "execution_count": null,
   "id": "527ebc7d",
   "metadata": {},
   "outputs": [],
   "source": []
  },
  {
   "cell_type": "markdown",
   "id": "e09d96df",
   "metadata": {},
   "source": [
    "4. `d = 2/3`"
   ]
  },
  {
   "cell_type": "code",
   "execution_count": null,
   "id": "62c958ec",
   "metadata": {},
   "outputs": [],
   "source": []
  },
  {
   "cell_type": "markdown",
   "id": "ed2879ee",
   "metadata": {},
   "source": [
    "5. `e = \"a\"`"
   ]
  },
  {
   "cell_type": "code",
   "execution_count": null,
   "id": "395c5be7",
   "metadata": {},
   "outputs": [],
   "source": []
  },
  {
   "cell_type": "markdown",
   "id": "692f515b",
   "metadata": {},
   "source": [
    "6. `f = a / b`"
   ]
  },
  {
   "cell_type": "code",
   "execution_count": null,
   "id": "bf99c2ad",
   "metadata": {},
   "outputs": [],
   "source": []
  },
  {
   "cell_type": "markdown",
   "id": "d87bdcf4",
   "metadata": {},
   "source": [
    "7. `f = b / a`"
   ]
  },
  {
   "cell_type": "code",
   "execution_count": null,
   "id": "8b4904eb",
   "metadata": {},
   "outputs": [],
   "source": []
  },
  {
   "cell_type": "markdown",
   "id": "7fa12380",
   "metadata": {},
   "source": [
    "8. `f = a / b`"
   ]
  },
  {
   "cell_type": "code",
   "execution_count": null,
   "id": "0b934dca",
   "metadata": {},
   "outputs": [],
   "source": []
  },
  {
   "cell_type": "markdown",
   "id": "c4b6e189",
   "metadata": {},
   "source": [
    "9. `f = True`"
   ]
  },
  {
   "cell_type": "code",
   "execution_count": null,
   "id": "759ba5bd",
   "metadata": {
    "scrolled": true
   },
   "outputs": [],
   "source": []
  },
  {
   "cell_type": "markdown",
   "id": "375e05b8",
   "metadata": {},
   "source": [
    "#### 3. feladat - Műveletek változókkal\n",
    "Vizsgáljuk meg a típusukat a következő értékeknek\n",
    "\n",
    "`a = 2` `b = 4` `c = 3`\n",
    "\n",
    "1. `c = a + b`\n",
    "    Mennyi lesz `c`?"
   ]
  },
  {
   "cell_type": "code",
   "execution_count": 20,
   "id": "4ba17b38",
   "metadata": {},
   "outputs": [],
   "source": [
    "a = 2; b= 4; c=3"
   ]
  },
  {
   "cell_type": "markdown",
   "id": "647f947f",
   "metadata": {},
   "source": [
    "2. `f == true`"
   ]
  },
  {
   "cell_type": "code",
   "execution_count": null,
   "id": "80f42a72",
   "metadata": {},
   "outputs": [],
   "source": []
  },
  {
   "cell_type": "markdown",
   "id": "2bfbb70d",
   "metadata": {},
   "source": [
    "3. `f == True`"
   ]
  },
  {
   "cell_type": "code",
   "execution_count": null,
   "id": "b74d1132",
   "metadata": {},
   "outputs": [],
   "source": []
  },
  {
   "cell_type": "markdown",
   "id": "14dd7ea6",
   "metadata": {},
   "source": [
    "4. `c = a + (b == 2)`\n",
    "    Mennyi lesz `c`?"
   ]
  },
  {
   "cell_type": "code",
   "execution_count": 21,
   "id": "1b39c800",
   "metadata": {},
   "outputs": [],
   "source": [
    "c = a + (b == 2)"
   ]
  },
  {
   "cell_type": "markdown",
   "id": "bfa0f239",
   "metadata": {},
   "source": [
    "#### 4. feladat - Műveletek gyakorlása\n",
    "Műveleti sorrendek\n",
    "\n",
    "1. `3 + 4`\n",
    "2. `3 * 4`\n",
    "3. `3 / 4`\n",
    "4. `3 + 4 / 2 * 4`\n",
    "5. `3 + (4 / 2) * 4`\n",
    "6. `(3 + 4) / 2 * 4`\n",
    "7. `(3 + 4) / 2 ** 4`"
   ]
  },
  {
   "cell_type": "code",
   "execution_count": null,
   "id": "c3854627",
   "metadata": {},
   "outputs": [],
   "source": []
  },
  {
   "cell_type": "code",
   "execution_count": null,
   "id": "5a52e4ac",
   "metadata": {},
   "outputs": [],
   "source": []
  },
  {
   "cell_type": "code",
   "execution_count": null,
   "id": "b1203ad8",
   "metadata": {},
   "outputs": [],
   "source": []
  },
  {
   "cell_type": "code",
   "execution_count": null,
   "id": "03a74ee7",
   "metadata": {},
   "outputs": [],
   "source": []
  },
  {
   "cell_type": "code",
   "execution_count": null,
   "id": "bace9159",
   "metadata": {},
   "outputs": [],
   "source": []
  },
  {
   "cell_type": "code",
   "execution_count": null,
   "id": "7fc181c1",
   "metadata": {},
   "outputs": [],
   "source": []
  },
  {
   "cell_type": "code",
   "execution_count": null,
   "id": "6a84224c",
   "metadata": {},
   "outputs": [],
   "source": []
  },
  {
   "cell_type": "markdown",
   "id": "2e7f277f",
   "metadata": {},
   "source": [
    "#### 5. feladat - Műveletek gyakorlása\n",
    "Műveletek, moduló\n",
    "(Irodai alkalamzásokon: `MARADÉK()`)\n",
    "\n",
    "1. `10 % 2`\n",
    "2. `10 % 3`\n",
    "3. `10 % 4`\n",
    "4. `10 % 7`"
   ]
  },
  {
   "cell_type": "code",
   "execution_count": null,
   "id": "984d6466",
   "metadata": {},
   "outputs": [],
   "source": []
  },
  {
   "cell_type": "code",
   "execution_count": null,
   "id": "6c53c207",
   "metadata": {},
   "outputs": [],
   "source": []
  },
  {
   "cell_type": "code",
   "execution_count": null,
   "id": "5d6031eb",
   "metadata": {},
   "outputs": [],
   "source": []
  },
  {
   "cell_type": "code",
   "execution_count": null,
   "id": "e3bbdce0",
   "metadata": {},
   "outputs": [],
   "source": []
  },
  {
   "cell_type": "markdown",
   "id": "6ff040df",
   "metadata": {},
   "source": [
    "#### 6. feladat - Műveletek gyakorlása\n",
    "Műveletek, moduló\n",
    "(Irodai alkalamzásokon: `MARADÉK()`)\n",
    "\n",
    "1. `10 // 2`\n",
    "2. `10 // 3`\n",
    "3. `10 // 4`\n",
    "4. `10 // 7`"
   ]
  },
  {
   "cell_type": "code",
   "execution_count": null,
   "id": "61aa0bed",
   "metadata": {},
   "outputs": [],
   "source": []
  },
  {
   "cell_type": "code",
   "execution_count": null,
   "id": "5b4397ad",
   "metadata": {},
   "outputs": [],
   "source": []
  },
  {
   "cell_type": "code",
   "execution_count": null,
   "id": "6325c029",
   "metadata": {},
   "outputs": [],
   "source": []
  },
  {
   "cell_type": "code",
   "execution_count": null,
   "id": "ea662472",
   "metadata": {},
   "outputs": [],
   "source": []
  },
  {
   "cell_type": "markdown",
   "id": "da06f9ba",
   "metadata": {},
   "source": [
    "#### 7. feladat - Műveletek szöveggel\n",
    "`print(object(s), sep=separator, end=end, file=file, flush=flush)`\n",
    "\n",
    "1. `print(\"Hello Word!\")`\n",
    "2. `print('Hello Word!')`\n",
    "3. `print(\"Hello \\' Word!\")`\n",
    "4. `print(\"Hello \\n Word!\")`\n",
    "5. `print(\"Hello\", \"Word!\")`\n",
    "6. `print(\"Hello\" + \"Word!\")`\n",
    "7. `print('Hello World!'[1])`\n",
    "8. `print('Hello World!'[0])` (Itt a 0 az első!)\n",
    "9. `print('Hello World!'[15])` (Itt Index error!)\n",
    "10. `nevem = \"Zoli\"; print(\"Hello\", nevem)`"
   ]
  },
  {
   "cell_type": "code",
   "execution_count": null,
   "id": "1c753d90",
   "metadata": {},
   "outputs": [],
   "source": []
  },
  {
   "cell_type": "code",
   "execution_count": null,
   "id": "d3a4f772",
   "metadata": {},
   "outputs": [],
   "source": []
  },
  {
   "cell_type": "code",
   "execution_count": null,
   "id": "c2eaa79c",
   "metadata": {},
   "outputs": [],
   "source": []
  },
  {
   "cell_type": "code",
   "execution_count": null,
   "id": "d7019049",
   "metadata": {},
   "outputs": [],
   "source": []
  },
  {
   "cell_type": "code",
   "execution_count": null,
   "id": "1706c427",
   "metadata": {},
   "outputs": [],
   "source": []
  },
  {
   "cell_type": "code",
   "execution_count": null,
   "id": "92ab761d",
   "metadata": {},
   "outputs": [],
   "source": []
  },
  {
   "cell_type": "code",
   "execution_count": null,
   "id": "68f368a9",
   "metadata": {},
   "outputs": [],
   "source": []
  },
  {
   "cell_type": "code",
   "execution_count": null,
   "id": "18e2d267",
   "metadata": {},
   "outputs": [],
   "source": []
  },
  {
   "cell_type": "code",
   "execution_count": null,
   "id": "9eac9326",
   "metadata": {},
   "outputs": [],
   "source": []
  },
  {
   "cell_type": "code",
   "execution_count": null,
   "id": "d38476dc",
   "metadata": {},
   "outputs": [],
   "source": []
  },
  {
   "cell_type": "markdown",
   "id": "0e8015f8",
   "metadata": {},
   "source": [
    "#### 8. feladat - Műveletek szöveggel\n",
    "##### Bevitel\n",
    "var = input(\"Írj be valamit!\")"
   ]
  },
  {
   "cell_type": "code",
   "execution_count": null,
   "id": "5dbb8533",
   "metadata": {},
   "outputs": [],
   "source": []
  },
  {
   "cell_type": "markdown",
   "id": "6f648a6c",
   "metadata": {},
   "source": [
    "##### Feladatok\n",
    "1.\tKészíts programot, amely bekéri a felhasználó nevét, majd üdvözli őt a nevén szólítva!\n",
    "2.\tKészíts programot, ami bekéri a vezeték majd a keresztnevét, majd a teljes nevén üdvözli!\n",
    "3.\tÍrj programot, ami bekéri egy kör sugarát, majd kiszámítja a kerületét és a területét!\n",
    "4.\tÍrj programot, amely a felhasználótól bekéri két síkbeli pont x és y koordinátáit, és kiírja a közéjük húzott egyenes szakasz hosszát (Pitagorasz tétel)!\n",
    "5.\tSzobafestés. Készíts programot, ami bekéri a szoba szélességét, hosszát és magasságát, majd megmondja hány doboz festéket kell venni! Egy doboz festék 5m2 festésére elég."
   ]
  },
  {
   "cell_type": "code",
   "execution_count": null,
   "id": "918be9b2",
   "metadata": {},
   "outputs": [],
   "source": []
  },
  {
   "cell_type": "code",
   "execution_count": null,
   "id": "75c15d95",
   "metadata": {},
   "outputs": [],
   "source": []
  },
  {
   "cell_type": "code",
   "execution_count": null,
   "id": "23c7e885",
   "metadata": {},
   "outputs": [],
   "source": []
  },
  {
   "cell_type": "code",
   "execution_count": null,
   "id": "a4ca8164",
   "metadata": {},
   "outputs": [],
   "source": []
  },
  {
   "cell_type": "code",
   "execution_count": null,
   "id": "950dfca5",
   "metadata": {},
   "outputs": [],
   "source": []
  }
 ],
 "metadata": {
  "kernelspec": {
   "display_name": "Python 3 (ipykernel)",
   "language": "python",
   "name": "python3"
  },
  "language_info": {
   "codemirror_mode": {
    "name": "ipython",
    "version": 3
   },
   "file_extension": ".py",
   "mimetype": "text/x-python",
   "name": "python",
   "nbconvert_exporter": "python",
   "pygments_lexer": "ipython3",
   "version": "3.9.12"
  }
 },
 "nbformat": 4,
 "nbformat_minor": 5
}
