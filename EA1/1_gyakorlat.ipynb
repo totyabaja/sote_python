{
 "cells": [
  {
   "cell_type": "markdown",
   "id": "f17e5bae",
   "metadata": {},
   "source": [
    "## 1. előadás -  Python\n",
    "\n",
    "### 2022. szeptember 15.\n",
    "\n",
    "#### Dr. Tóth Zoltán és Dr. Tamus Zoltán Ádám"
   ]
  },
  {
   "cell_type": "markdown",
   "id": "84d5e2f3",
   "metadata": {},
   "source": [
    "#### 1. feladat\n",
    "Vizsgáljuk meg az alábbi műveleteket:\n",
    "1. `1 + 2`"
   ]
  },
  {
   "cell_type": "code",
   "execution_count": 3,
   "id": "7fe74e0a",
   "metadata": {},
   "outputs": [
    {
     "data": {
      "text/plain": [
       "3"
      ]
     },
     "execution_count": 3,
     "metadata": {},
     "output_type": "execute_result"
    }
   ],
   "source": [
    "1+2"
   ]
  },
  {
   "cell_type": "markdown",
   "id": "63f12a9f",
   "metadata": {},
   "source": [
    "2. `\"a\" + 2`"
   ]
  },
  {
   "cell_type": "code",
   "execution_count": 4,
   "id": "634a304b",
   "metadata": {},
   "outputs": [
    {
     "ename": "TypeError",
     "evalue": "can only concatenate str (not \"int\") to str",
     "output_type": "error",
     "traceback": [
      "\u001b[0;31m---------------------------------------------------------------------------\u001b[0m",
      "\u001b[0;31mTypeError\u001b[0m                                 Traceback (most recent call last)",
      "Input \u001b[0;32mIn [4]\u001b[0m, in \u001b[0;36m<cell line: 1>\u001b[0;34m()\u001b[0m\n\u001b[0;32m----> 1\u001b[0m \u001b[38;5;124;43m\"\u001b[39;49m\u001b[38;5;124;43ma\u001b[39;49m\u001b[38;5;124;43m\"\u001b[39;49m\u001b[38;5;241;43m+\u001b[39;49m\u001b[38;5;241;43m2\u001b[39;49m\n",
      "\u001b[0;31mTypeError\u001b[0m: can only concatenate str (not \"int\") to str"
     ]
    }
   ],
   "source": [
    "\"a\"+2"
   ]
  },
  {
   "cell_type": "markdown",
   "id": "27ab5260",
   "metadata": {},
   "source": [
    "3. `2 + \"1\"`"
   ]
  },
  {
   "cell_type": "code",
   "execution_count": 5,
   "id": "d3b341c2",
   "metadata": {},
   "outputs": [
    {
     "ename": "TypeError",
     "evalue": "unsupported operand type(s) for +: 'int' and 'str'",
     "output_type": "error",
     "traceback": [
      "\u001b[0;31m---------------------------------------------------------------------------\u001b[0m",
      "\u001b[0;31mTypeError\u001b[0m                                 Traceback (most recent call last)",
      "Input \u001b[0;32mIn [5]\u001b[0m, in \u001b[0;36m<cell line: 1>\u001b[0;34m()\u001b[0m\n\u001b[0;32m----> 1\u001b[0m \u001b[38;5;241;43m2\u001b[39;49m\u001b[38;5;241;43m+\u001b[39;49m\u001b[38;5;124;43m\"\u001b[39;49m\u001b[38;5;124;43m1\u001b[39;49m\u001b[38;5;124;43m\"\u001b[39;49m\n",
      "\u001b[0;31mTypeError\u001b[0m: unsupported operand type(s) for +: 'int' and 'str'"
     ]
    }
   ],
   "source": [
    "2+\"1\""
   ]
  },
  {
   "cell_type": "markdown",
   "id": "43e23de9",
   "metadata": {},
   "source": [
    "4. `\"1\" + 2`"
   ]
  },
  {
   "cell_type": "code",
   "execution_count": 6,
   "id": "5bb585b6",
   "metadata": {},
   "outputs": [
    {
     "ename": "TypeError",
     "evalue": "can only concatenate str (not \"int\") to str",
     "output_type": "error",
     "traceback": [
      "\u001b[0;31m---------------------------------------------------------------------------\u001b[0m",
      "\u001b[0;31mTypeError\u001b[0m                                 Traceback (most recent call last)",
      "Input \u001b[0;32mIn [6]\u001b[0m, in \u001b[0;36m<cell line: 1>\u001b[0;34m()\u001b[0m\n\u001b[0;32m----> 1\u001b[0m \u001b[38;5;124;43m\"\u001b[39;49m\u001b[38;5;124;43m1\u001b[39;49m\u001b[38;5;124;43m\"\u001b[39;49m\u001b[38;5;241;43m+\u001b[39;49m\u001b[38;5;241;43m2\u001b[39;49m\n",
      "\u001b[0;31mTypeError\u001b[0m: can only concatenate str (not \"int\") to str"
     ]
    }
   ],
   "source": [
    "\"1\"+2"
   ]
  },
  {
   "cell_type": "markdown",
   "id": "aa7095bc",
   "metadata": {},
   "source": [
    "5. `\"a\" + \"b\"`"
   ]
  },
  {
   "cell_type": "code",
   "execution_count": 7,
   "id": "f188e6da",
   "metadata": {},
   "outputs": [
    {
     "data": {
      "text/plain": [
       "'ab'"
      ]
     },
     "execution_count": 7,
     "metadata": {},
     "output_type": "execute_result"
    }
   ],
   "source": [
    "\"a\"+\"b\""
   ]
  },
  {
   "cell_type": "markdown",
   "id": "32a3cf09",
   "metadata": {},
   "source": [
    "#### 2. feladat - Változók típusai\n",
    "Vizsgáljuk meg a típusukat a következő értékeknek\n",
    "1. `a = 2`"
   ]
  },
  {
   "cell_type": "code",
   "execution_count": 8,
   "id": "3242b932",
   "metadata": {},
   "outputs": [
    {
     "data": {
      "text/plain": [
       "int"
      ]
     },
     "execution_count": 8,
     "metadata": {},
     "output_type": "execute_result"
    }
   ],
   "source": [
    "type(2)"
   ]
  },
  {
   "cell_type": "markdown",
   "id": "c96c2bda",
   "metadata": {},
   "source": [
    "2. `b = 2.0`"
   ]
  },
  {
   "cell_type": "code",
   "execution_count": 10,
   "id": "2fd0024a",
   "metadata": {},
   "outputs": [
    {
     "data": {
      "text/plain": [
       "True"
      ]
     },
     "execution_count": 10,
     "metadata": {},
     "output_type": "execute_result"
    }
   ],
   "source": [
    "type(2.0)\n",
    "2==2.0"
   ]
  },
  {
   "cell_type": "markdown",
   "id": "d4a6d1c2",
   "metadata": {},
   "source": [
    "3. `c = 2E3`"
   ]
  },
  {
   "cell_type": "code",
   "execution_count": 13,
   "id": "527ebc7d",
   "metadata": {},
   "outputs": [
    {
     "name": "stdout",
     "output_type": "stream",
     "text": [
      "0.002\n"
     ]
    }
   ],
   "source": [
    "print(2E-3)"
   ]
  },
  {
   "cell_type": "markdown",
   "id": "e09d96df",
   "metadata": {},
   "source": [
    "4. `d = 2/3`"
   ]
  },
  {
   "cell_type": "code",
   "execution_count": 15,
   "id": "62c958ec",
   "metadata": {},
   "outputs": [
    {
     "data": {
      "text/plain": [
       "float"
      ]
     },
     "execution_count": 15,
     "metadata": {},
     "output_type": "execute_result"
    }
   ],
   "source": [
    "type(2/1)"
   ]
  },
  {
   "cell_type": "markdown",
   "id": "ed2879ee",
   "metadata": {},
   "source": [
    "5. `e = \"a\"`"
   ]
  },
  {
   "cell_type": "code",
   "execution_count": 17,
   "id": "395c5be7",
   "metadata": {},
   "outputs": [
    {
     "data": {
      "text/plain": [
       "str"
      ]
     },
     "execution_count": 17,
     "metadata": {},
     "output_type": "execute_result"
    }
   ],
   "source": [
    "type('a')"
   ]
  },
  {
   "cell_type": "markdown",
   "id": "692f515b",
   "metadata": {},
   "source": [
    "6. `f = a / b`"
   ]
  },
  {
   "cell_type": "code",
   "execution_count": 18,
   "id": "bf99c2ad",
   "metadata": {},
   "outputs": [
    {
     "data": {
      "text/plain": [
       "float"
      ]
     },
     "execution_count": 18,
     "metadata": {},
     "output_type": "execute_result"
    }
   ],
   "source": [
    "a=2\n",
    "b=3\n",
    "f=a/b\n",
    "type(f)"
   ]
  },
  {
   "cell_type": "markdown",
   "id": "d87bdcf4",
   "metadata": {},
   "source": [
    "7. `f = b / a`"
   ]
  },
  {
   "cell_type": "code",
   "execution_count": 19,
   "id": "8b4904eb",
   "metadata": {},
   "outputs": [
    {
     "data": {
      "text/plain": [
       "float"
      ]
     },
     "execution_count": 19,
     "metadata": {},
     "output_type": "execute_result"
    }
   ],
   "source": [
    "type(b/a)"
   ]
  },
  {
   "cell_type": "markdown",
   "id": "7fa12380",
   "metadata": {},
   "source": [
    "8. `f = a / b`"
   ]
  },
  {
   "cell_type": "code",
   "execution_count": 20,
   "id": "0b934dca",
   "metadata": {},
   "outputs": [],
   "source": [
    "f=a/b"
   ]
  },
  {
   "cell_type": "markdown",
   "id": "c4b6e189",
   "metadata": {},
   "source": [
    "9. `f = True`"
   ]
  },
  {
   "cell_type": "code",
   "execution_count": 21,
   "id": "759ba5bd",
   "metadata": {
    "scrolled": true
   },
   "outputs": [
    {
     "data": {
      "text/plain": [
       "bool"
      ]
     },
     "execution_count": 21,
     "metadata": {},
     "output_type": "execute_result"
    }
   ],
   "source": [
    "f=True\n",
    "type(f)"
   ]
  },
  {
   "cell_type": "markdown",
   "id": "375e05b8",
   "metadata": {},
   "source": [
    "#### 3. feladat - Műveletek változókkal\n",
    "Vizsgáljuk meg a típusukat a következő értékeknek\n",
    "\n",
    "`a = 2` `b = 4` `c = 3`\n",
    "\n",
    "1. `c = a + b`\n",
    "    Mennyi lesz `c`?"
   ]
  },
  {
   "cell_type": "code",
   "execution_count": 25,
   "id": "4ba17b38",
   "metadata": {},
   "outputs": [
    {
     "name": "stdout",
     "output_type": "stream",
     "text": [
      "6\n"
     ]
    }
   ],
   "source": [
    "a = 2\n",
    "b = 4\n",
    "c = 3\n",
    "c = a+b\n",
    "print(c)"
   ]
  },
  {
   "cell_type": "markdown",
   "id": "647f947f",
   "metadata": {},
   "source": [
    "2. `f == true`"
   ]
  },
  {
   "cell_type": "code",
   "execution_count": 26,
   "id": "80f42a72",
   "metadata": {},
   "outputs": [
    {
     "ename": "NameError",
     "evalue": "name 'true' is not defined",
     "output_type": "error",
     "traceback": [
      "\u001b[0;31m---------------------------------------------------------------------------\u001b[0m",
      "\u001b[0;31mNameError\u001b[0m                                 Traceback (most recent call last)",
      "Input \u001b[0;32mIn [26]\u001b[0m, in \u001b[0;36m<cell line: 1>\u001b[0;34m()\u001b[0m\n\u001b[0;32m----> 1\u001b[0m f\u001b[38;5;241m==\u001b[39m\u001b[43mtrue\u001b[49m\n",
      "\u001b[0;31mNameError\u001b[0m: name 'true' is not defined"
     ]
    }
   ],
   "source": [
    "f==true"
   ]
  },
  {
   "cell_type": "markdown",
   "id": "2bfbb70d",
   "metadata": {},
   "source": [
    "3. `f == True`"
   ]
  },
  {
   "cell_type": "code",
   "execution_count": 29,
   "id": "b74d1132",
   "metadata": {},
   "outputs": [
    {
     "data": {
      "text/plain": [
       "True"
      ]
     },
     "execution_count": 29,
     "metadata": {},
     "output_type": "execute_result"
    }
   ],
   "source": [
    "f==True"
   ]
  },
  {
   "cell_type": "markdown",
   "id": "14dd7ea6",
   "metadata": {},
   "source": [
    "4. `c = a + (b == 2)`\n",
    "    Mennyi lesz `c`?"
   ]
  },
  {
   "cell_type": "code",
   "execution_count": 32,
   "id": "1b39c800",
   "metadata": {},
   "outputs": [
    {
     "name": "stdout",
     "output_type": "stream",
     "text": [
      "3\n"
     ]
    }
   ],
   "source": [
    "c = a + (b == 4)\n",
    "print(c)"
   ]
  },
  {
   "cell_type": "markdown",
   "id": "4a30f3f5",
   "metadata": {},
   "source": [
    "#### 4. feladat - Műveletek gyakorlása\n",
    "Műveleti sorrendek\n",
    "\n",
    "1. `3 + 4`\n",
    "2. `3 * 4`\n",
    "3. `3 / 4`\n",
    "4. `3 + 4 / 2 * 4`\n",
    "5. `3 + (4 / 2) * 4`\n",
    "6. `(3 + 4) / 2 * 4`\n",
    "7. `(3 + 4) / 2 ** 4`"
   ]
  },
  {
   "cell_type": "code",
   "execution_count": 33,
   "id": "2c82ef5b",
   "metadata": {},
   "outputs": [
    {
     "name": "stdout",
     "output_type": "stream",
     "text": [
      "7\n"
     ]
    }
   ],
   "source": [
    "print(3+4)"
   ]
  },
  {
   "cell_type": "code",
   "execution_count": 34,
   "id": "d9122641",
   "metadata": {},
   "outputs": [
    {
     "name": "stdout",
     "output_type": "stream",
     "text": [
      "12\n"
     ]
    }
   ],
   "source": [
    "print(3*4)"
   ]
  },
  {
   "cell_type": "code",
   "execution_count": 35,
   "id": "928f44c9",
   "metadata": {},
   "outputs": [
    {
     "name": "stdout",
     "output_type": "stream",
     "text": [
      "0.75\n"
     ]
    }
   ],
   "source": [
    "print(3 / 4)"
   ]
  },
  {
   "cell_type": "code",
   "execution_count": null,
   "id": "0addd4e9",
   "metadata": {},
   "outputs": [],
   "source": [
    "print(3 + 4 / 2 * 4)"
   ]
  },
  {
   "cell_type": "code",
   "execution_count": null,
   "id": "ca48aea7",
   "metadata": {},
   "outputs": [],
   "source": []
  },
  {
   "cell_type": "code",
   "execution_count": null,
   "id": "92dcfa89",
   "metadata": {},
   "outputs": [],
   "source": []
  },
  {
   "cell_type": "code",
   "execution_count": null,
   "id": "f8b42e05",
   "metadata": {},
   "outputs": [],
   "source": []
  },
  {
   "cell_type": "markdown",
   "id": "96f2a89d",
   "metadata": {},
   "source": [
    "#### 5. feladat - Műveletek gyakorlása\n",
    "Műveletek, moduló\n",
    "(Irodai alkalamzásokon: `MARADÉK()`)\n",
    "\n",
    "1. `10 % 2`\n",
    "2. `10 % 3`\n",
    "3. `10 % 4`\n",
    "4. `10 % 7`"
   ]
  },
  {
   "cell_type": "code",
   "execution_count": null,
   "id": "9dfde446",
   "metadata": {},
   "outputs": [],
   "source": []
  },
  {
   "cell_type": "code",
   "execution_count": null,
   "id": "b6345ca4",
   "metadata": {},
   "outputs": [],
   "source": []
  },
  {
   "cell_type": "code",
   "execution_count": null,
   "id": "235351a4",
   "metadata": {},
   "outputs": [],
   "source": []
  },
  {
   "cell_type": "code",
   "execution_count": null,
   "id": "d5f7adba",
   "metadata": {},
   "outputs": [],
   "source": []
  },
  {
   "cell_type": "markdown",
   "id": "e54cfdd4",
   "metadata": {},
   "source": [
    "#### 6. feladat - Műveletek gyakorlása\n",
    "Műveletek, moduló\n",
    "(Irodai alkalamzásokon: `KÓCIENS()`)\n",
    "\n",
    "1. `10 // 2`\n",
    "2. `10 // 3`\n",
    "3. `10 // 4`\n",
    "4. `10 // 7`"
   ]
  },
  {
   "cell_type": "code",
   "execution_count": null,
   "id": "d9111edf",
   "metadata": {},
   "outputs": [],
   "source": []
  },
  {
   "cell_type": "code",
   "execution_count": null,
   "id": "441a768c",
   "metadata": {},
   "outputs": [],
   "source": []
  },
  {
   "cell_type": "code",
   "execution_count": null,
   "id": "d4e873cd",
   "metadata": {},
   "outputs": [],
   "source": []
  },
  {
   "cell_type": "code",
   "execution_count": null,
   "id": "13f7b111",
   "metadata": {},
   "outputs": [],
   "source": []
  },
  {
   "cell_type": "markdown",
   "id": "021abecc",
   "metadata": {},
   "source": [
    "#### 7. feladat - Műveletek szöveggel\n",
    "`print(object(s), sep=separator, end=end, file=file, flush=flush)`\n",
    "\n",
    "1. `print(\"Hello Word!\")`\n",
    "2. `print('Hello Word!')`\n",
    "3. `print(\"Hello \\' Word!\")`\n",
    "4. `print(\"Hello \\n Word!\")`\n",
    "5. `print(\"Hello\", \"Word!\")`\n",
    "6. `print(\"Hello\" + \"Word!\")`\n",
    "7. `print('Hello World!'[1])`\n",
    "8. `print('Hello World!'[0])` (Itt a 0 az első!)\n",
    "9. `print('Hello World!'[15])` (Itt Index error!)\n",
    "10. `nevem = \"Zoli\"; print(\"Hello\", nevem)`"
   ]
  },
  {
   "cell_type": "code",
   "execution_count": null,
   "id": "7084f892",
   "metadata": {},
   "outputs": [],
   "source": []
  },
  {
   "cell_type": "code",
   "execution_count": null,
   "id": "88c07214",
   "metadata": {},
   "outputs": [],
   "source": []
  },
  {
   "cell_type": "code",
   "execution_count": null,
   "id": "c4466a93",
   "metadata": {},
   "outputs": [],
   "source": []
  },
  {
   "cell_type": "code",
   "execution_count": null,
   "id": "cece7919",
   "metadata": {},
   "outputs": [],
   "source": []
  },
  {
   "cell_type": "code",
   "execution_count": null,
   "id": "9f078363",
   "metadata": {},
   "outputs": [],
   "source": []
  },
  {
   "cell_type": "code",
   "execution_count": null,
   "id": "26952c5b",
   "metadata": {},
   "outputs": [],
   "source": []
  },
  {
   "cell_type": "code",
   "execution_count": null,
   "id": "bcede419",
   "metadata": {},
   "outputs": [],
   "source": []
  },
  {
   "cell_type": "code",
   "execution_count": null,
   "id": "73c5e0dd",
   "metadata": {},
   "outputs": [],
   "source": []
  },
  {
   "cell_type": "code",
   "execution_count": null,
   "id": "4ca2557f",
   "metadata": {},
   "outputs": [],
   "source": []
  },
  {
   "cell_type": "code",
   "execution_count": null,
   "id": "8159aacb",
   "metadata": {},
   "outputs": [],
   "source": []
  },
  {
   "cell_type": "markdown",
   "id": "566569aa",
   "metadata": {},
   "source": [
    "#### 8. feladat - Műveletek szöveggel\n",
    "##### Bevitel\n",
    "var = input(\"Írj be valamit!\")"
   ]
  },
  {
   "cell_type": "code",
   "execution_count": null,
   "id": "e7ae6223",
   "metadata": {},
   "outputs": [],
   "source": []
  },
  {
   "cell_type": "markdown",
   "id": "62f96bd8",
   "metadata": {},
   "source": [
    "##### Feladatok\n",
    "1.\tKészíts programot, amely bekéri a felhasználó nevét, majd üdvözli őt a nevén szólítva!\n",
    "2.\tKészíts programot, ami bekéri a vezeték majd a keresztnevét, majd a teljes nevén üdvözli!\n",
    "3.\tÍrj programot, ami bekéri egy kör sugarát, majd kiszámítja a kerületét és a területét!\n",
    "4.\tÍrj programot, amely a felhasználótól bekéri két síkbeli pont x és y koordinátáit, és kiírja a közéjük húzott egyenes szakasz hosszát (Pitagorasz tétel)!\n",
    "5.\tSzobafestés. Készíts programot, ami bekéri a szoba szélességét, hosszát és magasságát, majd megmondja hány doboz festéket kell venni! Egy doboz festék 5m2 festésére elég."
   ]
  },
  {
   "cell_type": "code",
   "execution_count": null,
   "id": "f9012d4a",
   "metadata": {},
   "outputs": [],
   "source": []
  },
  {
   "cell_type": "code",
   "execution_count": null,
   "id": "578e29de",
   "metadata": {},
   "outputs": [],
   "source": []
  },
  {
   "cell_type": "code",
   "execution_count": null,
   "id": "95c29bbb",
   "metadata": {},
   "outputs": [],
   "source": []
  },
  {
   "cell_type": "code",
   "execution_count": null,
   "id": "59cbe999",
   "metadata": {},
   "outputs": [],
   "source": []
  },
  {
   "cell_type": "code",
   "execution_count": null,
   "id": "ec4e23de",
   "metadata": {},
   "outputs": [],
   "source": []
  }
 ],
 "metadata": {
  "kernelspec": {
   "display_name": "Python 3 (ipykernel)",
   "language": "python",
   "name": "python3"
  },
  "language_info": {
   "codemirror_mode": {
    "name": "ipython",
    "version": 3
   },
   "file_extension": ".py",
   "mimetype": "text/x-python",
   "name": "python",
   "nbconvert_exporter": "python",
   "pygments_lexer": "ipython3",
   "version": "3.9.12"
  }
 },
 "nbformat": 4,
 "nbformat_minor": 5
}
