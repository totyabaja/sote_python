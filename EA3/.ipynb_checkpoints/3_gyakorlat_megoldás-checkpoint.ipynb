{
 "cells": [
  {
   "cell_type": "markdown",
   "id": "3b844519",
   "metadata": {},
   "source": [
    "## 3. előadás -  Python\n",
    "## Az algoritmusok alapelemei \\#2 (for ciklus)\n",
    "## Adatszerkezetek (tömb, lista, sor, verem) \\#1 \n",
    "\n",
    "### 2022. szeptember 29.\n",
    "\n",
    "#### Dr. Tóth Zoltán és Dr. Tamus Zoltán Ádám"
   ]
  },
  {
   "cell_type": "markdown",
   "id": "f746e423",
   "metadata": {},
   "source": [
    "### Ciklusok és iteráció - for\n",
    "\n",
    "A for ciklust úgy lehet a legegyszerűbben összefoglalni mint egy olyan while, aminek van egy értékadó előutasítása és a ciklus végén egy általában értéknövelő utasítás.\n",
    "\n",
    "A while szintaxis, amennyiben 1-től 10-ig akarunk adatot kiírni:\n",
    "\n",
    "`i = 1\n",
    "while i <= 10:\n",
    "    print(i)\n",
    "    i += 1`\n",
    "\n",
    "A for szintaxisa ezzen szemben:\n",
    "\n",
    "`for adatsor_érték in adatsor:\n",
    "    utasítások`\n",
    "    \n",
    "Észrevehetjük, hogy nem azt adjuk meg, hogy mettől meddig, ahnem egy adatsort, amin végiginterálunk (végiglépegetünk egyesével). Természetesen lehetőség van arra is, hogy legeneráljuk az adatsort egy 1 és 10 közötti, 1-gyel növekvő adatsorként.\n",
    "\n",
    "Példa:\n",
    "\n",
    "`for i in range(1, 11, 1):\n",
    "    print(i)`\n",
    "    \n",
    "Ehhez a range függvényt/osztályt kell meghívnunk.\n",
    "\n",
    "Picit nézzük meg részletesebben is, hogy épül fel:\n",
    "\n",
    "`range(mettől, meddig, lépés)`\n",
    "\n",
    "#### 1. feladat\n",
    "Próbáljuk ki az alábbi utasításokat, mi lesz az eredménye.\n",
    "\n",
    "##### 1.1 `range(meddig)`\n",
    "`for i in range(10):\n",
    "    print(i)`"
   ]
  },
  {
   "cell_type": "code",
   "execution_count": 10,
   "id": "70c9c371",
   "metadata": {},
   "outputs": [
    {
     "name": "stdout",
     "output_type": "stream",
     "text": [
      "0\n",
      "1\n",
      "2\n",
      "3\n",
      "4\n",
      "5\n",
      "6\n",
      "7\n",
      "8\n",
      "9\n"
     ]
    }
   ],
   "source": [
    "for i in range(10):\n",
    "    print(i)"
   ]
  },
  {
   "cell_type": "markdown",
   "id": "4c18f2d9",
   "metadata": {},
   "source": [
    "$\\textbf{Megoldás:}$ A tartomány 0 és 9 között fut, a lépésköz pedig 1\n",
    "\n",
    "##### 2.2. `range(1, 10)`\n",
    "`for i in range(1, 10):\n",
    "    print(i)`"
   ]
  },
  {
   "cell_type": "code",
   "execution_count": 5,
   "id": "d35acf56",
   "metadata": {},
   "outputs": [
    {
     "name": "stdout",
     "output_type": "stream",
     "text": [
      "1\n",
      "2\n",
      "3\n",
      "4\n",
      "5\n",
      "6\n",
      "7\n",
      "8\n",
      "9\n"
     ]
    }
   ],
   "source": [
    "for i in range(1, 10):\n",
    "    print(i)"
   ]
  },
  {
   "cell_type": "markdown",
   "id": "f778c5d7",
   "metadata": {},
   "source": [
    "$\\textbf{Megoldás:}$ A tartomány 1 és 9 között fut, a lépésköz pedig 1\n",
    "\n",
    "##### 2.3. `range(1, 10, 2)`\n",
    "`for i in range(1, 10, 2):\n",
    "    print(i)`"
   ]
  },
  {
   "cell_type": "code",
   "execution_count": 7,
   "id": "dc7ec1db",
   "metadata": {},
   "outputs": [
    {
     "name": "stdout",
     "output_type": "stream",
     "text": [
      "1\n",
      "3\n",
      "5\n",
      "7\n",
      "9\n"
     ]
    }
   ],
   "source": [
    "for i in range(1, 10, 2):\n",
    "    print(i)"
   ]
  },
  {
   "cell_type": "markdown",
   "id": "06a60664",
   "metadata": {},
   "source": [
    "$\\textbf{Megoldás:}$ A tartomány 1 és 9 között fut, a lépésköz pedig 2\n",
    "\n",
    "##### 2.4. `range(1, 10, -2)`\n",
    "`for i in range(1, 10, -2):\n",
    "    print(i)`"
   ]
  },
  {
   "cell_type": "code",
   "execution_count": 9,
   "id": "51760e60",
   "metadata": {},
   "outputs": [],
   "source": [
    "for i in range(1, 10, -2):\n",
    "    print(i)"
   ]
  },
  {
   "cell_type": "markdown",
   "id": "03d323ae",
   "metadata": {},
   "source": [
    "$\\textbf{Megoldás:}$ A tartomány 1 és 9 között fut, a lépésköz pedig -2. Mivel ez nem értelmezhető a atrtományban, az adatsor üres.\n",
    "\n",
    "##### 2.5. `range(-10)`\n",
    "`for i in range(-10):\n",
    "    print(i)`"
   ]
  },
  {
   "cell_type": "code",
   "execution_count": 5,
   "id": "891981de",
   "metadata": {
    "scrolled": true
   },
   "outputs": [],
   "source": [
    "for i in range(-10):\n",
    "    print(i)"
   ]
  },
  {
   "cell_type": "markdown",
   "id": "acc99a14",
   "metadata": {},
   "source": [
    "$\\textbf{Megoldás:}$ Az alapértelmezett lépésköz +1, így ez nem értelmezhető a tartományban, az adatsor üres.\n",
    "\n",
    "##### 2.6. `range(-10, -1)`\n",
    "`for i in range(-10, -1):\n",
    "    print(i)`"
   ]
  },
  {
   "cell_type": "code",
   "execution_count": 6,
   "id": "94125e56",
   "metadata": {},
   "outputs": [
    {
     "name": "stdout",
     "output_type": "stream",
     "text": [
      "-10\n",
      "-9\n",
      "-8\n",
      "-7\n",
      "-6\n",
      "-5\n",
      "-4\n",
      "-3\n",
      "-2\n"
     ]
    }
   ],
   "source": [
    "for i in range(-10, -1):\n",
    "    print(i)"
   ]
  },
  {
   "cell_type": "markdown",
   "id": "9b331a85",
   "metadata": {},
   "source": [
    "$\\textbf{Megoldás:}$ A tartomány -10 és -2 között fut, a lépésköz pedig +1. Azért áll meg -2-nél, mert a `felső_határ-1`-ig fut a range.\n",
    "\n",
    "##### 2.7. `range(-5, 6)`\n",
    "`for i in range(-5, 6):\n",
    "    print(i)`"
   ]
  },
  {
   "cell_type": "code",
   "execution_count": 12,
   "id": "6457f2b9",
   "metadata": {},
   "outputs": [
    {
     "name": "stdout",
     "output_type": "stream",
     "text": [
      "-5\n",
      "-4\n",
      "-3\n",
      "-2\n",
      "-1\n",
      "0\n",
      "1\n",
      "2\n",
      "3\n",
      "4\n",
      "5\n"
     ]
    }
   ],
   "source": [
    "for i in range(-5, 6):\n",
    "    print(i)"
   ]
  },
  {
   "cell_type": "markdown",
   "id": "72ac9291",
   "metadata": {},
   "source": [
    "$\\textbf{Megoldás:}$ A tartomány -5 és -5 között fut, a lépésköz pedig +1."
   ]
  },
  {
   "cell_type": "markdown",
   "id": "b9c84ec6",
   "metadata": {},
   "source": [
    "### Gyakorló feladatok\n",
    "1. Írjunk egy ciklust, ami kiírja a páratlan számokat 100-ig\n",
    "2. Írjunk egy ciklust, ami kiírja a következő lista egész elemeit: $[-10, 10]$\n",
    "3. Írjunk egy programot, amely kiírja a prím számokat 10-ig"
   ]
  },
  {
   "cell_type": "code",
   "execution_count": 14,
   "id": "722e1933",
   "metadata": {},
   "outputs": [
    {
     "name": "stdout",
     "output_type": "stream",
     "text": [
      "1\n",
      "3\n",
      "5\n",
      "7\n",
      "9\n",
      "11\n",
      "13\n",
      "15\n",
      "17\n",
      "19\n",
      "21\n",
      "23\n",
      "25\n",
      "27\n",
      "29\n",
      "31\n",
      "33\n",
      "35\n",
      "37\n",
      "39\n",
      "41\n",
      "43\n",
      "45\n",
      "47\n",
      "49\n",
      "51\n",
      "53\n",
      "55\n",
      "57\n",
      "59\n",
      "61\n",
      "63\n",
      "65\n",
      "67\n",
      "69\n",
      "71\n",
      "73\n",
      "75\n",
      "77\n",
      "79\n",
      "81\n",
      "83\n",
      "85\n",
      "87\n",
      "89\n",
      "91\n",
      "93\n",
      "95\n",
      "97\n",
      "99\n"
     ]
    }
   ],
   "source": [
    "for i in range(1, 100, 2):\n",
    "    print(i)"
   ]
  },
  {
   "cell_type": "code",
   "execution_count": 15,
   "id": "180f12fc",
   "metadata": {},
   "outputs": [
    {
     "name": "stdout",
     "output_type": "stream",
     "text": [
      "-10\n",
      "-9\n",
      "-8\n",
      "-7\n",
      "-6\n",
      "-5\n",
      "-4\n",
      "-3\n",
      "-2\n",
      "-1\n",
      "0\n",
      "1\n",
      "2\n",
      "3\n",
      "4\n",
      "5\n",
      "6\n",
      "7\n",
      "8\n",
      "9\n",
      "10\n"
     ]
    }
   ],
   "source": [
    "for i in range(-10, 11, 1):\n",
    "    print(i)"
   ]
  },
  {
   "cell_type": "code",
   "execution_count": 1,
   "id": "da4110a8",
   "metadata": {},
   "outputs": [
    {
     "name": "stdout",
     "output_type": "stream",
     "text": [
      "A 1 prímszám.\n",
      "A 2 prímszám.\n",
      "A(z) 3 prím szám.\n",
      "A(z) 5 prím szám.\n",
      "A(z) 7 prím szám.\n",
      "A(z) 11 prím szám.\n",
      "A(z) 13 prím szám.\n",
      "A(z) 17 prím szám.\n",
      "A(z) 19 prím szám.\n",
      "A(z) 23 prím szám.\n",
      "A(z) 29 prím szám.\n",
      "A(z) 31 prím szám.\n",
      "A(z) 37 prím szám.\n",
      "A(z) 41 prím szám.\n",
      "A(z) 43 prím szám.\n",
      "A(z) 47 prím szám.\n",
      "A(z) 53 prím szám.\n",
      "A(z) 59 prím szám.\n",
      "A(z) 61 prím szám.\n",
      "A(z) 67 prím szám.\n",
      "A(z) 71 prím szám.\n",
      "A(z) 73 prím szám.\n",
      "A(z) 79 prím szám.\n",
      "A(z) 83 prím szám.\n",
      "A(z) 89 prím szám.\n",
      "A(z) 97 prím szám.\n"
     ]
    }
   ],
   "source": [
    "for x in range(1, 100):\n",
    "    if x == 1 or x == 2:\n",
    "        print(\"A\", x, \"prímszám.\")\n",
    "    elif x % 2 == 0:\n",
    "        continue\n",
    "    else:\n",
    "        prime = True\n",
    "        for i in range(3, x, 2):\n",
    "            if x % i == 0:\n",
    "                prime = False\n",
    "        if prime == True:\n",
    "            print(\"A(z)\", x, \"prím szám.\")"
   ]
  },
  {
   "cell_type": "markdown",
   "id": "90251e31",
   "metadata": {},
   "source": [
    "### Else a `For` Ciklusban\n",
    "\n",
    "Az `else` a `for` ciklus végén fut le, ahsonlóan a `while`-hoz:\n",
    "\n",
    "Pl.:"
   ]
  },
  {
   "cell_type": "code",
   "execution_count": 9,
   "id": "a628bb52",
   "metadata": {},
   "outputs": [
    {
     "name": "stdout",
     "output_type": "stream",
     "text": [
      "0\n",
      "1\n",
      "2\n",
      "4\n",
      "5\n",
      "Végre vége!\n"
     ]
    }
   ],
   "source": [
    "for x in range(6):\n",
    "    if x == 3:\n",
    "        continue\n",
    "    print(x)\n",
    "else:\n",
    "    print(\"Végre vége!\")"
   ]
  },
  {
   "cell_type": "markdown",
   "id": "59714693",
   "metadata": {},
   "source": [
    "### Beágyazott ciklusok\n",
    "\n",
    "A beágyaozz ciklus olyan ciklus, amely egy másikban helyezkedik el.\n",
    "\n",
    "A \"belső ciklus\" egyszer lefut, amikor a \"külső cilus\" következő iterációja következik.\n",
    "\n",
    "Pl.:"
   ]
  },
  {
   "cell_type": "code",
   "execution_count": 1,
   "id": "5f80e28c",
   "metadata": {},
   "outputs": [
    {
     "name": "stdout",
     "output_type": "stream",
     "text": [
      "1\n",
      "2\n",
      "3\n",
      "4\n",
      "5\n",
      "6\n",
      "7\n",
      "8\n",
      "9\n"
     ]
    }
   ],
   "source": [
    "tre = [[1, 2, 3], [4, 5, 6], [7, 8, 9]]\n",
    "for z in tre:\n",
    "    for z2 in z:\n",
    "        print(z2)"
   ]
  },
  {
   "cell_type": "markdown",
   "id": "04aac599",
   "metadata": {},
   "source": [
    "### Gyakorló feladatok\n",
    "1. Írjunk egy ciklust, amely kiírja egy szám faktoriális értékét. Figyelem, maximum 50-et lehessen megadni! ellenkező esetben hibűval térjen vissza.\n",
    "\n",
    "`« Kérem adjon meg egy számot: 56\n",
    "» Hibás szám. Maximum 50-et fogadhatok el.\n",
    "« Kérem adjon meg egy számot: 3\n",
    "» 3! = 6`"
   ]
  },
  {
   "cell_type": "code",
   "execution_count": 4,
   "id": "2e14a01f",
   "metadata": {
    "scrolled": true
   },
   "outputs": [
    {
     "name": "stdout",
     "output_type": "stream",
     "text": [
      "Kérem, adjon meg egy számot: 3\n",
      "3! = 6\n"
     ]
    }
   ],
   "source": [
    "x = int(input(\"Kérem, adjon meg egy számot: \"))\n",
    "if x > 50:\n",
    "    print(\"Hibás szám. Maximum 50-et fogadhatok el.\")\n",
    "else:\n",
    "    t = 1\n",
    "    for i in range(1, x+1):\n",
    "        t *= i\n",
    "    print(x, \"! = \" , t, sep=\"\")"
   ]
  },
  {
   "cell_type": "markdown",
   "id": "1545b60f",
   "metadata": {},
   "source": [
    "1. Írjunk egy programot, amely összeadja a számokat x-től y-ig.\n",
    "\n",
    "`« Kérem adjon meg egy tólt: 2\n",
    "« Kérem adjon meg egy iget: 10\n",
    "» SZUM_2-10 = 54`"
   ]
  },
  {
   "cell_type": "code",
   "execution_count": 13,
   "id": "c7ec1f59",
   "metadata": {},
   "outputs": [
    {
     "name": "stdout",
     "output_type": "stream",
     "text": [
      "Kérem adjon meg egy tólt: 10\n",
      "Kérem adjon meg egy iget: 2\n",
      "Hibás tartomány\n"
     ]
    }
   ],
   "source": [
    "tol = int(input(\"Kérem adjon meg egy tólt: \"))\n",
    "ig = int(input(\"Kérem adjon meg egy iget: \"))\n",
    "\n",
    "if ig < tol:\n",
    "    print(\"Hibás tartomány\")\n",
    "else:\n",
    "    t = 0\n",
    "    for i in range(tol, ig+1):\n",
    "        t += i\n",
    "    print(\"SZUM_\", tol, \"-\", ig, \" = \", t, sep=\"\")"
   ]
  },
  {
   "cell_type": "markdown",
   "id": "badc641e",
   "metadata": {},
   "source": [
    "3. Írjunk programot ami bekéri a pulzusszámot és eldönti, hogy normál tartományban van-e. A normál tartomány az 55 és a 100 közti pulzusszámú értékek."
   ]
  },
  {
   "cell_type": "code",
   "execution_count": null,
   "id": "f5e9576e",
   "metadata": {},
   "outputs": [],
   "source": []
  },
  {
   "cell_type": "markdown",
   "id": "b6d323c3",
   "metadata": {},
   "source": [
    "4. Írjunk programot ami bekéri a beteg pulzusszámát, majd kiértékeli! Ha a nyugalmi pulzusszám nagyobb, mint 120/perc, szapora szívverésről, vagyis tachycardiáról, ha kisebb, mint 50 lassú szívverésről, bradycardiáról beszélünk. Egyéb esetekben normál."
   ]
  },
  {
   "cell_type": "code",
   "execution_count": null,
   "id": "2d4f16a6",
   "metadata": {},
   "outputs": [],
   "source": []
  },
  {
   "cell_type": "markdown",
   "id": "f97a342c",
   "metadata": {},
   "source": [
    "5. Vérnyomásmérőket gyártunk. A legyártott készülékek különböző pontosságúak, ez alapján kategóriákba sorolják és ennek megfelelően árazzák. A pontosságuk alapján a következő kategóriák vannak:\n",
    "\n",
    "| Értéktartomány \\[Hgmm\\]| Pontossági osztály |\n",
    "|---|---|\n",
    "| $x \\leq 2$ | Kiváló |\n",
    "| $ 2 < x \\leq 5$ | Jó|\n",
    "| $ 5 < x \\leq 10$ | Megfeelő\n",
    "| $ 10 > x $ | Selejt\n",
    "\n",
    "Írjunk programot ami, bekéri a legyártott vérnyomásmérő pontosságát, majd az alapján osztályba sorolja!\n"
   ]
  },
  {
   "cell_type": "code",
   "execution_count": null,
   "id": "cb352f77",
   "metadata": {},
   "outputs": [],
   "source": []
  },
  {
   "cell_type": "markdown",
   "id": "866f254a",
   "metadata": {},
   "source": [
    "6. Írjunk programot, ami bekéri a szisztolés és a diasztolés vérnyomásértékeket és az alábbi ábrának megfelelően kiértékeli azokat!\n",
    "\n",
    "![title](https://www.omron-healthcare.hu/on/demandware.static/-/Sites-OMR-HU-Library/default/dw3547a342/wordpress_images/uploads/2019/02/Picture1-538x405.png)"
   ]
  },
  {
   "cell_type": "code",
   "execution_count": 16,
   "id": "8e19e65a",
   "metadata": {},
   "outputs": [
    {
     "name": "stdout",
     "output_type": "stream",
     "text": [
      "Add meg a szistolés vérnyomás értéket: 200\n",
      "Add meg a diasztolés vérnyomás értéket: 100\n",
      "A 200 100 vérnomás érték: Harmadfokú magas vérnyomás\n"
     ]
    }
   ],
   "source": [
    "sys = int (input('Add meg a szistolés vérnyomás értéket: '))\n",
    "dyas = int (input('Add meg a diasztolés vérnyomás értéket: '))\n",
    "print ('A',sys,dyas, 'vérnomás érték: ', end='')\n",
    "if sys<120 and dyas<80:\n",
    "    print ('Optimális vérnyomás')\n",
    "elif sys<130 and dyas<85:\n",
    "    print ('Normális vérnyomás')\n",
    "elif sys<140 and dyas<90:\n",
    "    print ('Emelkedett-normál szisztolés vérnyomás')\n",
    "elif sys<160 and dyas<100:\n",
    "    print ('Elsőfokú magas vérnyomás')\n",
    "elif sys<180 and dyas<110:\n",
    "    print ('Másodfokú magas véenyomás')\n",
    "else:\n",
    "    print ('Harmadfokú magas vérnyomás')"
   ]
  },
  {
   "cell_type": "markdown",
   "id": "b465faf6",
   "metadata": {},
   "source": [
    "### Házi feladat:\n",
    "#### 1. feladat\n",
    "\n",
    "\n",
    "#### 2. feladat\n",
    "\n",
    "\n",
    "#### 3. feladat\n"
   ]
  },
  {
   "cell_type": "markdown",
   "id": "a6e47b16",
   "metadata": {},
   "source": [
    "### Következő óra eleji kis ZH anyaga:\n",
    "1. típusok\n",
    "2. input / print\n",
    "3. if\n",
    "4. while"
   ]
  }
 ],
 "metadata": {
  "kernelspec": {
   "display_name": "Python 3 (ipykernel)",
   "language": "python",
   "name": "python3"
  },
  "language_info": {
   "codemirror_mode": {
    "name": "ipython",
    "version": 3
   },
   "file_extension": ".py",
   "mimetype": "text/x-python",
   "name": "python",
   "nbconvert_exporter": "python",
   "pygments_lexer": "ipython3",
   "version": "3.9.12"
  }
 },
 "nbformat": 4,
 "nbformat_minor": 5
}
