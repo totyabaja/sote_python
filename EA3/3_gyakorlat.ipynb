{
 "cells": [
  {
   "cell_type": "markdown",
   "id": "3b844519",
   "metadata": {},
   "source": [
    "## 3. előadás -  Python\n",
    "## Az algoritmusok alapelemei \\#2 (for ciklus)\n",
    "## Adatszerkezetek (tömb, lista, sor, verem) \\#1 \n",
    "\n",
    "### 2022. szeptember 29.\n",
    "\n",
    "#### Dr. Tóth Zoltán és Dr. Tamus Zoltán Ádám"
   ]
  },
  {
   "cell_type": "markdown",
   "id": "f746e423",
   "metadata": {},
   "source": [
    "### Ciklusok és iteráció - for\n",
    "\n",
    "A for ciklust úgy lehet a legegyszerűbben összefoglalni mint egy olyan while, aminek van egy értékadó előutasítása és a ciklus végén egy általában értéknövelő utasítás.\n",
    "\n",
    "A while szintaxis, amennyiben 1-től 10-ig akarunk adatot kiírni:\n",
    "\n",
    "`i = 1\n",
    "while i <= 10:\n",
    "    print(i)\n",
    "    i += 1`\n",
    "\n",
    "A for szintaxisa ezzen szemben:\n",
    "\n",
    "`for adatsor_érték in adatsor:\n",
    "    utasítások`\n",
    "    \n",
    "Észrevehetjük, hogy nem azt adjuk meg, hogy mettől meddig, ahnem egy adatsort, amin végiginterálunk (végiglépegetünk egyesével). Természetesen lehetőség van arra is, hogy legeneráljuk az adatsort egy 1 és 10 közötti, 1-gyel növekvő adatsorként.\n",
    "\n",
    "Példa:\n",
    "\n",
    "`for i in range(1, 11, 1):\n",
    "    print(i)`\n",
    "    \n",
    "Ehhez a range függvényt/osztályt kell meghívnunk.\n",
    "\n",
    "Picit nézzük meg részletesebben is, hogy épül fel:\n",
    "\n",
    "`range(mettől, meddig, lépés)`\n",
    "\n",
    "#### 1. feladat\n",
    "Próbáljuk ki az alábbi utasításokat, mi lesz az eredménye.\n",
    "\n",
    "##### 1.1 `range(meddig)`\n",
    "`for i in range(10):\n",
    "    print(i)`"
   ]
  },
  {
   "cell_type": "code",
   "execution_count": null,
   "id": "70c9c371",
   "metadata": {},
   "outputs": [],
   "source": []
  },
  {
   "cell_type": "markdown",
   "id": "4c18f2d9",
   "metadata": {},
   "source": [
    "$\\textbf{Megoldás:}$ A tartomány 0 és 9 között fut, a lépésköz pedig 1\n",
    "\n",
    "##### 2.2. `range(1, 10)`\n",
    "`for i in range(1, 10):\n",
    "    print(i)`"
   ]
  },
  {
   "cell_type": "code",
   "execution_count": null,
   "id": "d35acf56",
   "metadata": {},
   "outputs": [],
   "source": []
  },
  {
   "cell_type": "markdown",
   "id": "f778c5d7",
   "metadata": {},
   "source": [
    "$\\textbf{Megoldás:}$ A tartomány 1 és 9 között fut, a lépésköz pedig 1\n",
    "\n",
    "##### 2.3. `range(1, 10, 2)`\n",
    "`for i in range(1, 10, 2):\n",
    "    print(i)`"
   ]
  },
  {
   "cell_type": "code",
   "execution_count": null,
   "id": "dc7ec1db",
   "metadata": {},
   "outputs": [],
   "source": []
  },
  {
   "cell_type": "markdown",
   "id": "06a60664",
   "metadata": {},
   "source": [
    "$\\textbf{Megoldás:}$ A tartomány 1 és 9 között fut, a lépésköz pedig 2\n",
    "\n",
    "##### 2.4. `range(1, 10, -2)`\n",
    "`for i in range(1, 10, -2):\n",
    "    print(i)`"
   ]
  },
  {
   "cell_type": "code",
   "execution_count": null,
   "id": "51760e60",
   "metadata": {},
   "outputs": [],
   "source": []
  },
  {
   "cell_type": "markdown",
   "id": "03d323ae",
   "metadata": {},
   "source": [
    "$\\textbf{Megoldás:}$ A tartomány 1 és 9 között fut, a lépésköz pedig -2. Mivel ez nem értelmezhető a atrtományban, az adatsor üres.\n",
    "\n",
    "##### 2.5. `range(-10)`\n",
    "`for i in range(-10):\n",
    "    print(i)`"
   ]
  },
  {
   "cell_type": "code",
   "execution_count": null,
   "id": "891981de",
   "metadata": {
    "scrolled": true
   },
   "outputs": [],
   "source": []
  },
  {
   "cell_type": "markdown",
   "id": "acc99a14",
   "metadata": {},
   "source": [
    "$\\textbf{Megoldás:}$ Az alapértelmezett lépésköz +1, így ez nem értelmezhető a tartományban, az adatsor üres.\n",
    "\n",
    "##### 2.6. `range(-10, -1)`\n",
    "`for i in range(-10, -1):\n",
    "    print(i)`"
   ]
  },
  {
   "cell_type": "code",
   "execution_count": null,
   "id": "94125e56",
   "metadata": {},
   "outputs": [],
   "source": []
  },
  {
   "cell_type": "markdown",
   "id": "9b331a85",
   "metadata": {},
   "source": [
    "$\\textbf{Megoldás:}$ A tartomány -10 és -2 között fut, a lépésköz pedig +1. Azért áll meg -2-nél, mert a `felső_határ-1`-ig fut a range.\n",
    "\n",
    "##### 2.7. `range(-5, 6)`\n",
    "`for i in range(-5, 6):\n",
    "    print(i)`"
   ]
  },
  {
   "cell_type": "code",
   "execution_count": null,
   "id": "6457f2b9",
   "metadata": {},
   "outputs": [],
   "source": []
  },
  {
   "cell_type": "markdown",
   "id": "72ac9291",
   "metadata": {},
   "source": [
    "$\\textbf{Megoldás:}$ A tartomány -5 és -5 között fut, a lépésköz pedig +1."
   ]
  },
  {
   "cell_type": "markdown",
   "id": "b9c84ec6",
   "metadata": {},
   "source": [
    "### Gyakorló feladatok\n",
    "1. Írjunk egy ciklust, ami kiírja a páratlan számokat 100-ig\n",
    "2. Írjunk egy ciklust, ami kiírja a következő lista egész elemeit: $[-10, 10]$\n",
    "3. Írjunk egy programot, amely kiírja a prím számokat 10-ig"
   ]
  },
  {
   "cell_type": "code",
   "execution_count": null,
   "id": "722e1933",
   "metadata": {},
   "outputs": [],
   "source": []
  },
  {
   "cell_type": "code",
   "execution_count": null,
   "id": "180f12fc",
   "metadata": {},
   "outputs": [],
   "source": []
  },
  {
   "cell_type": "code",
   "execution_count": null,
   "id": "da4110a8",
   "metadata": {},
   "outputs": [],
   "source": []
  },
  {
   "cell_type": "markdown",
   "id": "90251e31",
   "metadata": {},
   "source": [
    "### Else a `For` Ciklusban\n",
    "\n",
    "Az `else` a `for` ciklus végén fut le, ahsonlóan a `while`-hoz:\n",
    "\n",
    "Pl.:"
   ]
  },
  {
   "cell_type": "code",
   "execution_count": null,
   "id": "a628bb52",
   "metadata": {},
   "outputs": [],
   "source": [
    "for x in range(6):\n",
    "    if x == 3:\n",
    "        continue\n",
    "    print(x)\n",
    "else:\n",
    "    print(\"Végre vége!\")"
   ]
  },
  {
   "cell_type": "markdown",
   "id": "59714693",
   "metadata": {},
   "source": [
    "### Beágyazott ciklusok\n",
    "\n",
    "A beágyaozz ciklus olyan ciklus, amely egy másikban helyezkedik el.\n",
    "\n",
    "A \"belső ciklus\" egyszer lefut, amikor a \"külső cilus\" következő iterációja következik.\n",
    "\n",
    "Pl.:"
   ]
  },
  {
   "cell_type": "code",
   "execution_count": null,
   "id": "5f80e28c",
   "metadata": {},
   "outputs": [],
   "source": [
    "tre = [[1, 2, 3], [4, 5, 6], [7, 8, 9]]\n",
    "for z in tre:\n",
    "    for z2 in z:\n",
    "        print(z2)"
   ]
  },
  {
   "cell_type": "markdown",
   "id": "b465faf6",
   "metadata": {},
   "source": [
    "### Házi feladat:\n",
    "#### 1. feladat\n",
    "\n",
    "\n",
    "#### 2. feladat\n",
    "\n",
    "\n",
    "#### 3. feladat\n"
   ]
  },
  {
   "cell_type": "markdown",
   "id": "a6e47b16",
   "metadata": {},
   "source": [
    "### Következő óra eleji kis ZH anyaga:\n",
    "1. típusok\n",
    "2. input / print\n",
    "3. if\n",
    "4. while"
   ]
  }
 ],
 "metadata": {
  "kernelspec": {
   "display_name": "Python 3 (ipykernel)",
   "language": "python",
   "name": "python3"
  },
  "language_info": {
   "codemirror_mode": {
    "name": "ipython",
    "version": 3
   },
   "file_extension": ".py",
   "mimetype": "text/x-python",
   "name": "python",
   "nbconvert_exporter": "python",
   "pygments_lexer": "ipython3",
   "version": "3.9.12"
  }
 },
 "nbformat": 4,
 "nbformat_minor": 5
}
