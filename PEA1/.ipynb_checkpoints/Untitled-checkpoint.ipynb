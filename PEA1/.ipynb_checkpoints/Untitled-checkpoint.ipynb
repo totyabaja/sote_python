{
 "cells": [
  {
   "cell_type": "markdown",
   "id": "1ee2e717",
   "metadata": {},
   "source": [
    "# Közös gyakorló óra\n",
    "\n",
    "$\\textbf{Készítette:}$ Tóth Zoltán\n",
    "\n",
    "$\\textbf{Ideje:}$ 2022.10.15. szombat 12:00 "
   ]
  },
  {
   "cell_type": "markdown",
   "id": "9c2638a9",
   "metadata": {},
   "source": [
    "## Típusok, kiiratás, adatbekérés\n",
    "\n",
    "### 1. Kérjünk be a bemeneten egész számot"
   ]
  },
  {
   "cell_type": "code",
   "execution_count": null,
   "id": "0cd3a352",
   "metadata": {},
   "outputs": [],
   "source": []
  },
  {
   "cell_type": "markdown",
   "id": "5a47c5b6",
   "metadata": {},
   "source": [
    "### 2. Kérjünk be a bemeneten számot"
   ]
  },
  {
   "cell_type": "code",
   "execution_count": null,
   "id": "6aad7486",
   "metadata": {},
   "outputs": [],
   "source": []
  },
  {
   "cell_type": "markdown",
   "id": "be70139a",
   "metadata": {},
   "source": [
    "### 3. Kérjünk be a bemeneten szöveget"
   ]
  },
  {
   "cell_type": "code",
   "execution_count": null,
   "id": "2fa0a6c3",
   "metadata": {},
   "outputs": [],
   "source": []
  },
  {
   "cell_type": "markdown",
   "id": "96ae538f",
   "metadata": {},
   "source": [
    "## Adatsorok\n",
    "### 4. Készítsünk egy listát, amely $1$-től $50$-ig tartalmazza az egész számokat"
   ]
  },
  {
   "cell_type": "code",
   "execution_count": null,
   "id": "836033bf",
   "metadata": {},
   "outputs": [],
   "source": [
    "    "
   ]
  },
  {
   "cell_type": "markdown",
   "id": "5cf855a1",
   "metadata": {},
   "source": [
    "### 5. Készítsünk egy listát, amely $-10$-től $-1$-ig tartalmazza az egész számokat"
   ]
  },
  {
   "cell_type": "code",
   "execution_count": null,
   "id": "47156251",
   "metadata": {},
   "outputs": [],
   "source": []
  },
  {
   "cell_type": "markdown",
   "id": "6655a495",
   "metadata": {},
   "source": [
    "### 6. Készítsünk egy listát, amely $-10$-től $10$-ig tartalmazza az egész számokat"
   ]
  },
  {
   "cell_type": "code",
   "execution_count": null,
   "id": "234280af",
   "metadata": {},
   "outputs": [],
   "source": []
  },
  {
   "cell_type": "markdown",
   "id": "0e986825",
   "metadata": {},
   "source": [
    "### 7. Készítsünk egy listát, amely a páros, egész számokat tartalmazza $10$-ig"
   ]
  },
  {
   "cell_type": "code",
   "execution_count": null,
   "id": "bcd701d8",
   "metadata": {},
   "outputs": [],
   "source": []
  },
  {
   "cell_type": "markdown",
   "id": "25cc3b8c",
   "metadata": {},
   "source": [
    "### 8. Készítsünk egy listát, amely $-10$-től $0$-ig tartalmazza a páratlan számokat"
   ]
  },
  {
   "cell_type": "code",
   "execution_count": null,
   "id": "aef7edcb",
   "metadata": {},
   "outputs": [],
   "source": []
  },
  {
   "cell_type": "code",
   "execution_count": null,
   "id": "f906636b",
   "metadata": {},
   "outputs": [],
   "source": []
  }
 ],
 "metadata": {
  "kernelspec": {
   "display_name": "Python 3 (ipykernel)",
   "language": "python",
   "name": "python3"
  },
  "language_info": {
   "codemirror_mode": {
    "name": "ipython",
    "version": 3
   },
   "file_extension": ".py",
   "mimetype": "text/x-python",
   "name": "python",
   "nbconvert_exporter": "python",
   "pygments_lexer": "ipython3",
   "version": "3.9.12"
  }
 },
 "nbformat": 4,
 "nbformat_minor": 5
}
