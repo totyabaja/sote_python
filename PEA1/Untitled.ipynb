{
 "cells": [
  {
   "cell_type": "markdown",
   "id": "34dfb01f",
   "metadata": {},
   "source": [
    "# Közös gyakorló óra\n",
    "\n",
    "$\\textbf{Készítette:}$ Tóth Zoltán\n",
    "\n",
    "$\\textbf{Ideje:}$ 2022.10.15. szombat 12:00 "
   ]
  },
  {
   "cell_type": "markdown",
   "id": "3e15a4ed",
   "metadata": {},
   "source": [
    "## Típusok, kiiratás, adatbekérés\n",
    "\n",
    "### 1. Kérjünk be a bemeneten egész számot"
   ]
  },
  {
   "cell_type": "code",
   "execution_count": null,
   "id": "f6141697",
   "metadata": {},
   "outputs": [],
   "source": []
  },
  {
   "cell_type": "markdown",
   "id": "afedbf41",
   "metadata": {},
   "source": [
    "### 2. Kérjünk be a bemeneten számot"
   ]
  },
  {
   "cell_type": "code",
   "execution_count": null,
   "id": "94fabc93",
   "metadata": {},
   "outputs": [],
   "source": []
  },
  {
   "cell_type": "markdown",
   "id": "479274ea",
   "metadata": {},
   "source": [
    "### 3. Kérjünk be a bemeneten szöveget"
   ]
  },
  {
   "cell_type": "code",
   "execution_count": null,
   "id": "dd2f9e52",
   "metadata": {},
   "outputs": [],
   "source": []
  },
  {
   "cell_type": "markdown",
   "id": "3487a462",
   "metadata": {},
   "source": [
    "## Adatsorok\n",
    "### 4. Készítsünk egy listát, amely $1$-től $50$-ig tartalmazza az egész számokat"
   ]
  },
  {
   "cell_type": "code",
   "execution_count": null,
   "id": "c0438441",
   "metadata": {},
   "outputs": [],
   "source": [
    "    "
   ]
  },
  {
   "cell_type": "markdown",
   "id": "3d31b4f5",
   "metadata": {},
   "source": [
    "### 5. Készítsünk egy listát, amely $-10$-től $-1$-ig tartalmazza az egész számokat"
   ]
  },
  {
   "cell_type": "code",
   "execution_count": null,
   "id": "0add1e99",
   "metadata": {},
   "outputs": [],
   "source": []
  },
  {
   "cell_type": "markdown",
   "id": "80ed1ef4",
   "metadata": {},
   "source": [
    "### 6. Készítsünk egy listát, amely $-10$-től $10$-ig tartalmazza az egész számokat"
   ]
  },
  {
   "cell_type": "code",
   "execution_count": null,
   "id": "a336cdc3",
   "metadata": {},
   "outputs": [],
   "source": []
  },
  {
   "cell_type": "markdown",
   "id": "12a07802",
   "metadata": {},
   "source": [
    "### 7. Készítsünk egy listát, amely a páros, egész számokat tartalmazza $10$-ig"
   ]
  },
  {
   "cell_type": "code",
   "execution_count": null,
   "id": "35153d8c",
   "metadata": {},
   "outputs": [],
   "source": []
  },
  {
   "cell_type": "markdown",
   "id": "51ba6b6d",
   "metadata": {},
   "source": [
    "### 8. Készítsünk egy listát, amely $-10$-től $0$-ig tartalmazza a páratlan számokat"
   ]
  },
  {
   "cell_type": "code",
   "execution_count": null,
   "id": "3ae88737",
   "metadata": {},
   "outputs": [],
   "source": []
  },
  {
   "cell_type": "markdown",
   "id": "25f52e04",
   "metadata": {},
   "source": [
    "## Feltételek, értékvizsgálat\n",
    "### 9. Vizsgáljuk meg egy tetszőlegesen bekért számról, hogy páros vagy páratlan és írjuk ki"
   ]
  },
  {
   "cell_type": "code",
   "execution_count": null,
   "id": "e8874712",
   "metadata": {},
   "outputs": [],
   "source": []
  },
  {
   "cell_type": "markdown",
   "id": "ddee9870",
   "metadata": {},
   "source": [
    "### 10. Vizsgáljuk meg egy bemenetre érkező tetszőleges számról, hogy pozitív, vagy negatív. Ellenkező esetben írjuk ki, hogy nulla."
   ]
  },
  {
   "cell_type": "code",
   "execution_count": null,
   "id": "9914665a",
   "metadata": {},
   "outputs": [],
   "source": []
  },
  {
   "cell_type": "markdown",
   "id": "d57f1730",
   "metadata": {},
   "source": [
    "## Iteráció - While\n",
    "### 11. Írjuk ki a páratlan, egész számokat $30$-ig"
   ]
  },
  {
   "cell_type": "code",
   "execution_count": null,
   "id": "1ab53dd2",
   "metadata": {},
   "outputs": [],
   "source": []
  },
  {
   "cell_type": "markdown",
   "id": "bd6a3871",
   "metadata": {},
   "source": [
    "$\\textbf{Érdekesség}$\n",
    "\n",
    "`print(*(1, 3, 4, 5), sep=\", \")`"
   ]
  },
  {
   "cell_type": "code",
   "execution_count": null,
   "id": "56810c9b",
   "metadata": {},
   "outputs": [],
   "source": []
  },
  {
   "cell_type": "markdown",
   "id": "420a6bc9",
   "metadata": {},
   "source": [
    "`print(*range(1, 10), sep=\".\")`"
   ]
  },
  {
   "cell_type": "code",
   "execution_count": null,
   "id": "948d154d",
   "metadata": {},
   "outputs": [],
   "source": []
  },
  {
   "cell_type": "markdown",
   "id": "5f653cf5",
   "metadata": {},
   "source": [
    "### 12. Adjuk össze a számokat $1$-től $10$-ig"
   ]
  },
  {
   "cell_type": "code",
   "execution_count": null,
   "id": "2c5a0cd4",
   "metadata": {},
   "outputs": [],
   "source": []
  },
  {
   "cell_type": "markdown",
   "id": "6a79566c",
   "metadata": {},
   "source": [
    "### 13. Szorozzuk össze a számokat $1$-től $10$-ig"
   ]
  },
  {
   "cell_type": "code",
   "execution_count": null,
   "id": "a3aa2f1b",
   "metadata": {},
   "outputs": [],
   "source": []
  },
  {
   "cell_type": "markdown",
   "id": "b1276c74",
   "metadata": {},
   "source": [
    "## Iteráció - For\n",
    "### 14. Írjuk ki a páratlan, egész számokat $30$-ig"
   ]
  },
  {
   "cell_type": "code",
   "execution_count": null,
   "id": "42ffa333",
   "metadata": {},
   "outputs": [],
   "source": []
  },
  {
   "cell_type": "markdown",
   "id": "a478e6b3",
   "metadata": {},
   "source": [
    "### 15. Adjuk össze a számokat $1$-től $10$-ig"
   ]
  },
  {
   "cell_type": "code",
   "execution_count": null,
   "id": "0f29f709",
   "metadata": {},
   "outputs": [],
   "source": []
  },
  {
   "cell_type": "markdown",
   "id": "7207398c",
   "metadata": {},
   "source": [
    "### 16. Szorozzuk össze a számokat $1$-től $10$-ig"
   ]
  },
  {
   "cell_type": "code",
   "execution_count": null,
   "id": "4b6d6cc6",
   "metadata": {},
   "outputs": [],
   "source": []
  },
  {
   "cell_type": "markdown",
   "id": "a9938b27",
   "metadata": {},
   "source": [
    "## Összetett feladatok \\#1\n",
    "### 17. Kérjünk be a meneten 2 számot és írjuk ki melyik a nagyobb\n",
    "$\\textbf{Példák}$\n",
    "\n",
    "`« Kérem, adja meg az 1. számot: 12\n",
    "« Kérem, adja meg a 2. számot: 2.34\n",
    "» A(z) 12 nagyobb, mint a(z) 2.34`\n",
    "\n",
    "`« Kérem, adja meg az 1. számot: 2.4\n",
    "« Kérem, adja meg a 2. számot: 2.67\n",
    "» A(z) 2.4 kisebb, mint a(z) 2.67`"
   ]
  },
  {
   "cell_type": "code",
   "execution_count": null,
   "id": "2d4493ea",
   "metadata": {},
   "outputs": [],
   "source": []
  },
  {
   "cell_type": "markdown",
   "id": "8e666616",
   "metadata": {},
   "source": [
    "### 18. Kérjünk be a meneten 5 számot és írjuk ki a legynagyobbat"
   ]
  },
  {
   "cell_type": "code",
   "execution_count": null,
   "id": "f6f5e382",
   "metadata": {},
   "outputs": [],
   "source": []
  },
  {
   "cell_type": "markdown",
   "id": "34b96a3d",
   "metadata": {},
   "source": [
    "### 19. Kérjünk be a meneten 5 számot és írjuk ki a legynagyobbat. Használjunk listákat."
   ]
  },
  {
   "cell_type": "code",
   "execution_count": null,
   "id": "a88ede71",
   "metadata": {},
   "outputs": [],
   "source": []
  },
  {
   "cell_type": "markdown",
   "id": "a491be52",
   "metadata": {},
   "source": [
    "### 20. Készítsünk piramist! A sorok számát a bemeneten bekért egész szám határozza meg.\n",
    "$\\textbf{Példa}$\n",
    "\n",
    "`. X\n",
    ".  XX\n",
    ".  XXX\n",
    ".  XXXX`"
   ]
  },
  {
   "cell_type": "code",
   "execution_count": null,
   "id": "29d80f18",
   "metadata": {},
   "outputs": [],
   "source": []
  },
  {
   "cell_type": "markdown",
   "id": "71c7e1a7",
   "metadata": {},
   "source": [
    "### 21. Készítsünk piramist! A sorok számát a bemeneten bekért egész szám határozza meg.\n",
    "$\\textbf{Példa}$\n",
    "\n",
    "`.   X\n",
    ".   XXX\n",
    ".  XXXXX\n",
    ". XXXXXXX`"
   ]
  },
  {
   "cell_type": "code",
   "execution_count": null,
   "id": "cca1e203",
   "metadata": {},
   "outputs": [],
   "source": []
  },
  {
   "cell_type": "markdown",
   "id": "25a79cae",
   "metadata": {},
   "source": [
    "### 22. Pista elég sokat teker, és felírta az alábbi listába a naponta megtett kilométereket. Pista szeretné tudni, hogy mennyit ment a hétvégeken. A listában az első adat hétfői minden esetben.\n",
    "\n",
    "A lista:\n",
    "\n",
    "`pista_km = (12.3, 23.4, 43.5, 67.3, 83.6, 5.4, 52.9, 5.2, 47.8, 245823562378563275)`"
   ]
  },
  {
   "cell_type": "code",
   "execution_count": null,
   "id": "e9e5137a",
   "metadata": {},
   "outputs": [],
   "source": []
  }
 ],
 "metadata": {
  "kernelspec": {
   "display_name": "Python 3 (ipykernel)",
   "language": "python",
   "name": "python3"
  },
  "language_info": {
   "codemirror_mode": {
    "name": "ipython",
    "version": 3
   },
   "file_extension": ".py",
   "mimetype": "text/x-python",
   "name": "python",
   "nbconvert_exporter": "python",
   "pygments_lexer": "ipython3",
   "version": "3.9.12"
  }
 },
 "nbformat": 4,
 "nbformat_minor": 5
}
