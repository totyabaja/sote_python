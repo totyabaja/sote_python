{
 "cells": [
  {
   "cell_type": "markdown",
   "id": "feec2274",
   "metadata": {},
   "source": [
    "# Házi feladat\n",
    "## Útmutató a házi feladathoz\n",
    "\n",
    "### Adatok beolvasása online táblázatból\n",
    "\n",
    "LINK: https://docs.google.com/spreadsheets/d/1CwNxb6A_zVCHtk5tQXFTLxrpBx8hrgChANMaR9ofCV0/edit?usp=sharing"
   ]
  },
  {
   "cell_type": "code",
   "execution_count": 10,
   "id": "1e2fac23",
   "metadata": {},
   "outputs": [],
   "source": [
    "import pandas as pd\n",
    "\n",
    "SHEET_ID = '1CwNxb6A_zVCHtk5tQXFTLxrpBx8hrgChANMaR9ofCV0'\n",
    "SHEET_NAME = 'KSH'\n",
    "\n",
    "url = f'https://docs.google.com/spreadsheets/d/{SHEET_ID}/gviz/tq?tqx=out:csv&sheet={SHEET_NAME}'\n",
    "\n",
    "df = pd.read_csv(url)"
   ]
  },
  {
   "cell_type": "markdown",
   "id": "8dfec966",
   "metadata": {},
   "source": [
    "Most, hogy az adatokat elértük a Google Sheet-ből, fel kell dolgoznunk a kapott adatokat.\n",
    "\n",
    "### Adatok feldolgozása\n",
    "\n",
    "A kapott adatok egy vektorban helyezkednek el, ahol az első sor tartalmazza a fejlécet, és a további adatok pedig az adatbázis egyes sorait, vagyis rekordjait fogja össze."
   ]
  },
  {
   "cell_type": "code",
   "execution_count": 16,
   "id": "ac4cf830",
   "metadata": {},
   "outputs": [
    {
     "name": "stdout",
     "output_type": "stream",
     "text": [
      "             Név  Vagyon (HUF)\n",
      "0       Kis Jenő         12342\n",
      "1      Nagy Béla        223234\n",
      "2     Kiss Enikő          3232\n",
      "3  Kovács Arnold         32432\n",
      "4     Buza Júlia      53699853\n",
      "[['Kis Jenő' 12342]\n",
      " ['Nagy Béla' 223234]\n",
      " ['Kiss Enikő' 3232]\n",
      " ['Kovács Arnold' 32432]\n",
      " ['Buza Júlia' 53699853]]\n"
     ]
    },
    {
     "data": {
      "text/plain": [
       "numpy.ndarray"
      ]
     },
     "execution_count": 16,
     "metadata": {},
     "output_type": "execute_result"
    }
   ],
   "source": [
    "print(df)\n",
    "type(df)\n",
    "tomb = df.to_numpy()\n",
    "print(tomb)\n",
    "type(tomb)"
   ]
  },
  {
   "cell_type": "markdown",
   "id": "756bef29",
   "metadata": {},
   "source": [
    "Adjuk össze például a `df` változóban tárolt állomány második oszlopának összegét"
   ]
  },
  {
   "cell_type": "code",
   "execution_count": 49,
   "id": "e16c32d9",
   "metadata": {},
   "outputs": [
    {
     "name": "stdout",
     "output_type": "stream",
     "text": [
      "Az oszlop összege: 53,971,093.00 Ft\n"
     ]
    },
    {
     "data": {
      "text/plain": [
       "'$1,234.50'"
      ]
     },
     "execution_count": 49,
     "metadata": {},
     "output_type": "execute_result"
    }
   ],
   "source": [
    "import numpy as np\n",
    "\n",
    "def szumma(lista):\n",
    "    tmp = 0\n",
    "    for i in lista:\n",
    "        tmp += float(i)\n",
    "    return tmp\n",
    "\n",
    "tomb = df.to_numpy()\n",
    "\n",
    "szum = szumma(tomb[:,1])\n",
    "\n",
    "print('Az oszlop összege:', '{:,.2f} Ft'.format(szum))"
   ]
  },
  {
   "cell_type": "markdown",
   "id": "93e647aa",
   "metadata": {},
   "source": [
    "### Kirajzolás\n",
    "Miután megvannak az adatok szabadon tudjuk kirakjzolni. :)"
   ]
  },
  {
   "cell_type": "markdown",
   "id": "58d0791f",
   "metadata": {},
   "source": [
    "## A teljes kód"
   ]
  },
  {
   "cell_type": "code",
   "execution_count": 80,
   "id": "d4f713a4",
   "metadata": {},
   "outputs": [
    {
     "name": "stdout",
     "output_type": "stream",
     "text": [
      "Az oszlop összege: 808,238.00 Ft\n"
     ]
    },
    {
     "data": {
      "image/png": "[encoded data removed]",
      "text/plain": [
       "<Figure size 432x288 with 1 Axes>"
      ]
     },
     "metadata": {
      "needs_background": "light"
     },
     "output_type": "display_data"
    }
   ],
   "source": [
    "import pandas as pd\n",
    "import numpy as np\n",
    "# Ez is kell majd:\n",
    "import matplotlib.pyplot as plt\n",
    "\n",
    "SHEET_ID = '1CwNxb6A_zVCHtk5tQXFTLxrpBx8hrgChANMaR9ofCV0'\n",
    "SHEET_NAME = 'KSH'\n",
    "\n",
    "def szumma(lista):\n",
    "    tmp = 0\n",
    "    for i in lista:\n",
    "        tmp += float(i)\n",
    "    return tmp\n",
    "\n",
    "def open_file(sheet_id, sheet_name):\n",
    "    url = f'https://docs.google.com/spreadsheets/d/{sheet_id}/gviz/tq?tqx=out:csv&sheet={sheet_name}'\n",
    "    df = pd.read_csv(url)\n",
    "    tomb = df.to_numpy()\n",
    "    return tomb\n",
    "\n",
    "tomb = open_file(SHEET_ID, SHEET_NAME)\n",
    "szum = szumma(tomb[:,1])\n",
    "\n",
    "print('Az oszlop összege:', '{:,.2f} Ft'.format(szum))\n",
    "\n",
    "xpoints = tomb[:,0] # nevek\n",
    "ypoints = tomb[:,1] # keresetek\n",
    "\n",
    "\n",
    "plt.title(\"Keresetek\")\n",
    "\n",
    "plt.bar(xpoints, ypoints, label = 'Emberek')\n",
    "plt.plot(xpoints, [szum/5]*5 , 'r', label = 'Átlag')\n",
    "\n",
    "plt.legend(title = \"Jelmagyarázat\", loc='center left', bbox_to_anchor=(1, 0.5))\n",
    "\n",
    "plt.show()"
   ]
  }
 ],
 "metadata": {
  "kernelspec": {
   "display_name": "Python 3 (ipykernel)",
   "language": "python",
   "name": "python3"
  },
  "language_info": {
   "codemirror_mode": {
    "name": "ipython",
    "version": 3
   },
   "file_extension": ".py",
   "mimetype": "text/x-python",
   "name": "python",
   "nbconvert_exporter": "python",
   "pygments_lexer": "ipython3",
   "version": "3.9.12"
  }
 },
 "nbformat": 4,
 "nbformat_minor": 5
}
