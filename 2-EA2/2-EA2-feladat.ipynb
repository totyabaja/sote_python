{
 "cells": [
  {
   "cell_type": "markdown",
   "id": "0b5a43f0",
   "metadata": {},
   "source": [
    "# Külső könyvtárak\n",
    "Készítette: Dr. Tóth Zoltán és Dr. Tamus Zoltán Ádám\n",
    "\n",
    "Ideje: 2022.11.10. 10:00\n",
    "\n",
    "$\\textbf{Mik azok a könyvtárak?}$ A könyvtárak nem mások mint olyan osztályok sokasága (objektumok), amelyeket mások írtak meg, és tettek elérhetővé."
   ]
  },
  {
   "cell_type": "markdown",
   "id": "4a7eea09",
   "metadata": {},
   "source": [
    "## Numpy\n",
    "\n",
    "### Mi a NumPy?\n",
    "\n",
    "NumPy egy Python könyvtár, amely a vektorokkal végezhető műveleteket könnyíti meg. Első sorban lineáris algebrai problémákra, továbbá fourier transzformáció és mátrixműveletek megoldására tökéletes. \n",
    "\n",
    "### Hol található meg a NumPy forráskódja?\n",
    "[NumPy Forráskód (katt)](https://github.com/numpy/numpy)"
   ]
  },
  {
   "cell_type": "markdown",
   "id": "e84e579d",
   "metadata": {},
   "source": [
    "### 1. Nézzük meg az alábbi példát\n",
    "\n",
    "```\n",
    "import numpy as np\n",
    "\n",
    "arr = np.array([1, 2, 3, 4, 5])\n",
    "\n",
    "print(arr)\n",
    "\n",
    "print(type(arr))\n",
    "```"
   ]
  },
  {
   "cell_type": "code",
   "execution_count": null,
   "id": "2c4b4162",
   "metadata": {},
   "outputs": [],
   "source": []
  },
  {
   "cell_type": "markdown",
   "id": "809f8a7e",
   "metadata": {},
   "source": [
    "### 2. A mátrixok a NumPy-ban\n",
    "\n",
    "#### 2.1. 0-D vektorok (Skalárok)\n",
    "A 0-D vektorok, vagy skalárok, a vektorok legkisebb elemei. Minden egyes elem egy mátrixban valójában egy skalár.\n",
    "\n",
    "$\\textbf{Példa}$\n",
    "\n",
    "```\n",
    "import numpy as np\n",
    "\n",
    "arr = np.array(42)\n",
    "\n",
    "print(arr)\n",
    "```"
   ]
  },
  {
   "cell_type": "code",
   "execution_count": null,
   "id": "81c5ec52",
   "metadata": {},
   "outputs": [],
   "source": []
  },
  {
   "cell_type": "markdown",
   "id": "822833cb",
   "metadata": {},
   "source": [
    "#### 2.2. 1-D Arrays\n",
    "Az 1-D vektor, vagyis egydimenziójú vektor, amely a hagyományos listának feleltethető meg, nem más mint skalárok összessége.\n",
    "\n",
    "$\\textbf{Példa}$\n",
    "\n",
    "```\n",
    "import numpy as np\n",
    "\n",
    "arr = np.array([1, 2, 3, 4, 5])\n",
    "\n",
    "print(arr)\n",
    "```"
   ]
  },
  {
   "cell_type": "code",
   "execution_count": null,
   "id": "845d5337",
   "metadata": {},
   "outputs": [],
   "source": []
  },
  {
   "cell_type": "markdown",
   "id": "bbf16e17",
   "metadata": {},
   "source": [
    "#### 2.3.  2-D Arrays\n",
    "A 2-D, vagyis kétdimenziós vektor, a leggyakrabban a köznyelvben a mátrix szóval illetett.\n",
    "\n",
    "$\\textbf{Példa}$\n",
    "\n",
    "```\n",
    "import numpy as np\n",
    "\n",
    "arr = np.array([[1, 2, 3], [4, 5, 6]])\n",
    "\n",
    "print(arr)\n",
    "```"
   ]
  },
  {
   "cell_type": "code",
   "execution_count": null,
   "id": "f59d9ab0",
   "metadata": {},
   "outputs": [],
   "source": []
  },
  {
   "cell_type": "markdown",
   "id": "4f362c78",
   "metadata": {},
   "source": [
    "#### 2.4. 3-D arrays\n",
    "A 3-D, vagyis háromdimenziós vektor, a másik nagyon gyakran használt mátrixfajta.\n",
    "\n",
    "$\\textbf{Példa}$\n",
    "\n",
    "```\n",
    "import numpy as np\n",
    "\n",
    "arr = np.array([[[1, 2, 3], [4, 5, 6]], [[1, 2, 3], [4, 5, 6]]])\n",
    "\n",
    "print(arr)\n",
    "```"
   ]
  },
  {
   "cell_type": "code",
   "execution_count": null,
   "id": "a7795303",
   "metadata": {},
   "outputs": [],
   "source": []
  },
  {
   "cell_type": "markdown",
   "id": "958c7ef4",
   "metadata": {},
   "source": [
    "### 3. Műveletek mátrixokkal\n",
    "#### 3.1. Indexálás\n",
    "\n",
    "Hasonlóan mint a Python alapkönyvtárban is, itt is a $0$-ás index a legkisebb és $N$ elemű vektor esetén a legnagyobb index az $N-1$.\n",
    "\n",
    "$\\textbf{Példa}$\n",
    "\n",
    "```\n",
    "import numpy as np\n",
    "\n",
    "arr = np.array([[1,2,3,4,5], [6,7,8,9,10]])\n",
    "\n",
    "print('A 2. elem az 1. sorban: ', arr[0, 1])\n",
    "```"
   ]
  },
  {
   "cell_type": "code",
   "execution_count": null,
   "id": "82f163a2",
   "metadata": {},
   "outputs": [],
   "source": []
  },
  {
   "cell_type": "markdown",
   "id": "bc3b65d2",
   "metadata": {},
   "source": [
    "#### 3.2. Operátorok\n",
    "\n",
    "$\\textbf{Példa}$"
   ]
  },
  {
   "cell_type": "code",
   "execution_count": null,
   "id": "1b9b64b5",
   "metadata": {},
   "outputs": [],
   "source": [
    "import numpy as np\n",
    "\n",
    "a = np.array([1,2,3,4,5])\n",
    "b = np.array([6,7,8,9,10])\n",
    "\n",
    "print(\"Összeadás:\", a+b)\n",
    "print(\"Kivonás:\", a-b)\n",
    "print(\"Mátrixszorzás:\", a@b)\n",
    "print(\"Szorzás skalárral:\", a*3)\n",
    "print(\"Szorzás indexenként:\", a*b)\n",
    "print(\"Osztás indexenként:\", a/b)\n",
    "print(\"Hatványozás indexenként:\", a**2)\n",
    "print(\"Transzponálás:\", a.transpose()) # avgy a.T\n",
    "print(\"Konjugált:\", a.conj()) # avgy a.T\n",
    "print(\"Logikai vizsgálat az egyes elemekre:\", (a>3))\n",
    "print(\"Csak az első 3 elem:\", a[:3])\n",
    "print(\"Csak az utolsó 3 elem:\", a[-3:])\n",
    "print(\"Csak a 3-diktól felfele lévő elemek elem:\", a[3:])\n",
    "print(\"Csak a 3-diktól lefele lévő elemek elem:\", a[:-3])"
   ]
  },
  {
   "cell_type": "markdown",
   "id": "6c0133a8",
   "metadata": {},
   "source": [
    "#### 3.3. Tárolható adattípusok\n",
    "\n",
    "| paraméter | Változó típusának megnevezése |\n",
    "|---|---|\n",
    "| i | egész (integer) |\n",
    "| b | logikai (boolean) |\n",
    "| u | előjel nélküli egész (unsigned integer) |\n",
    "| f | lebegőpontos szám (float) |\n",
    "| c | lebegőpontos komplex szám (complex float) |\n",
    "| m | időkülönbség (timedelta) |\n",
    "| M | dátum idő (datetime) |\n",
    "| O | objektum (object) |\n",
    "| S | szöveg (string) |\n",
    "| U | unicode szöveg (unicode string) |\n",
    "| V | fix memóriafoglalású érték (fixed chunk of memory for other type) |\n",
    "\n",
    "$\\textbf{Példa}$\n",
    "\n",
    "```\n",
    "import numpy as np\n",
    "\n",
    "arr = np.array([1, 2, 3, 4])\n",
    "arr2 = np.array(['alma', 'körte', 'banán'])\n",
    "arr3 = np.array([1, 2, 3, 4], dtype='S')\n",
    "arr4 = np.array([1, 2, 3, 4], dtype='i4') # 4 bájt hosszú integer\n",
    "\n",
    "print(arr, arr.dtype, sep=\" => típusa: \")\n",
    "print(arr2, arr2.dtype, sep=\" => típusa: \")\n",
    "print(arr3, arr3.dtype, sep=\" => típusa: \")\n",
    "print(arr4, arr4.dtype, sep=\" => típusa: \")\n",
    "```"
   ]
  },
  {
   "cell_type": "code",
   "execution_count": null,
   "id": "29232461",
   "metadata": {},
   "outputs": [],
   "source": []
  },
  {
   "cell_type": "markdown",
   "id": "e9dc01c1",
   "metadata": {},
   "source": [
    "## Matplotlib\n",
    "\n",
    "$\\textbf{A könyvtár implementálása:}$ `import matplotlib`"
   ]
  },
  {
   "cell_type": "code",
   "execution_count": null,
   "id": "be1073b2",
   "metadata": {},
   "outputs": [],
   "source": []
  },
  {
   "cell_type": "markdown",
   "id": "e764e939",
   "metadata": {},
   "source": [
    "A legtöbb esetben elégséges a `pyplot` alkönyvtár használata. A könnyebb leírhatóság végett nevezzük át `plt`-re.\n",
    "\n",
    "$\\textbf{A könyvtár implementálása így:}$ `import matplotlib.pyplot as plt`"
   ]
  },
  {
   "cell_type": "code",
   "execution_count": null,
   "id": "bcaff352",
   "metadata": {},
   "outputs": [],
   "source": []
  },
  {
   "cell_type": "markdown",
   "id": "c8df598e",
   "metadata": {},
   "source": [
    "Nézzünk meg egy példát, amely egy vonalat rajzol:\n",
    "\n",
    "```\n",
    "import matplotlib.pyplot as plt\n",
    "import numpy as np\n",
    "\n",
    "xpoints = np.array([0, 6])\n",
    "ypoints = np.array([0, 250])\n",
    "\n",
    "plt.plot(xpoints, ypoints)\n",
    "plt.show()\n",
    "```"
   ]
  },
  {
   "cell_type": "code",
   "execution_count": null,
   "id": "dde5768e",
   "metadata": {},
   "outputs": [],
   "source": []
  },
  {
   "cell_type": "markdown",
   "id": "a8301637",
   "metadata": {},
   "source": [
    "Nézzünk meg egy példát, amely csak a két pontot rajzolja ki:\n",
    "\n",
    "```\n",
    "import matplotlib.pyplot as plt\n",
    "import numpy as np\n",
    "\n",
    "xpoints = np.array([0, 6])\n",
    "ypoints = np.array([0, 250])\n",
    "\n",
    "plt.plot(xpoints, ypoints, 'o')\n",
    "plt.show()\n",
    "```"
   ]
  },
  {
   "cell_type": "code",
   "execution_count": null,
   "id": "90e81b37",
   "metadata": {},
   "outputs": [],
   "source": []
  },
  {
   "cell_type": "markdown",
   "id": "52dc8a52",
   "metadata": {},
   "source": [
    "Több pont kirajzolása is lehetséges:\n",
    "\n",
    "```\n",
    "import matplotlib.pyplot as plt\n",
    "import numpy as np\n",
    "\n",
    "xpoints = np.array([1, 2, 6, 8])\n",
    "ypoints = np.array([3, 8, 1, 10])\n",
    "\n",
    "plt.plot(xpoints, ypoints, 'o')\n",
    "plt.show()\n",
    "```"
   ]
  },
  {
   "cell_type": "code",
   "execution_count": null,
   "id": "a8df8343",
   "metadata": {},
   "outputs": [],
   "source": []
  },
  {
   "cell_type": "markdown",
   "id": "0fe66b5c",
   "metadata": {},
   "source": [
    "A jelölők a `marker` paraméteren keresztül állítható.\n",
    "\n",
    "```\n",
    "import matplotlib.pyplot as plt\n",
    "import numpy as np\n",
    "\n",
    "ypoints = np.array([3, 8, 1, 10])\n",
    "\n",
    "plt.plot(ypoints, marker = 'o')\n",
    "plt.show()\n",
    "```"
   ]
  },
  {
   "cell_type": "code",
   "execution_count": null,
   "id": "39780058",
   "metadata": {},
   "outputs": [],
   "source": []
  },
  {
   "cell_type": "markdown",
   "id": "f0bb156a",
   "metadata": {},
   "source": [
    "A jelölők lehetséges fajtái:\n",
    "\n",
    "| Betűje | Leírás |\n",
    "|---|---|\n",
    "| o | Circle |\n",
    "| * | Star |\n",
    "| . | Point |\n",
    "| , | Pixel |\n",
    "| x | X |\n",
    "| X | X (filled) |\n",
    "| + | Plus |\n",
    "| P | Plus (filled) |\n",
    "| s | Square |\n",
    "| D | Diamond |\n",
    "| d | Diamond |\n",
    "| p | Pentagon |\n",
    "| H | Hexagon |\n",
    "| h | Hexagon |\n",
    "| v | Triangle Down |\n",
    "| \\^ | Triangle Up |\n",
    "| < | Triangle Left |\n",
    "| > | Triangle Right |\n",
    "| 1 | Tri Down |\n",
    "| 2 | Tri Up |\n",
    "| 3 | Tri Left |\n",
    "| 4 | Tri Right |\n",
    "| \\| | Vline |\n",
    "| \\_ | Hline |"
   ]
  },
  {
   "cell_type": "markdown",
   "id": "3c6f9018",
   "metadata": {},
   "source": [
    "#### Formátum sztring alkalmazása\n",
    "\n",
    "A formátum sztringet a jelölők formázására lehet használni.\n",
    "\n",
    "Ezt a paramétert `fmt`-nek hívják, és az alábbi szintaxis alapján alkalmazható:\n",
    "\n",
    "marker|line|color\n",
    "\n",
    "```\n",
    "import matplotlib.pyplot as plt\n",
    "import numpy as np\n",
    "\n",
    "ypoints = np.array([3, 8, 1, 10])\n",
    "\n",
    "plt.plot(ypoints, 'o:b')\n",
    "plt.show()\n",
    "```"
   ]
  },
  {
   "cell_type": "code",
   "execution_count": null,
   "id": "b599aeba",
   "metadata": {},
   "outputs": [],
   "source": []
  },
  {
   "cell_type": "markdown",
   "id": "788dd942",
   "metadata": {},
   "source": [
    "A vonalak az alábbiak lehetnek:\n",
    "\n",
    "| Betűje | Leírása |\n",
    "|---|---|\n",
    "| - | sima vonal |\n",
    "| : | pontozott vonal |\n",
    "| \\-\\- | szaggatott vonal |\n",
    "| \\-. | szaggatott és pontozott vonal |"
   ]
  },
  {
   "cell_type": "markdown",
   "id": "b356df10",
   "metadata": {},
   "source": [
    "Színtáblázat\n",
    "\n",
    "| Betűje | Szín\n",
    "|---|---|\n",
    "| r | piros |\n",
    "| g | zöld |\n",
    "| b | kék |\n",
    "| c | ciánkék |\n",
    "| m | magenta |\n",
    "| y | sárga |\n",
    "| k | fekete |\n",
    "| w | fehér |"
   ]
  },
  {
   "cell_type": "markdown",
   "id": "a51001a5",
   "metadata": {},
   "source": [
    "#### A jelölő mérete\n",
    "\n",
    "Példa egy 20-as méretű jelölőre:\n",
    "\n",
    "```\n",
    "import matplotlib.pyplot as plt\n",
    "import numpy as np\n",
    "\n",
    "ypoints = np.array([3, 8, 1, 10])\n",
    "\n",
    "plt.plot(ypoints, marker = 'o', ms = 20)\n",
    "plt.show()\n",
    "```"
   ]
  },
  {
   "cell_type": "code",
   "execution_count": null,
   "id": "f382cf0e",
   "metadata": {},
   "outputs": [],
   "source": []
  },
  {
   "cell_type": "markdown",
   "id": "a20a4123",
   "metadata": {},
   "source": [
    "#### Jelölő színe\n",
    "\n",
    "A körvonal pirosra színezése például:\n",
    "\n",
    "```\n",
    "import matplotlib.pyplot as plt\n",
    "import numpy as np\n",
    "\n",
    "ypoints = np.array([3, 8, 1, 10])\n",
    "\n",
    "plt.plot(ypoints, marker = 'o', ms = 20, mec = 'r')\n",
    "plt.show()\n",
    "```"
   ]
  },
  {
   "cell_type": "code",
   "execution_count": null,
   "id": "9769efb9",
   "metadata": {},
   "outputs": [],
   "source": []
  },
  {
   "cell_type": "markdown",
   "id": "411f8526",
   "metadata": {},
   "source": [
    "A jelölő kitöltőszínének változtatása pirosra:\n",
    "\n",
    "```\n",
    "import matplotlib.pyplot as plt\n",
    "import numpy as np\n",
    "\n",
    "ypoints = np.array([3, 8, 1, 10])\n",
    "\n",
    "plt.plot(ypoints, marker = 'o', ms = 20, mfc = 'r')\n",
    "plt.show()\n",
    "```"
   ]
  },
  {
   "cell_type": "code",
   "execution_count": null,
   "id": "fd02f2cb",
   "metadata": {},
   "outputs": [],
   "source": []
  },
  {
   "cell_type": "markdown",
   "id": "60a8ee45",
   "metadata": {},
   "source": [
    "Mindkettő átszínezése esetén pedig:\n",
    "\n",
    "```\n",
    "import matplotlib.pyplot as plt\n",
    "import numpy as np\n",
    "\n",
    "ypoints = np.array([3, 8, 1, 10])\n",
    "\n",
    "plt.plot(ypoints, marker = 'o', ms = 20, mec = 'r', mfc = 'r')\n",
    "plt.show()\n",
    "```"
   ]
  },
  {
   "cell_type": "code",
   "execution_count": null,
   "id": "669f012d",
   "metadata": {},
   "outputs": [],
   "source": []
  },
  {
   "cell_type": "markdown",
   "id": "986b4c5e",
   "metadata": {},
   "source": [
    "### Több görbe egy ábrán\n",
    "\n",
    "```\n",
    "import matplotlib.pyplot as plt\n",
    "import numpy as np\n",
    "\n",
    "y1 = np.array([3, 8, 1, 10])\n",
    "y2 = np.array([6, 2, 7, 11])\n",
    "\n",
    "plt.plot(y1)\n",
    "plt.plot(y2)\n",
    "\n",
    "plt.show()\n",
    "```"
   ]
  },
  {
   "cell_type": "code",
   "execution_count": null,
   "id": "e37b5570",
   "metadata": {},
   "outputs": [],
   "source": []
  },
  {
   "cell_type": "code",
   "execution_count": null,
   "id": "93e91349",
   "metadata": {},
   "outputs": [],
   "source": [
    "import matplotlib.pyplot as plt\n",
    "import numpy as np\n",
    "\n",
    "x1 = np.array([1, 2, 3, 4])\n",
    "y1 = np.array([3, 8, 1, 10])\n",
    "x2 = np.array([1, 2, 3, 4])\n",
    "y2 = np.array([6, 2, 7, 11])\n",
    "\n",
    "plt.plot(x1, y1, x2, y2)\n",
    "plt.show()"
   ]
  },
  {
   "cell_type": "markdown",
   "id": "02c0cbed",
   "metadata": {},
   "source": [
    "### Jelmagyarázat és tengelyfelirat készítése\n",
    "\n",
    "Az `xlabel()`, az `ylabel()` és a `title()` függvények használata.\n",
    "\n",
    "```\n",
    "import numpy as np\n",
    "import matplotlib.pyplot as plt\n",
    "\n",
    "x = np.array([10, 20, 30, 40, 50, 60, 70, 80, 90, 100])\n",
    "y = np.array([21, 323, 260, 342, 352, 121, 231, 12, 42, 330])\n",
    "\n",
    "plt.plot(x, y)\n",
    "\n",
    "plt.title(\"Ez egy cím\")\n",
    "plt.xlabel(\"X tengely felirata\")\n",
    "plt.ylabel(\"Y tengely felirata\")\n",
    "\n",
    "plt.show()\n",
    "```"
   ]
  },
  {
   "cell_type": "code",
   "execution_count": null,
   "id": "620cbf7e",
   "metadata": {},
   "outputs": [],
   "source": []
  },
  {
   "cell_type": "markdown",
   "id": "5e9f9ed9",
   "metadata": {},
   "source": [
    "Set Font Properties for Title and Labels\n",
    "\n",
    "You can use the fontdict parameter in xlabel(), ylabel(), and title() to set font properties for the title and labels.\n",
    "\n",
    "Example\n",
    "\n",
    "Set font properties for the title and labels:\n",
    "\n",
    "```\n",
    "import numpy as np\n",
    "import matplotlib.pyplot as plt\n",
    "\n",
    "x = np.array([10, 20, 30, 40, 50, 60, 70, 80, 90, 100])\n",
    "y = np.array([21, 323, 260, 342, 352, 121, 231, 12, 42, 330])\n",
    "\n",
    "font1 = {'family':'serif','color':'blue','size':20}\n",
    "font2 = {'family':'serif','color':'darkred','size':15}\n",
    "\n",
    "plt.title(\"Ez egy cím\", fontdict = font1)\n",
    "plt.xlabel(\"X tengely felirata\", fontdict = font2)\n",
    "plt.ylabel(\"Y tengely felirata\", fontdict = font2)\n",
    "\n",
    "plt.plot(x, y)\n",
    "plt.show()\n",
    "```"
   ]
  },
  {
   "cell_type": "code",
   "execution_count": null,
   "id": "3b9eb58d",
   "metadata": {},
   "outputs": [],
   "source": []
  },
  {
   "cell_type": "markdown",
   "id": "a9769100",
   "metadata": {},
   "source": [
    "### Rácsvonalak\n",
    "\n",
    "Erre szolgál a `grid()` függvény.\n",
    "\n",
    "```\n",
    "import numpy as np\n",
    "import matplotlib.pyplot as plt\n",
    "\n",
    "x = np.array([10, 20, 30, 40, 50, 60, 70, 80, 90, 100])\n",
    "y = np.array([21, 323, 260, 342, 352, 121, 231, 12, 42, 330])\n",
    "\n",
    "plt.plot(x, y)\n",
    "\n",
    "plt.grid()\n",
    "\n",
    "plt.show()\n",
    "```"
   ]
  },
  {
   "cell_type": "code",
   "execution_count": null,
   "id": "a8a348af",
   "metadata": {},
   "outputs": [],
   "source": []
  },
  {
   "cell_type": "markdown",
   "id": "e8406533",
   "metadata": {},
   "source": [
    "```\n",
    "import numpy as np\n",
    "import matplotlib.pyplot as plt\n",
    "\n",
    "x = np.array([10, 20, 30, 40, 50, 60, 70, 80, 90, 100])\n",
    "y = np.array([21, 323, 260, 342, 352, 121, 231, 12, 42, 330])\n",
    "\n",
    "plt.plot(x, y)\n",
    "\n",
    "plt.grid(axis = 'x')\n",
    "\n",
    "plt.show()\n",
    "```"
   ]
  },
  {
   "cell_type": "code",
   "execution_count": null,
   "id": "3307ac69",
   "metadata": {},
   "outputs": [],
   "source": []
  },
  {
   "cell_type": "markdown",
   "id": "52fe1fe6",
   "metadata": {},
   "source": [
    "#### A rácsvonal paramétereinek beállítása\n",
    "\n",
    "Pl.: `grid(color = 'color', linestyle = 'linestyle', linewidth = number)`\n",
    "\n",
    "\n",
    "```\n",
    "import numpy as np\n",
    "import matplotlib.pyplot as plt\n",
    "\n",
    "x = np.array([10, 20, 30, 40, 50, 60, 70, 80, 90, 100])\n",
    "y = np.array([21, 323, 260, 342, 352, 121, 231, 12, 42, 330])\n",
    "\n",
    "plt.plot(x, y)\n",
    "\n",
    "plt.grid(color = 'green', linestyle = '--', linewidth = 0.5)\n",
    "\n",
    "plt.show()\n",
    "```"
   ]
  },
  {
   "cell_type": "code",
   "execution_count": null,
   "id": "056bf797",
   "metadata": {},
   "outputs": [],
   "source": []
  },
  {
   "cell_type": "markdown",
   "id": "76623bc2",
   "metadata": {},
   "source": [
    "### Több grafikon terület kirajzolása egymás mellé\n",
    "\n",
    "Erre való a `subplot()` függvény, amelynek paraméterei:\n",
    "- `sor`\n",
    "- `oszlop`\n",
    "- `hanyadik grafikonon jelenjen meg`\n",
    "\n",
    "A két grafikon egymás mellett legyen:\n",
    "\n",
    "```\n",
    "import matplotlib.pyplot as plt\n",
    "import numpy as np\n",
    "\n",
    "#plot 1:\n",
    "x = np.array([0, 1, 2, 3])\n",
    "y = np.array([3, 8, 1, 10])\n",
    "\n",
    "plt.subplot(1, 2, 1)\n",
    "plt.plot(x,y)\n",
    "\n",
    "#plot 2:\n",
    "x = np.array([0, 1, 2, 3])\n",
    "y = np.array([10, 20, 30, 40])\n",
    "\n",
    "plt.subplot(1, 2, 2) # azt írja le, hogy egy sor lesz és 2 oszlop, és 2 grafikon \n",
    "plt.plot(x,y) # ... és ez a plot az első lesz\n",
    "\n",
    "plt.show()\n",
    "```"
   ]
  },
  {
   "cell_type": "code",
   "execution_count": null,
   "id": "13b95e08",
   "metadata": {},
   "outputs": [],
   "source": []
  },
  {
   "cell_type": "markdown",
   "id": "9e17ef31",
   "metadata": {},
   "source": [
    "A két grafikon egymás felett legyen:\n",
    "\n",
    "```\n",
    "import matplotlib.pyplot as plt\n",
    "import numpy as np\n",
    "\n",
    "#plot 1:\n",
    "x = np.array([0, 1, 2, 3])\n",
    "y = np.array([3, 8, 1, 10])\n",
    "\n",
    "plt.subplot(2, 1, 1)\n",
    "plt.plot(x,y)\n",
    "\n",
    "#plot 2:\n",
    "x = np.array([0, 1, 2, 3])\n",
    "y = np.array([10, 20, 30, 40])\n",
    "\n",
    "plt.subplot(2, 1, 2)\n",
    "plt.plot(x,y)\n",
    "\n",
    "plt.show()\n",
    "```"
   ]
  },
  {
   "cell_type": "code",
   "execution_count": null,
   "id": "1fe8f0d8",
   "metadata": {},
   "outputs": [],
   "source": []
  },
  {
   "cell_type": "markdown",
   "id": "2dba7590",
   "metadata": {},
   "source": [
    "Egy 2-szer 3-as mátrixelrendezésű grafikonhalmaz:\n",
    "\n",
    "```\n",
    "import matplotlib.pyplot as plt\n",
    "import numpy as np\n",
    "\n",
    "x = np.array([0, 1, 2, 3])\n",
    "y = np.array([3, 8, 1, 10])\n",
    "\n",
    "plt.subplot(2, 3, 1)\n",
    "plt.plot(x,y)\n",
    "\n",
    "x = np.array([0, 1, 2, 3])\n",
    "y = np.array([10, 20, 30, 40])\n",
    "\n",
    "plt.subplot(2, 3, 2)\n",
    "plt.plot(x,y)\n",
    "\n",
    "x = np.array([0, 1, 2, 3])\n",
    "y = np.array([3, 8, 1, 10])\n",
    "\n",
    "plt.subplot(2, 3, 3)\n",
    "plt.plot(x,y)\n",
    "\n",
    "x = np.array([0, 1, 2, 3])\n",
    "y = np.array([10, 20, 30, 40])\n",
    "\n",
    "plt.subplot(2, 3, 4)\n",
    "plt.plot(x,y)\n",
    "\n",
    "x = np.array([0, 1, 2, 3])\n",
    "y = np.array([3, 8, 1, 10])\n",
    "\n",
    "plt.subplot(2, 3, 5)\n",
    "plt.plot(x,y)\n",
    "\n",
    "x = np.array([0, 1, 2, 3])\n",
    "y = np.array([10, 20, 30, 40])\n",
    "\n",
    "plt.subplot(2, 3, 6)\n",
    "plt.plot(x,y)\n",
    "\n",
    "plt.show()\n",
    "```"
   ]
  },
  {
   "cell_type": "code",
   "execution_count": null,
   "id": "18bb56bf",
   "metadata": {},
   "outputs": [],
   "source": []
  },
  {
   "cell_type": "markdown",
   "id": "aec58d05",
   "metadata": {},
   "source": [
    "### További grafikon típusok\n",
    "\n",
    "| Neve| Leírása| Függvény|\n",
    "|---|---|---|\n",
    "| scatter | pont | plt.scatter(x, y, color, c, cmap) |\n",
    "| bar | oszlop | plt.bar(x, y, color, width) |\n",
    "| barh | vízszintes oszlop | plt.barh(x, y, color, height) |\n",
    "| histogram | hisztogram | plt.hist(x) |\n",
    "| pie | torta/kör | plt.pie(y, labels, colors, startangle, explode, shadow=False) |"
   ]
  },
  {
   "cell_type": "markdown",
   "id": "fae5bc1a",
   "metadata": {},
   "source": [
    "#### Scatter példa\n",
    "\n",
    "```\n",
    "import matplotlib.pyplot as plt\n",
    "import numpy as np\n",
    "\n",
    "x = np.array([5,7,8,7,2,17,2,9,4,11,12,9,6])\n",
    "y = np.array([99,86,87,88,111,86,103,87,94,78,77,85,86])\n",
    "colors = np.array([\"red\",\"green\",\"blue\",\"yellow\",\"pink\",\"black\",\"orange\",\"purple\",\"beige\",\"brown\",\"gray\",\"cyan\",\"magenta\"])\n",
    "\n",
    "plt.scatter(x, y, c=colors)\n",
    "\n",
    "plt.show()\n",
    "```"
   ]
  },
  {
   "cell_type": "code",
   "execution_count": null,
   "id": "6cc362d4",
   "metadata": {},
   "outputs": [],
   "source": []
  },
  {
   "cell_type": "markdown",
   "id": "6993686b",
   "metadata": {},
   "source": [
    "Hőtérkép\n",
    "\n",
    "```\n",
    "import matplotlib.pyplot as plt\n",
    "import numpy as np\n",
    "\n",
    "x = np.array([5,7,8,7,2,17,2,9,4,11,12,9,6])\n",
    "y = np.array([99,86,87,88,111,86,103,87,94,78,77,85,86])\n",
    "colors = np.array([0, 10, 20, 30, 40, 45, 50, 55, 60, 70, 80, 90, 100])\n",
    "\n",
    "plt.scatter(x, y, c=colors, cmap='viridis')\n",
    "\n",
    "plt.colorbar()\n",
    "\n",
    "plt.show()\n",
    "```"
   ]
  },
  {
   "cell_type": "code",
   "execution_count": null,
   "id": "b6e3204f",
   "metadata": {},
   "outputs": [],
   "source": []
  },
  {
   "cell_type": "markdown",
   "id": "82f7ead4",
   "metadata": {},
   "source": [
    "#### Bar példák\n",
    "\n",
    "```\n",
    "import matplotlib.pyplot as plt\n",
    "import numpy as np\n",
    "\n",
    "x = np.array([\"A\", \"B\", \"C\", \"D\"])\n",
    "y = np.array([3, 8, 1, 10])\n",
    "\n",
    "plt.bar(x,y)\n",
    "plt.show()\n",
    "```"
   ]
  },
  {
   "cell_type": "code",
   "execution_count": null,
   "id": "f1562662",
   "metadata": {},
   "outputs": [],
   "source": []
  },
  {
   "cell_type": "markdown",
   "id": "3ef86874",
   "metadata": {},
   "source": [
    "```\n",
    "import matplotlib.pyplot as plt\n",
    "import numpy as np\n",
    "\n",
    "x = np.array([\"A\", \"B\", \"C\", \"D\"])\n",
    "y = np.array([3, 8, 1, 10])\n",
    "\n",
    "plt.barh(x, y)\n",
    "plt.show()\n",
    "```"
   ]
  },
  {
   "cell_type": "code",
   "execution_count": null,
   "id": "5c104e7d",
   "metadata": {},
   "outputs": [],
   "source": []
  },
  {
   "cell_type": "markdown",
   "id": "cbb605d9",
   "metadata": {},
   "source": [
    "#### Hisztogram példa\n",
    "\n",
    "```\n",
    "import matplotlib.pyplot as plt\n",
    "import numpy as np\n",
    "\n",
    "x = np.random.normal(170, 10, 250)\n",
    "\n",
    "plt.hist(x)\n",
    "plt.show() \n",
    "```"
   ]
  },
  {
   "cell_type": "code",
   "execution_count": null,
   "id": "a0b7f34a",
   "metadata": {},
   "outputs": [],
   "source": []
  },
  {
   "cell_type": "markdown",
   "id": "d7f5edbf",
   "metadata": {},
   "source": [
    "#### Kördiagram példa\n",
    "\n",
    "```\n",
    "import matplotlib.pyplot as plt\n",
    "import numpy as np\n",
    "\n",
    "y = np.array([35, 25, 25, 15])\n",
    "mylabels = [\"Apples\", \"Bananas\", \"Cherries\", \"Dates\"]\n",
    "\n",
    "plt.pie(y, labels = mylabels)\n",
    "plt.legend(title = \"Four Fruits:\")\n",
    "plt.show() \n",
    "```"
   ]
  },
  {
   "cell_type": "code",
   "execution_count": null,
   "id": "0b6cbd68",
   "metadata": {},
   "outputs": [],
   "source": []
  },
  {
   "cell_type": "markdown",
   "id": "8894bb49",
   "metadata": {},
   "source": [
    "```\n",
    "import matplotlib.pyplot as plt\n",
    "import numpy as np\n",
    "\n",
    "y = np.array([35, 25, 25, 15])\n",
    "mylabels = [\"Apples\", \"Bananas\", \"Cherries\", \"Dates\"]\n",
    "myexplode = [0.2, 0.1, 0, 0]\n",
    "\n",
    "plt.pie(y, labels = mylabels, explode = myexplode)\n",
    "plt.show() \n",
    "```"
   ]
  },
  {
   "cell_type": "code",
   "execution_count": null,
   "id": "20ff2ab7",
   "metadata": {},
   "outputs": [],
   "source": []
  },
  {
   "cell_type": "markdown",
   "id": "faf55297",
   "metadata": {},
   "source": [
    "## Példák"
   ]
  },
  {
   "cell_type": "code",
   "execution_count": null,
   "id": "37f4edc0",
   "metadata": {},
   "outputs": [],
   "source": [
    "# Ezt lefuttatom, és utána már többször nem is kell beimportálni a külső könyvtárakat, illetve az adatsorokat sem.\n",
    "import matplotlib.pyplot as plt\n",
    "import numpy as np\n",
    "\n",
    "adatsor_x = [54, 61, 32, 21, 5, 0, 0, 0, 5, 23, 41, 45]\n",
    "adatsor_y = [\"Január\", \"Február\", \"Március\", \"Április\", \"Május\", \"Június\", \"Július\", \"Augusztus\", \"Szeptember\", \"Október\", \"November\", \"December\"]\n",
    "adatsor1 = [12, 34.3, 52.7]\n",
    "adatsor2 = [\"alma\", \"körte\", \"zsömle\"]"
   ]
  },
  {
   "cell_type": "code",
   "execution_count": null,
   "id": "6f57a97c",
   "metadata": {},
   "outputs": [],
   "source": []
  },
  {
   "cell_type": "markdown",
   "id": "94b54ddb",
   "metadata": {},
   "source": [
    "\n",
    "1. Készítsünk diagramokat a fentebbi adatsorok segítségével:\n",
    "    - Oszlop (adatsor_x és adatsor_y)\n",
    "        - Gázfelahsználás KJ-ban\n",
    "    - Kör diagram (adatsor1, adatsor2)\n",
    "        - Vásárlói kosár\n",
    "2. Rajzoljunk fel egy szinusz görbét a $-\\pi$ és $3\\pi$ tartományon.\n",
    "3. Rajzoljuk fel az alábbi egyenletrendszert grafikusan a(z) $x\\in [0; 5,5]$ tartományon"
   ]
  },
  {
   "cell_type": "code",
   "execution_count": null,
   "id": "b4709d29",
   "metadata": {},
   "outputs": [],
   "source": [
    "# 1. feladat\n",
    "\n"
   ]
  },
  {
   "cell_type": "code",
   "execution_count": null,
   "id": "8f10376b",
   "metadata": {},
   "outputs": [],
   "source": [
    "# 2. feladat\n",
    "\n"
   ]
  },
  {
   "cell_type": "code",
   "execution_count": null,
   "id": "c713b76c",
   "metadata": {},
   "outputs": [],
   "source": [
    "# 3. feladat\n",
    "\n"
   ]
  },
  {
   "cell_type": "code",
   "execution_count": null,
   "id": "e12bb7fe",
   "metadata": {},
   "outputs": [],
   "source": []
  },
  {
   "cell_type": "code",
   "execution_count": null,
   "id": "74e7978a",
   "metadata": {},
   "outputs": [],
   "source": []
  }
 ],
 "metadata": {
  "kernelspec": {
   "display_name": "Python 3 (ipykernel)",
   "language": "python",
   "name": "python3"
  },
  "language_info": {
   "codemirror_mode": {
    "name": "ipython",
    "version": 3
   },
   "file_extension": ".py",
   "mimetype": "text/x-python",
   "name": "python",
   "nbconvert_exporter": "python",
   "pygments_lexer": "ipython3",
   "version": "3.9.12"
  }
 },
 "nbformat": 4,
 "nbformat_minor": 5
}
