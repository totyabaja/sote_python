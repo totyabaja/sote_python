{
 "cells": [
  {
   "cell_type": "markdown",
   "id": "3b844519",
   "metadata": {},
   "source": [
    "## 2. előadás -  Python\n",
    "## Az algoritmusok alapelemei (szekvencia, elágazás, ciklus)\n",
    "\n",
    "### 2022. szeptember 15.\n",
    "\n",
    "#### Dr. Tóth Zoltán és Dr. Tamus Zoltán Ádám"
   ]
  },
  {
   "cell_type": "markdown",
   "id": "8c7c3039",
   "metadata": {},
   "source": [
    "#### Feltételvizsgálat\n",
    "Vizsgáljuk meg, hogy működik az Excelben tanult `HA()` függvény a Pythonban.\n",
    "\n",
    "A Python angol nyelvű utasításokból áll, és ahogy a korábbi órán is elhangzott, az angol nyelv szabályait követi. Minél igazabb ez rá, annál inkább `pythonikus`.\n",
    "\n",
    "Szintaxis:\n",
    "\n",
    "`if feltétel_vizsgálat:\n",
    "    utasítások\n",
    "elif:\n",
    "    utasítások\n",
    "else:\n",
    "    utasítások`\n",
    "    \n",
    "De mi lehet a feltételvizsgálatnál? Mi szerepelhet ott?\n",
    "\n",
    "| Operátorművelet | Egyenlet | Hatása | Példa |\n",
    "| --- | --- | --- | --- |\n",
    "| `a == b` | $a = b$ | Az $a$ egyenlő a $b$ értékével. | 2 == 2 : IGAZ <br/> 3 == 4 : HAMIS |\n",
    "| `a != b` | $a \\not = b$ |  Az $a$ nem egyenlő a $b$ értékével. | 2 != 3: IGAZ |\n",
    "| `a < b` | $a < b$ |  Az $a$ kisebb, mint a $b$ értéke. | 2 < 3: IGAZ |\n",
    "| `a <= b` | $a \\leq b$ |  Az $a$ kisebb vagy egyenlő, mint a $b$ értéke. | 3 <= 3: IGAZ |\n",
    "| `a > b` | $a > b$ |  Az $a$ nagyobb, mint a $b$ értéke. | 2 < 2: HAMIS |\n",
    "| `a >= b` | $a \\geq b$ |  Az $a$ nagyobb vagy egyenlő, mint a $b$ értéke. | 2 <= 2: IGAZ |"
   ]
  },
  {
   "cell_type": "markdown",
   "id": "17a887be",
   "metadata": {},
   "source": [
    "#### 1. feladat\n",
    "Kérjünk be két elemet a bemeneten: {$x$, $y$} A két elemet hasonlítsuk össze. $x < y \\implies out: x$ kisebb, mint $y$\n",
    "\n",
    "`x = int(input(\"X értéke: \"))\n",
    "y = int(input(\"Y értéke: \"))`\n",
    "\n",
    "`if x < y:\n",
    "    print(x, \"kisebb, mint\", y)\n",
    "else:\n",
    "    print(x, \"nem kisebb, mint\", y)`"
   ]
  },
  {
   "cell_type": "code",
   "execution_count": null,
   "id": "fc240ffb",
   "metadata": {},
   "outputs": [],
   "source": []
  },
  {
   "cell_type": "markdown",
   "id": "3f968f8f",
   "metadata": {},
   "source": [
    "#### 2. feladat\n",
    "Kérjünk be két elemet a bemeneten: {$x$, $y$} A két elemet hasonlítsuk össze. $x < y \\implies out: x$ kisebb, mint $y$\n",
    "\n",
    "Most viszont inline legyen megoldva.\n",
    "\n",
    "Hogy mi? Inline. Vagyis egy sorban oldjuk meg az if-else párost.\n",
    "\n",
    "`utasítás if feltétel_vizsgálat else else_utasítás`\n",
    "\n",
    "Példa:\n",
    "\n",
    "`x = int(input(\"X értéke: \"))\n",
    "y = int(input(\"Y értéke: \"))`\n",
    "\n",
    "`print(x, \"kisebb, mint\", y) if x < y else print(x, \"nem kisebb, mint\", y)`"
   ]
  },
  {
   "cell_type": "code",
   "execution_count": null,
   "id": "74e69e02",
   "metadata": {},
   "outputs": [],
   "source": []
  },
  {
   "cell_type": "markdown",
   "id": "958243d6",
   "metadata": {},
   "source": [
    "#### 3. feladat\n",
    "Kérjünk be három elemet a bemeneten: {$x$, $y$, $z$} A három elemet hasonlítsuk össze.\n",
    "\n",
    "|Esetek|\n",
    "|---|\n",
    "|$x < y < z$ $\\implies$ out: x kisebb, mint $y$|\n",
    "|$x < z < y$ $\\implies$ out: x kisebb, mint $y$|\n",
    "|$y < x < z$ $\\implies$ out: x kisebb, mint $y$|\n",
    "|$y < z < x$ $\\implies$ out: x kisebb, mint $y$|\n",
    "|$z < x < y$ $\\implies$ out: x kisebb, mint $y$|\n",
    "|$z < y < x$ $\\implies$ out: x kisebb, mint $y$|"
   ]
  },
  {
   "cell_type": "markdown",
   "id": "784d80fb",
   "metadata": {},
   "source": [
    "`x = int(input(\"X értéke: \"))\n",
    "y = int(input(\"Y értéke: \"))\n",
    "z = int(input(\"Z értéke: \"))`\n",
    "\n",
    "`print(\"Sorrend:\")`\n",
    "\n",
    "`if x < y and y < z:\n",
    "    print(x, y, z, sep=\" < \")\n",
    "elif x < z and z < y:\n",
    "    print(x, z, y, sep=\" < \")\n",
    "elif y < x and x < z:\n",
    "    print(y, x, z, sep=\" < \")\n",
    "elif y < z and z < x:\n",
    "    print(y, z, x, sep=\" < \")\n",
    "elif z < x and x < y:\n",
    "    print(z, x, y, sep=\" < \")\n",
    "elif z < y and y < x:\n",
    "    print(z, y, x, sep=\" < \")\n",
    "else:\n",
    "    print(\"valami nem stimmel\")`"
   ]
  },
  {
   "cell_type": "code",
   "execution_count": null,
   "id": "3ac0c707",
   "metadata": {},
   "outputs": [],
   "source": []
  },
  {
   "cell_type": "markdown",
   "id": "da7a0927",
   "metadata": {},
   "source": [
    "Lehet másként is csinálni: itt lehet balról és jobbról is operátort használni egyazon feltételvizsgálaton belül\n",
    "\n",
    "`x = int(input(\"X értéke: \"))\n",
    "y = int(input(\"Y értéke: \"))\n",
    "z = int(input(\"Z értéke: \"))`\n",
    "\n",
    "`print(\"Sorrend:\")`\n",
    "\n",
    "`if x < y < z:\n",
    "    print(x, y, z, sep=\" < \")\n",
    "elif x < z < y:\n",
    "    print(x, z, y, sep=\" < \")\n",
    "elif y < x < z:\n",
    "    print(y, x, z, sep=\" < \")\n",
    "elif y < z < x:\n",
    "    print(y, z, x, sep=\" < \")\n",
    "elif z < x < y:\n",
    "    print(z, x, y, sep=\" < \")\n",
    "elif z < y < x:\n",
    "    print(z, y, x, sep=\" < \")\n",
    "else:\n",
    "    print(\"valami nem stimmel\")`"
   ]
  },
  {
   "cell_type": "code",
   "execution_count": null,
   "id": "22b3c917",
   "metadata": {},
   "outputs": [],
   "source": []
  },
  {
   "cell_type": "markdown",
   "id": "f746e423",
   "metadata": {},
   "source": [
    "### Ciklusok\n",
    "\n",
    "A while ciklus egy adott feltétel teljesülésig ismétlődik.\n",
    "\n",
    "A while szintaxisa:\n",
    "\n",
    "`while feltétel_vizsgálat:\n",
    "    utasítások`\n",
    "\n",
    "Példa:\n",
    "\n",
    "`i = 1\n",
    "while i < 4:\n",
    "    print(i)\n",
    "    i += 1`\n",
    "\n",
    "#### 4. feladat\n",
    "Írjunk egy ciklust, amely kiírja a számokat 1-től 10-ig."
   ]
  },
  {
   "cell_type": "code",
   "execution_count": null,
   "id": "70c9c371",
   "metadata": {},
   "outputs": [],
   "source": []
  },
  {
   "cell_type": "markdown",
   "id": "4c18f2d9",
   "metadata": {},
   "source": [
    "#### 5. feladat\n",
    "Írjunk egy ciklust, amely kiírja a páros számokat 1-től 10-ig."
   ]
  },
  {
   "cell_type": "code",
   "execution_count": null,
   "id": "d35acf56",
   "metadata": {},
   "outputs": [],
   "source": []
  },
  {
   "cell_type": "markdown",
   "id": "92403bf9",
   "metadata": {},
   "source": [
    "#### 6. feladat\n",
    "Írjunk egy ciklust, amely kiírja a 7-tel való osztás maradékait."
   ]
  },
  {
   "cell_type": "code",
   "execution_count": null,
   "id": "3b5e3f35",
   "metadata": {},
   "outputs": [],
   "source": []
  },
  {
   "cell_type": "markdown",
   "id": "a8ed8e94",
   "metadata": {},
   "source": [
    "### A $break$ a cikluson belül\n",
    "\n",
    "Szintaxis:\n",
    "\n",
    "`i = 1\n",
    "while i < 10:\n",
    "    print(i)\n",
    "    if i == 4:\n",
    "        break\n",
    "    i += 1`\n",
    "\n",
    "#### 7. feladat\n",
    "Próbáljuk ki a fenti kódot, mi történik?"
   ]
  },
  {
   "cell_type": "code",
   "execution_count": null,
   "id": "92aa54a8",
   "metadata": {},
   "outputs": [],
   "source": []
  },
  {
   "cell_type": "markdown",
   "id": "e7026f6d",
   "metadata": {},
   "source": [
    "$\\textbf{Megoldás:}$ A ciklusból kilépünk azon a ponton, amikor a `break` uatítás meghívódik."
   ]
  },
  {
   "cell_type": "markdown",
   "id": "b679f6c1",
   "metadata": {},
   "source": [
    "### A $continue$ a cikluson belül\n",
    "\n",
    "Szintaxis:\n",
    "\n",
    "`i = 1\n",
    "while i < 10:\n",
    "    print(i)\n",
    "    if i == 4:\n",
    "        continue\n",
    "    i += 1`\n",
    "\n",
    "#### 8. feladat\n",
    "Próbáljuk ki a fenti kódot, mi történik?"
   ]
  },
  {
   "cell_type": "code",
   "execution_count": null,
   "id": "3972ed2e",
   "metadata": {},
   "outputs": [],
   "source": []
  },
  {
   "cell_type": "markdown",
   "id": "d5c37edd",
   "metadata": {},
   "source": [
    "$\\textbf{Megoldás:}$ A ciklusból nem lépünk ki, csak a következő ciklusra lépünk."
   ]
  },
  {
   "cell_type": "markdown",
   "id": "32af095c",
   "metadata": {},
   "source": [
    "### Az $else$ a cikluson belül\n",
    "\n",
    "Szintaxis:\n",
    "\n",
    "`i = 1\n",
    "while i < 10:\n",
    "    print(i)\n",
    "    i += 1\n",
    "else:\n",
    "    print(\"i is no longer less than 10\")`\n",
    "    \n",
    "    \n",
    "#### 9. feladat\n",
    "Próbáljuk ki a fenti kódot, mi történik?"
   ]
  },
  {
   "cell_type": "code",
   "execution_count": null,
   "id": "8af05e08",
   "metadata": {},
   "outputs": [],
   "source": []
  },
  {
   "cell_type": "markdown",
   "id": "b40b84e5",
   "metadata": {},
   "source": [
    "$\\textbf{Megoldás:}$ A ciklus életének végén lefut az `else` ágban lévő utasítás"
   ]
  },
  {
   "cell_type": "markdown",
   "id": "b465faf6",
   "metadata": {},
   "source": [
    "### Házi feladat:\n",
    "1. "
   ]
  },
  {
   "cell_type": "markdown",
   "id": "a6e47b16",
   "metadata": {},
   "source": [
    "### Következő óra eleji kis ZH anyaga:\n",
    "1. típusok\n",
    "2. input / output\n",
    "3. if\n",
    "4. while"
   ]
  }
 ],
 "metadata": {
  "kernelspec": {
   "display_name": "Python 3 (ipykernel)",
   "language": "python",
   "name": "python3"
  },
  "language_info": {
   "codemirror_mode": {
    "name": "ipython",
    "version": 3
   },
   "file_extension": ".py",
   "mimetype": "text/x-python",
   "name": "python",
   "nbconvert_exporter": "python",
   "pygments_lexer": "ipython3",
   "version": "3.9.12"
  }
 },
 "nbformat": 4,
 "nbformat_minor": 5
}
