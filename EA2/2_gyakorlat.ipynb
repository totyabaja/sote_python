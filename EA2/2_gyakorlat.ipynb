{
 "cells": [
  {
   "cell_type": "markdown",
   "id": "09972b25",
   "metadata": {},
   "source": [
    "## 2. előadás -  Python\n",
    "## Az algoritmusok alapelemei (szekvencia, elágazás, ciklus)\n",
    "\n",
    "### 2022. szeptember 15.\n",
    "\n",
    "#### Dr. Tóth Zoltán és Dr. Tamus Zoltán Ádám"
   ]
  },
  {
   "cell_type": "markdown",
   "id": "e20bdff5",
   "metadata": {},
   "source": [
    "#### Feltételvizsgálat\n",
    "Vizsgáljuk meg, hogy működik az Excelben tanult `HA()` függvény a Pythonban.\n",
    "\n",
    "A Python angol nyelvű utasításokból áll, és ahogy a korábbi órán is elhangzott, az angol nyelv szabályait követi. Minél igazabb ez rá, annál inkább `pythonikus`.\n",
    "\n",
    "Szintaxis:\n",
    "\n",
    "`if feltétel_vizsgálat:\n",
    "    utasítások\n",
    "elif:\n",
    "    utasítások\n",
    "else:\n",
    "    utasítások`\n",
    "    \n",
    "De mi lehet a feltételvizsgálatnál? Mi szerepelhet ott?\n",
    "\n",
    "| Operátorművelet | Egyenlet | Hatása | Példa |\n",
    "| --- | --- | --- | --- |\n",
    "| `a == b` | $a = b$ | Az $a$ egyenlő a $b$ értékével. | 2 == 2 : IGAZ <br/> 3 == 4 : HAMIS |\n",
    "| `a != b` | $a \\not = b$ |  Az $a$ nem egyenlő a $b$ értékével. | 2 != 3: IGAZ |\n",
    "| `a < b` | $a < b$ |  Az $a$ kisebb, mint a $b$ értéke. | 2 < 3: IGAZ |\n",
    "| `a <= b` | $a \\leq b$ |  Az $a$ kisebb vagy egyenlő, mint a $b$ értéke. | 3 <= 3: IGAZ |\n",
    "| `a > b` | $a > b$ |  Az $a$ nagyobb, mint a $b$ értéke. | 2 < 2: HAMIS |\n",
    "| `a >= b` | $a \\geq b$ |  Az $a$ nagyobb vagy egyenlő, mint a $b$ értéke. | 2 <= 2: IGAZ |"
   ]
  },
  {
   "cell_type": "markdown",
   "id": "2cb7658d",
   "metadata": {},
   "source": [
    "#### 1. feladat\n",
    "Kérjünk be két elemet a bemeneten: {$x$, $y$} A két elemet hasonlítsuk össze. $x < y \\implies out: x$ kisebb, mint $y$\n",
    "\n",
    "`x = int(input(\"X értéke: \"))\n",
    "y = int(input(\"Y értéke: \"))`\n",
    "\n",
    "`if x < y:\n",
    "    print(x, \"kisebb, mint\", y)\n",
    "else:\n",
    "    print(x, \"nem kisebb, mint\", y)`"
   ]
  },
  {
   "cell_type": "code",
   "execution_count": null,
   "id": "ff7216dc",
   "metadata": {},
   "outputs": [],
   "source": []
  },
  {
   "cell_type": "markdown",
   "id": "e2a2c379",
   "metadata": {},
   "source": [
    "#### 2. feladat\n",
    "Kérjünk be két elemet a bemeneten: {$x$, $y$} A két elemet hasonlítsuk össze. $x < y \\implies out: x$ kisebb, mint $y$\n",
    "\n",
    "Most viszont inline legyen megoldva.\n",
    "\n",
    "Hogy mi? Inline. Vagyis egy sorban oldjuk meg az if-else párost.\n",
    "\n",
    "`utasítás if feltétel_vizsgálat else else_utasítás`\n",
    "\n",
    "Példa:\n",
    "\n",
    "`x = int(input(\"X értéke: \"))\n",
    "y = int(input(\"Y értéke: \"))`\n",
    "\n",
    "`print(x, \"kisebb, mint\", y) if x < y else print(x, \"nem kisebb, mint\", y)`"
   ]
  },
  {
   "cell_type": "code",
   "execution_count": null,
   "id": "2ccfd2f9",
   "metadata": {},
   "outputs": [],
   "source": []
  },
  {
   "cell_type": "markdown",
   "id": "47d176e2",
   "metadata": {},
   "source": [
    "#### 3. feladat\n",
    "Kérjünk be három elemet a bemeneten: {$x$, $y$, $z$} A három elemet hasonlítsuk össze.\n",
    "\n",
    "|Esetek|\n",
    "|---|\n",
    "|$x < y \\implies$ out: x kisebb, mint $y$|\n",
    "|$x < y \\implies$ out: x kisebb, mint $y$|\n",
    "|$x < y \\implies$ out: x kisebb, mint $y$|"
   ]
  },
  {
   "cell_type": "markdown",
   "id": "501de665",
   "metadata": {},
   "source": [
    "`x = int(input(\"X értéke: \"))\n",
    "y = int(input(\"Y értéke: \"))\n",
    "z = int(input(\"Z értéke: \"))`\n",
    "\n",
    "`print(\"Sorrend:\")`\n",
    "\n",
    "`if x < y and y < z:\n",
    "    print(x, y, z, sep=\" < \")\n",
    "elif x < z and z < y:\n",
    "    print(x, z, y, sep=\" < \")\n",
    "elif y < x and x < z:\n",
    "    print(y, x, z, sep=\" < \")\n",
    "elif y < z and z < x:\n",
    "    print(y, z, x, sep=\" < \")\n",
    "elif z < x and x < y:\n",
    "    print(z, x, y, sep=\" < \")\n",
    "elif z < y and y < x:\n",
    "    print(z, y, x, sep=\" < \")\n",
    "else:\n",
    "    print(\"valami nem stimmel\")`"
   ]
  },
  {
   "cell_type": "code",
   "execution_count": null,
   "id": "a304388c",
   "metadata": {},
   "outputs": [],
   "source": []
  },
  {
   "cell_type": "markdown",
   "id": "81025d17",
   "metadata": {},
   "source": [
    "Lehet másként is csinálni: itt lehet balról és jobbról is operátort használni egyazon vizsgáalton belül\n",
    "\n",
    "`x = int(input(\"X értéke: \"))\n",
    "y = int(input(\"Y értéke: \"))\n",
    "z = int(input(\"Z értéke: \"))`\n",
    "\n",
    "`print(\"Sorrend:\")`\n",
    "\n",
    "`if x < y < z:\n",
    "    print(x, y, z, sep=\" < \")\n",
    "elif x < z < y:\n",
    "    print(x, z, y, sep=\" < \")\n",
    "elif y < x < z:\n",
    "    print(y, x, z, sep=\" < \")\n",
    "elif y < z < x:\n",
    "    print(y, z, x, sep=\" < \")\n",
    "elif z < x < y:\n",
    "    print(z, x, y, sep=\" < \")\n",
    "elif z < y < x:\n",
    "    print(z, y, x, sep=\" < \")\n",
    "else:\n",
    "    print(\"valami nem stimmel\")`"
   ]
  },
  {
   "cell_type": "code",
   "execution_count": null,
   "id": "60e28052",
   "metadata": {},
   "outputs": [],
   "source": []
  },
  {
   "cell_type": "markdown",
   "id": "459f6332",
   "metadata": {},
   "source": [
    "### Ciklusok\n",
    "\n",
    "A while ciklus egy adott feltétel teljesülésig ismétlődik.\n",
    "\n",
    "A while szintaxisa:\n",
    "\n",
    "`while feltétel_vizsgálat:\n",
    "    utasítások`\n",
    "\n",
    "Példa:\n",
    "\n",
    "`i = 1\n",
    "while i < 4:\n",
    "    print(i)\n",
    "    i += 1`\n",
    "\n",
    "#### 4. feladat\n",
    "Írjunk egy ciklust, amely kiírja a számokat 1-től 10-ig."
   ]
  },
  {
   "cell_type": "code",
   "execution_count": null,
   "id": "e39c44e0",
   "metadata": {},
   "outputs": [],
   "source": []
  },
  {
   "cell_type": "markdown",
   "id": "216001d8",
   "metadata": {},
   "source": [
    "#### 5. feladat\n",
    "Írjunk egy ciklust, amely kiírja a páros számokat 1-től 10-ig."
   ]
  },
  {
   "cell_type": "code",
   "execution_count": null,
   "id": "bba56316",
   "metadata": {},
   "outputs": [],
   "source": []
  },
  {
   "cell_type": "markdown",
   "id": "fe745d09",
   "metadata": {},
   "source": [
    "#### 6. feladat\n",
    "Írjunk egy ciklust, amely kiírja a 7-tel való osztó maradékait."
   ]
  },
  {
   "cell_type": "code",
   "execution_count": null,
   "id": "53e97741",
   "metadata": {},
   "outputs": [],
   "source": []
  },
  {
   "cell_type": "markdown",
   "id": "ae880fb4",
   "metadata": {},
   "source": [
    "### Házi feladat:\n",
    "1. "
   ]
  }
 ],
 "metadata": {
  "kernelspec": {
   "display_name": "Python 3 (ipykernel)",
   "language": "python",
   "name": "python3"
  },
  "language_info": {
   "codemirror_mode": {
    "name": "ipython",
    "version": 3
   },
   "file_extension": ".py",
   "mimetype": "text/x-python",
   "name": "python",
   "nbconvert_exporter": "python",
   "pygments_lexer": "ipython3",
   "version": "3.9.12"
  }
 },
 "nbformat": 4,
 "nbformat_minor": 5
}
