{
 "cells": [
  {
   "cell_type": "markdown",
   "id": "baebd4fb",
   "metadata": {},
   "source": [
    "# Közös gyakorló óra\n",
    "\n",
    "$\\textbf{Készítette:}$ Tóth Zoltán\n",
    "\n",
    "$\\textbf{Ideje:}$ 2022.10.15. szombat 12:00 "
   ]
  },
  {
   "cell_type": "markdown",
   "id": "acbde5b7",
   "metadata": {},
   "source": [
    "## Típusok, kiiratás, adatbekérés\n",
    "\n",
    "### 1. Kérjünk be a bemeneten egész számot"
   ]
  },
  {
   "cell_type": "code",
   "execution_count": 68,
   "id": "49160698",
   "metadata": {},
   "outputs": [
    {
     "name": "stdout",
     "output_type": "stream",
     "text": [
      "Kérem, adjon meg egy egész számot: 2\n"
     ]
    }
   ],
   "source": [
    "# Mivel egész számot szeretnék, így egy int függvénybe csomagolom az inputot.\n",
    "# Alapértelmezetten mindig str, vagyis sztringet kapunk a bemenetről\n",
    "\n",
    "x = int(input(\"Kérem, adjon meg egy egész számot: \"))"
   ]
  },
  {
   "cell_type": "markdown",
   "id": "70bf03f9",
   "metadata": {},
   "source": [
    "### 2. Kérjünk be a bemeneten számot"
   ]
  },
  {
   "cell_type": "code",
   "execution_count": 7,
   "id": "26357872",
   "metadata": {},
   "outputs": [
    {
     "name": "stdout",
     "output_type": "stream",
     "text": [
      "Kérem, adjon meg egy számot: 13.45\n"
     ]
    }
   ],
   "source": [
    "# Mivel tetszőleges számot szeretnék, így egy float függvénybe csomagolom az inputot.\n",
    "# Alapértelmezetten mindig str, vagyis sztringet kapunk a bemenetről\n",
    "\n",
    "y = float(input(\"Kérem, adjon meg egy számot: \"))"
   ]
  },
  {
   "cell_type": "markdown",
   "id": "0f111b15",
   "metadata": {},
   "source": [
    "### 3. Kérjünk be a bemeneten szöveget"
   ]
  },
  {
   "cell_type": "code",
   "execution_count": 10,
   "id": "daf0d2bd",
   "metadata": {},
   "outputs": [
    {
     "name": "stdout",
     "output_type": "stream",
     "text": [
      "Kérem, adjon meg egy szöveget: 2121 sfdsf\n"
     ]
    }
   ],
   "source": [
    "# ha sezretném, str függvénybe csomagolom, de nem szükséges, mert alapértelmezetten már sztring,\n",
    "# vagyis szöveg\n",
    "\n",
    "z = str(input(\"Kérem, adjon meg egy szöveget: \"))"
   ]
  },
  {
   "cell_type": "markdown",
   "id": "9a256482",
   "metadata": {},
   "source": [
    "## Adatsorok\n",
    "### 4. Készítsünk egy listát, amely $1$-től $50$-ig tartalmazza az egész számokat"
   ]
  },
  {
   "cell_type": "code",
   "execution_count": 12,
   "id": "311b27da",
   "metadata": {},
   "outputs": [
    {
     "name": "stdout",
     "output_type": "stream",
     "text": [
      "range(1, 51)\n"
     ]
    }
   ],
   "source": [
    "# A listának 3 módja van:\n",
    "# 1. megadom, hogy 0-tól mddig menjen, pl.: range(10) (de ez előtte megáll!!! 9 lesz csak)\n",
    "# 2. megadom, hogy mettől meddig, pl.: range(1, 6) » (1, 2, 3, 4, 5) A 6 már nincs benne!\n",
    "# 3. megadom, hogy mettől meddig és milyen lépésközökkel, pl.: range(1, 6, 2) » (1, 3, 5)\n",
    "\n",
    "lista_1 = range(1, 51, 1)"
   ]
  },
  {
   "cell_type": "markdown",
   "id": "cde84da4",
   "metadata": {},
   "source": [
    "### 5. Készítsünk egy listát, amely $-10$-től $-1$-ig tartalmazza az egész számokat"
   ]
  },
  {
   "cell_type": "code",
   "execution_count": 16,
   "id": "b74a9b85",
   "metadata": {},
   "outputs": [
    {
     "name": "stdout",
     "output_type": "stream",
     "text": [
      "-1\n",
      "-2\n",
      "-3\n",
      "-4\n",
      "-5\n",
      "-6\n",
      "-7\n",
      "-8\n",
      "-9\n",
      "-10\n"
     ]
    }
   ],
   "source": [
    "lista_2 = range(-10, 0)\n",
    "lista_2b = range(-1, -11, -1)\n",
    "\n",
    "for x in lista_2b:\n",
    "    print(x)"
   ]
  },
  {
   "cell_type": "markdown",
   "id": "bc028a5a",
   "metadata": {},
   "source": [
    "### 6. Készítsünk egy listát, amely $-10$-től $10$-ig tartalmazza az egész számokat"
   ]
  },
  {
   "cell_type": "code",
   "execution_count": 14,
   "id": "0548b658",
   "metadata": {},
   "outputs": [
    {
     "name": "stdout",
     "output_type": "stream",
     "text": [
      "-10\n",
      "-9\n",
      "-8\n",
      "-7\n",
      "-6\n",
      "-5\n",
      "-4\n",
      "-3\n",
      "-2\n",
      "-1\n",
      "0\n",
      "1\n",
      "2\n",
      "3\n",
      "4\n",
      "5\n",
      "6\n",
      "7\n",
      "8\n",
      "9\n",
      "10\n"
     ]
    }
   ],
   "source": [
    "lista_3 = range(-10, 11, 1)\n",
    "for x in lista_3:\n",
    "    print(x)"
   ]
  },
  {
   "cell_type": "markdown",
   "id": "d64c1ad3",
   "metadata": {},
   "source": [
    "### 7. Készítsünk egy listát, amely a páros, egész számokat tartalmazza $10$-ig"
   ]
  },
  {
   "cell_type": "code",
   "execution_count": 17,
   "id": "2ef674dd",
   "metadata": {},
   "outputs": [
    {
     "name": "stdout",
     "output_type": "stream",
     "text": [
      "2\n",
      "4\n",
      "6\n",
      "8\n",
      "10\n"
     ]
    }
   ],
   "source": [
    "lista_4 = range(2, 11, 2)\n",
    "\n",
    "for x in lista_4:\n",
    "    print(x)"
   ]
  },
  {
   "cell_type": "markdown",
   "id": "24f4b631",
   "metadata": {},
   "source": [
    "### 8. Készítsünk egy listát, amely $-10$-től $0$-ig tartalmazza a páratlan számokat"
   ]
  },
  {
   "cell_type": "code",
   "execution_count": 19,
   "id": "020eaedb",
   "metadata": {},
   "outputs": [
    {
     "name": "stdout",
     "output_type": "stream",
     "text": [
      "-9\n",
      "-7\n",
      "-5\n",
      "-3\n",
      "-1\n"
     ]
    }
   ],
   "source": [
    "lista_5 = range(-9, 1, 2)\n",
    "\n",
    "for x in lista_5:\n",
    "    print(x)"
   ]
  },
  {
   "cell_type": "markdown",
   "id": "1742e706",
   "metadata": {},
   "source": [
    "## Feltételek, értékvizsgálat\n",
    "### 9. Vizsgáljuk meg egy tetszőlegesen bekért számról, hogy páros vagy páratlan és írjuk ki"
   ]
  },
  {
   "cell_type": "code",
   "execution_count": 21,
   "id": "659c1eb5",
   "metadata": {},
   "outputs": [
    {
     "name": "stdout",
     "output_type": "stream",
     "text": [
      "Kérek egy számot13\n",
      "páratlan\n"
     ]
    }
   ],
   "source": [
    "szam = int(input(\"Kérek egy számot\"))\n",
    "\n",
    "# megvizsgálom, hogy a maradékos osztás, mit ad vissza\n",
    "# amennyiben a maradék 0, akkor páros\n",
    "if szam % 2 == 0:\n",
    "    print(\"páros\")\n",
    "# ellenkező esetben pedig páratlan lehet csak\n",
    "else:\n",
    "    print(\"páratlan\")"
   ]
  },
  {
   "cell_type": "markdown",
   "id": "3ce6c627",
   "metadata": {},
   "source": [
    "### 10. Vizsgáljuk meg egy bemenetre érkező tetszőleges számról, hogy pozitív, vagy negatív. Ellenkező esetben írjuk ki, hogy nulla."
   ]
  },
  {
   "cell_type": "code",
   "execution_count": 24,
   "id": "ac3dcc4b",
   "metadata": {},
   "outputs": [
    {
     "name": "stdout",
     "output_type": "stream",
     "text": [
      "Kérek egy számot0\n",
      "nulla\n"
     ]
    }
   ],
   "source": [
    "szam = int(input(\"Kérek egy számot\"))\n",
    "\n",
    "# amennyiben a szám nagyobb mint 0, akkor pozitív\n",
    "if szam > 0:\n",
    "    print(\"pozitív\")\n",
    "# egyébként ha a szám kisebb mint 0, akkor negatív\n",
    "elif szam < 0:\n",
    "    print(\"negatív\")\n",
    "#ellenkező esetben pedig csak nulla lehet\n",
    "else:\n",
    "    print(\"nulla\")"
   ]
  },
  {
   "cell_type": "markdown",
   "id": "bf1630df",
   "metadata": {},
   "source": [
    "## Iteráció - While\n",
    "### 11. Írjuk ki a páratlan, egész számokat $30$-ig"
   ]
  },
  {
   "cell_type": "code",
   "execution_count": 26,
   "id": "44b885c3",
   "metadata": {},
   "outputs": [
    {
     "name": "stdout",
     "output_type": "stream",
     "text": [
      "1\n",
      "3\n",
      "5\n",
      "7\n",
      "9\n",
      "11\n",
      "13\n",
      "15\n",
      "17\n",
      "19\n",
      "21\n",
      "23\n",
      "25\n",
      "27\n",
      "29\n"
     ]
    }
   ],
   "source": [
    "# while esetében kell egy iterátor, pl. az i, ami megadja, hogy mettől nézzük a sort\n",
    "i = 1\n",
    "# A while feltételvizsgálatot végez,\n",
    "# és ameddig igaz, addig ciklikusan iterál, végrehajtja a feladatot\n",
    "while i < 30:\n",
    "    print(i)\n",
    "    # a while esetén nekem kell növelnem/csökkentenem az iterátort\n",
    "    i = i + 2 # i += 2"
   ]
  },
  {
   "cell_type": "markdown",
   "id": "9c815630",
   "metadata": {},
   "source": [
    "$\\textbf{Érdekesség}$\n",
    "\n",
    "Így ki tudjuk iratni a listák elemeit anélkül, hogy `while`-t, vagy `for`-t vetnénk be.\n",
    "\n",
    "`print(*(1, 3, 4, 5), sep=\", \")`"
   ]
  },
  {
   "cell_type": "code",
   "execution_count": 29,
   "id": "a2acd954",
   "metadata": {},
   "outputs": [
    {
     "name": "stdout",
     "output_type": "stream",
     "text": [
      "1, 3, 4, 5\n"
     ]
    }
   ],
   "source": [
    "print(*(1, 3, 4, 5), sep=\", \")"
   ]
  },
  {
   "cell_type": "markdown",
   "id": "cfe2ddc0",
   "metadata": {},
   "source": [
    "`print(*range(1, 10), sep=\".\")`"
   ]
  },
  {
   "cell_type": "code",
   "execution_count": 30,
   "id": "047c2274",
   "metadata": {},
   "outputs": [
    {
     "name": "stdout",
     "output_type": "stream",
     "text": [
      "1.2.3.4.5.6.7.8.9\n"
     ]
    }
   ],
   "source": [
    "print(*range(1, 10), sep=\".\")"
   ]
  },
  {
   "cell_type": "markdown",
   "id": "2c2c404f",
   "metadata": {},
   "source": [
    "### 12. Adjuk össze a számokat $1$-től $10$-ig"
   ]
  },
  {
   "cell_type": "code",
   "execution_count": 40,
   "id": "7053784d",
   "metadata": {},
   "outputs": [
    {
     "name": "stdout",
     "output_type": "stream",
     "text": [
      "55\n"
     ]
    }
   ],
   "source": [
    "i = 1\n",
    "osszeg = 0\n",
    "\n",
    "while i <= 10:\n",
    "    osszeg = osszeg + i\n",
    "    i = i + 1\n",
    "    \n",
    "print(osszeg)"
   ]
  },
  {
   "cell_type": "markdown",
   "id": "7895867c",
   "metadata": {},
   "source": [
    "### 13. Szorozzuk össze a számokat $1$-től $10$-ig"
   ]
  },
  {
   "cell_type": "code",
   "execution_count": 37,
   "id": "acd47cad",
   "metadata": {},
   "outputs": [
    {
     "name": "stdout",
     "output_type": "stream",
     "text": [
      "3628800\n"
     ]
    }
   ],
   "source": [
    "i = 1\n",
    "szorzat = 1\n",
    "\n",
    "while i <= 10:\n",
    "    szorzat = szorzat * i\n",
    "    i = i + 1\n",
    "\n",
    "print(szorzat)"
   ]
  },
  {
   "cell_type": "markdown",
   "id": "6d3b0557",
   "metadata": {},
   "source": [
    "## Iteráció - For\n",
    "### 14. Írjuk ki a páratlan, egész számokat $30$-ig"
   ]
  },
  {
   "cell_type": "code",
   "execution_count": 38,
   "id": "16a28d0d",
   "metadata": {},
   "outputs": [
    {
     "name": "stdout",
     "output_type": "stream",
     "text": [
      "1\n",
      "2\n",
      "3\n",
      "4\n",
      "5\n",
      "6\n",
      "7\n",
      "8\n",
      "9\n",
      "10\n",
      "11\n",
      "12\n",
      "13\n",
      "14\n",
      "15\n",
      "16\n",
      "17\n",
      "18\n",
      "19\n",
      "20\n",
      "21\n",
      "22\n",
      "23\n",
      "24\n",
      "25\n",
      "26\n",
      "27\n",
      "28\n",
      "29\n"
     ]
    }
   ],
   "source": [
    "# For esetében annyiban egyszerűbb lsitákon végig menni,\n",
    "# hogy nem kell nekem külön definilnom egy változót, hogy mettől, és nem kell azt növelnem sem\n",
    "# Ehelyett a lista elemein fogok lépdelni.\n",
    "# Ha generálni araok egy listát, pl. mettől meddig, vagy hányszor fusson le,\n",
    "# erre való a range()\n",
    "for i in range(1, 30, 1):\n",
    "    print(i)"
   ]
  },
  {
   "cell_type": "markdown",
   "id": "ae01a313",
   "metadata": {},
   "source": [
    "### 15. Adjuk össze a számokat $1$-től $10$-ig"
   ]
  },
  {
   "cell_type": "code",
   "execution_count": 42,
   "id": "cae3623b",
   "metadata": {},
   "outputs": [
    {
     "name": "stdout",
     "output_type": "stream",
     "text": [
      "55\n"
     ]
    }
   ],
   "source": [
    "osszeg = 0\n",
    "\n",
    "for i in range(1, 11, 1):\n",
    "    osszeg = i + osszeg # osszeg += i\n",
    "\n",
    "print(osszeg)"
   ]
  },
  {
   "cell_type": "markdown",
   "id": "24d426a7",
   "metadata": {},
   "source": [
    "### 16. Szorozzuk össze a számokat $1$-től $10$-ig"
   ]
  },
  {
   "cell_type": "code",
   "execution_count": 45,
   "id": "fd967055",
   "metadata": {},
   "outputs": [
    {
     "name": "stdout",
     "output_type": "stream",
     "text": [
      "3628800\n"
     ]
    }
   ],
   "source": [
    "szorzat = 1\n",
    "\n",
    "for kiscica in range(1, 11, 1):\n",
    "    szorzat = szorzat * kiscica # szorzat *= i\n",
    "    \n",
    "print(szorzat)"
   ]
  },
  {
   "cell_type": "markdown",
   "id": "5552bf4f",
   "metadata": {},
   "source": [
    "## Összetett feladatok \\#1\n",
    "### 17. Kérjünk be a bemeneten 2 számot és írjuk ki melyik a nagyobb\n",
    "$\\textbf{Példák}$\n",
    "\n",
    "`« Kérem, adja meg az 1. számot: 12\n",
    "« Kérem, adja meg a 2. számot: 2.34\n",
    "» A(z) 12 nagyobb, mint a(z) 2.34`\n",
    "\n",
    "`« Kérem, adja meg az 1. számot: 2.4\n",
    "« Kérem, adja meg a 2. számot: 2.67\n",
    "» A(z) 2.4 kisebb, mint a(z) 2.67`"
   ]
  },
  {
   "cell_type": "code",
   "execution_count": 48,
   "id": "362de5ca",
   "metadata": {},
   "outputs": [
    {
     "name": "stdout",
     "output_type": "stream",
     "text": [
      "Kérem, adja meg az 1. számot: 12\n",
      "Kérem, adja meg a 2. számot: 24\n",
      "A(z) 12.0 kisebb, mint a(z) 24.0\n"
     ]
    }
   ],
   "source": [
    "x = float(input(\"Kérem, adja meg az 1. számot: \"))\n",
    "y = float(input(\"Kérem, adja meg a 2. számot: \"))\n",
    "\n",
    "if x > y:\n",
    "    print(\"A(z)\", x, \"nagyobb, mint a(z)\", y)\n",
    "elif x < y:\n",
    "    print(\"A(z)\", x, \"kisebb, mint a(z)\", y)\n",
    "else:\n",
    "    print(\"A kettő egyenlő\")"
   ]
  },
  {
   "cell_type": "markdown",
   "id": "61798b53",
   "metadata": {},
   "source": [
    "### 18. Kérjünk be a bemeneten 5 számot és írjuk ki a legynagyobbat"
   ]
  },
  {
   "cell_type": "code",
   "execution_count": 52,
   "id": "8f683132",
   "metadata": {},
   "outputs": [
    {
     "name": "stdout",
     "output_type": "stream",
     "text": [
      "Kérek egy számot: 1\n",
      "Kérek egy számot: 10\n",
      "Kérek egy számot: 2\n",
      "Kérek egy számot: 3\n",
      "Kérek egy számot: 4\n",
      "10.0\n"
     ]
    }
   ],
   "source": [
    "# Ha több értéket kérünk be, az if-elif-else ágak száma drasztikusan megnő.\n",
    "# 5 szám esetén már 5!/2-1.\n",
    "# Vagy nagyon bonyolult egymásba ágyazásokat kell csinálnunk.\n",
    "# Ehelyett az értékbeolvasás közben vizsgáljuk meg, hogy az új szám nagyobb-e,\n",
    "# és egy tárolóban (elozo) mentsük el.\n",
    "\n",
    "elozo = -9999999\n",
    "for i in range(5):\n",
    "    x = float(input(\"Kérek egy számot: \"))\n",
    "    if x > elozo:\n",
    "        elozo = x\n",
    "\n",
    "print(elozo)"
   ]
  },
  {
   "cell_type": "markdown",
   "id": "69afa706",
   "metadata": {},
   "source": [
    "### 19. Kérjünk be a meneten 5 számot és írjuk ki a legynagyobbat. Használjunk listákat."
   ]
  },
  {
   "cell_type": "code",
   "execution_count": 69,
   "id": "efb219b6",
   "metadata": {},
   "outputs": [
    {
     "name": "stdout",
     "output_type": "stream",
     "text": [
      "Kérek egy számot12\n",
      "Kérek egy számot12\n",
      "Kérek egy számot12\n",
      "Kérek egy számot23\n",
      "Kérek egy számot23\n",
      "23.0\n",
      "23.0\n"
     ]
    }
   ],
   "source": [
    "# U.a. mint az előbb, csak msot egy listába mentjük az értékeket.\n",
    "\n",
    "lista = []\n",
    "for i in range(5):\n",
    "    szam = float(input(\"Kérek egy számot\"))\n",
    "    lista.append(szam)\n",
    "\n",
    "# Csinálunk egy tárolót most is, de itt az alapértelmezett érték az első listaelem\n",
    "# Ehhez képest vizsgáljuk, hogy nagyobb-e a következő\n",
    "maximum = lista[0]\n",
    "# A listaelemeken végigmegyünk (iterálunk)\n",
    "for szam in lista:\n",
    "    # Ha az aktuális érték nagyobb, mint a maximum…\n",
    "    if szam > maximum:\n",
    "        # …akkor felülírom az értékét\n",
    "        maximum = szam\n",
    "       \n",
    "print(maximum)\n",
    "\n",
    "# Akár így is megoldható\n",
    "# print(max(lista))"
   ]
  },
  {
   "cell_type": "markdown",
   "id": "5dfab8d6",
   "metadata": {},
   "source": [
    "### 20. Készítsünk piramist! A sorok számát a bemeneten bekért egész szám határozza meg.\n",
    "$\\textbf{Példa}$\n",
    "\n",
    "`. X\n",
    ".  XX\n",
    ".  XXX\n",
    ".  XXXX`\n",
    "\n",
    "\n",
    "sorok száma : 4\n",
    "1. sor: 1 db X\n",
    "2. sor: 2 db X\n",
    "3. sor: 3 db X\n",
    "4. sor: 4 db X"
   ]
  },
  {
   "cell_type": "code",
   "execution_count": 59,
   "id": "f172bfca",
   "metadata": {},
   "outputs": [
    {
     "name": "stdout",
     "output_type": "stream",
     "text": [
      "Mekkora legyen a piramis? 5\n",
      "X\n",
      "XX\n",
      "XXX\n",
      "XXXX\n",
      "XXXXX\n"
     ]
    }
   ],
   "source": [
    "sorok_szama = int(input(\"Mekkora legyen a piramis? \"))\n",
    "\n",
    "for i in range(1, sorok_szama+1):\n",
    "    # Itt egy olyan trükköt vetünk be, hogy a lista elemeit egy sima szorzással\n",
    "    # ismételtetni tudom\n",
    "    lista = [\"X\"]*i\n",
    "    # Itt pedig a korábbi trükköt vetem be, hogy a csillag egy lista előtt azt jelenti,\n",
    "    # hogy a lista elemeit egyesével szeretném használni\n",
    "    # A függvények órán lesz szó erről a másik csoportnak is.\n",
    "    print(*lista, sep=\"\")"
   ]
  },
  {
   "cell_type": "markdown",
   "id": "e700dd75",
   "metadata": {},
   "source": [
    "### 21. Készítsünk piramist! A sorok számát a bemeneten bekért egész szám határozza meg.\n",
    "$\\textbf{Példa}$\n",
    "\n",
    "`.   X\n",
    ".   XXX\n",
    ".  XXXXX\n",
    ". XXXXXXX`"
   ]
  },
  {
   "cell_type": "markdown",
   "id": "3936f184",
   "metadata": {},
   "source": [
    "sorok száma : 4\n",
    "1. sor: 3 db szóköz, 1 db X\n",
    "2. sor: 2 db szóköz, 3 db X\n",
    "3. sor: 1 db szóköz, 5 db X\n",
    "4. sor: 0 db szóköz, 7 db X"
   ]
  },
  {
   "cell_type": "code",
   "execution_count": 63,
   "id": "92047c15",
   "metadata": {},
   "outputs": [
    {
     "name": "stdout",
     "output_type": "stream",
     "text": [
      "Mekkora legyen a piramis? 5\n",
      "    X\n",
      "   XXX\n",
      "  XXXXX\n",
      " XXXXXXX\n",
      "XXXXXXXXX\n"
     ]
    }
   ],
   "source": [
    "sorok_szama = int(input(\"Mekkora legyen a piramis? \"))\n",
    "\n",
    "for i in range(1, sorok_szama+1):\n",
    "    lista_1 = [\" \"]*(sorok_szama-i)\n",
    "    lista_2 = [\"X\"]*(2*i-1)\n",
    "    print(*lista_1, *lista_2, sep=\"\")"
   ]
  },
  {
   "cell_type": "markdown",
   "id": "4638bbec",
   "metadata": {},
   "source": [
    "### 22. Pista elég sokat teker, és felírta az alábbi listába a naponta megtett kilométereket. Pista szeretné tudni, hogy mennyit ment a hétvégeken. A listában az első adat hétfői minden esetben.\n",
    "\n",
    "A lista:\n",
    "\n",
    "`pista_km = (12.3, 23.4, 43.5, 67.3, 83.6, 5.4, 52.9, 5.2, 47.8, 24.5, 8.2, 35.6, 23.7, 85.6, 32.7, 5.0)`"
   ]
  },
  {
   "cell_type": "code",
   "execution_count": 67,
   "id": "ec69baef",
   "metadata": {},
   "outputs": [
    {
     "name": "stdout",
     "output_type": "stream",
     "text": [
      "167.6\n"
     ]
    }
   ],
   "source": [
    "pista_km = (12.3, 23.4, 43.5, 67.3, 83.6, 5.4, 52.9, 5.2, 47.8, 24.5, 8.2, 35.6, 23.7, 85.6, 32.7, 5.0)\n",
    "\n",
    "osszeg = 0\n",
    "i = 0\n",
    "while i < len(pista_km): # …vagy \n",
    "    # 1. szombat és vasárnap: 5, 6\n",
    "    # A lista 1-től n-1-ig fut indexelést tekintve\n",
    "    # Emiatt nem 6 és 7, hanem 5 és 6 % 7\n",
    "    if i%7 == 5 or i%7 == 6:\n",
    "        osszeg += pista_km[i]\n",
    "    # …és a jó öreg iterátor növelés, mert ugye while…\n",
    "    i = i+1\n",
    "\n",
    "print(osszeg)"
   ]
  },
  {
   "cell_type": "code",
   "execution_count": null,
   "id": "bb412c60",
   "metadata": {},
   "outputs": [],
   "source": []
  }
 ],
 "metadata": {
  "kernelspec": {
   "display_name": "Python 3 (ipykernel)",
   "language": "python",
   "name": "python3"
  },
  "language_info": {
   "codemirror_mode": {
    "name": "ipython",
    "version": 3
   },
   "file_extension": ".py",
   "mimetype": "text/x-python",
   "name": "python",
   "nbconvert_exporter": "python",
   "pygments_lexer": "ipython3",
   "version": "3.9.12"
  }
 },
 "nbformat": 4,
 "nbformat_minor": 5
}
