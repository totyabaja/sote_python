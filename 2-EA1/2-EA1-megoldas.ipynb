{
 "cells": [
  {
   "cell_type": "markdown",
   "id": "aea7787b",
   "metadata": {},
   "source": [
    "# ZH utáni 1. előadás\n",
    "Készítette: Dr. Tóth Zoltán és Dr. Tamus Zoltán Ádám\n",
    "Ideje: 2022.11.03.\n",
    "\n",
    "Témakör: osztályok"
   ]
  },
  {
   "cell_type": "markdown",
   "id": "04943167",
   "metadata": {},
   "source": [
    "$\\textbf{Mi az az osztály?}$\n",
    "\n",
    "Az osztály (objektum) egy olyan adatszerkezet a programozási világban, amely egy egységbe foglal egy adathalmazt, illetve azokhoz kapcsolódó eljárásokat és függvényeket, amelyeket egységesen tagváltozóknak és tagsági függvényeknek hívunk.\n",
    "\n",
    "Egy osztálynak az alábbi szintaxisú:\n",
    "\n",
    "`class MyClass:\n",
    "    valtozo = ertek\n",
    "    def tagfuggveny(parameterek)\n",
    "        return valtozo`\n",
    "        \n",
    "Ha jobban megnézzük, azt látjuk, hogy a tagfüggvényből elérjük a tagváltozót, vagy módosítani tudjuk annak az értékét. Korábban elhangzott, hogy a pythonban minden osztály (objektum) alapvetően.\n",
    "\n",
    "Hogyan lehet azt elérni, hogy a tagváltozókat ne lehessen kívülről módosítani? Csak és kizárólag $setter$rel?\n",
    "\n",
    "`setter`: olyan tagsági függvény (eljárás), amely az osztály tagváltozóinak értékét tudja módosítani.\n",
    "\n",
    "Egy osztály a létrehozása során alapértelmezett értékekkel deklarálódhat, vagy mi magunk módosíthatjuk. Ehhez szükséges a(z) `__init__()` konstruktor.\n",
    "\n",
    "Próbáljuk ki az alábbi kódot, mi történik?\n",
    "\n",
    "`class Osztaly:\n",
    "    def __init__(self, evfolyam, letszam):\n",
    "        self.evfolyam = evfolyam\n",
    "        self.letszam = letszam`\n",
    "\n",
    "`o1 = Osztaly(12, 32)`\n",
    "\n",
    "`print(o1.evfolyam)\n",
    "print(o1.letszam)`"
   ]
  },
  {
   "cell_type": "code",
   "execution_count": 2,
   "id": "31c7e51e",
   "metadata": {},
   "outputs": [
    {
     "name": "stdout",
     "output_type": "stream",
     "text": [
      "12\n",
      "32\n"
     ]
    }
   ],
   "source": [
    "class Osztaly:\n",
    "    def __init__(self, evfolyam, letszam):\n",
    "        self.evfolyam = evfolyam\n",
    "        self.letszam = letszam\n",
    "        \n",
    "o1 = Osztaly(12, 32)\n",
    "\n",
    "print(o1.evfolyam)\n",
    "print(o1.letszam)"
   ]
  },
  {
   "cell_type": "markdown",
   "id": "e0e700f7",
   "metadata": {},
   "source": [
    "$\\textbf{Megoldás:}$ Azt vehettük észre, hogy bár nem deklaráltuk az `evfolyam` és `letszam` tagsági változókat, azok mégis meghívásra kerülnek és értéket is adunk nekik. Azt is észrevehetjük, hogy nem zavarja a forsítót, hogy a tagsági változó és a konstruktor paramétere ugyanazt a nevet viselei. Bár nem kötelező, de erősen javasolt, hogy minden esetben a `self.` előtaggal hivatkozzunk a tagsági változókra."
   ]
  },
  {
   "cell_type": "markdown",
   "id": "43f57f51",
   "metadata": {},
   "source": [
    "Most próbáljuk meg megváltoztatni az Osztály tagsági változóinak értékét!"
   ]
  },
  {
   "cell_type": "code",
   "execution_count": 3,
   "id": "fbda186f",
   "metadata": {},
   "outputs": [
    {
     "name": "stdout",
     "output_type": "stream",
     "text": [
      "10\n",
      "32\n"
     ]
    }
   ],
   "source": [
    "o1.evfolyam = 10\n",
    "\n",
    "print(o1.evfolyam)\n",
    "print(o1.letszam)"
   ]
  },
  {
   "cell_type": "markdown",
   "id": "f3a1b437",
   "metadata": {},
   "source": [
    "$\\textbf{Megoldás:}$ Minden további nélkül sikerült.\n",
    "\n",
    "Nézzük meg, mi történik, ha egy `_` karaktert teszünk a változó deklarációja elé.\n",
    "\n",
    "`class Osztaly:\n",
    "    def __init__(self, evfolyam, letszam):\n",
    "        self._evfolyam = evfolyam\n",
    "        self._letszam = letszam`\n",
    "\n",
    "`o1 = Osztaly(12, 32)`"
   ]
  },
  {
   "cell_type": "markdown",
   "id": "30005f4a",
   "metadata": {},
   "source": [
    "Először futtassuk le a fenti kódot."
   ]
  },
  {
   "cell_type": "code",
   "execution_count": 13,
   "id": "7b914f85",
   "metadata": {},
   "outputs": [],
   "source": [
    "class Osztaly:\n",
    "    def __init__(self, evfolyam, letszam):\n",
    "        self._evfolyam = evfolyam\n",
    "        self._letszam = letszam\n",
    "o1 = Osztaly(12, 32)"
   ]
  },
  {
   "cell_type": "markdown",
   "id": "3f588da1",
   "metadata": {},
   "source": [
    "Most próbáljuk meg lekérni az értéket.\n",
    "\n",
    "`print(o1._evfolyam)\n",
    "print(o1._letszam)`"
   ]
  },
  {
   "cell_type": "code",
   "execution_count": 14,
   "id": "945fa948",
   "metadata": {},
   "outputs": [
    {
     "name": "stdout",
     "output_type": "stream",
     "text": [
      "12\n",
      "32\n"
     ]
    }
   ],
   "source": [
    "print(o1._evfolyam)\n",
    "print(o1._letszam)"
   ]
  },
  {
   "cell_type": "markdown",
   "id": "ae03f146",
   "metadata": {},
   "source": [
    "Most pedig próbáljuk meg megváltoztatni az értékeket."
   ]
  },
  {
   "cell_type": "code",
   "execution_count": 15,
   "id": "b21df3e5",
   "metadata": {},
   "outputs": [
    {
     "name": "stdout",
     "output_type": "stream",
     "text": [
      "10\n",
      "32\n"
     ]
    }
   ],
   "source": [
    "o1._evfolyam = 10\n",
    "\n",
    "print(o1._evfolyam)\n",
    "print(o1._letszam)"
   ]
  },
  {
   "cell_type": "markdown",
   "id": "36402f44",
   "metadata": {},
   "source": [
    "$\\textbf{Megoldás:}$ Minden további nélkül sikerült. Ennek jelentőssége más szempontból lesz érdekes, amely ennek a tárgynak nem része."
   ]
  },
  {
   "cell_type": "markdown",
   "id": "ac58ff2b",
   "metadata": {},
   "source": [
    "Nézzük meg, mi történik, ha egy `__` karaktert teszünk a változó deklarációja elé.\n",
    "\n",
    "`class Osztaly:\n",
    "    def __init__(self, evfolyam, letszam):\n",
    "        self.__evfolyam = evfolyam\n",
    "        self.__letszam = letszam`\n",
    "\n",
    "`o1 = Osztaly(12, 32)`"
   ]
  },
  {
   "cell_type": "code",
   "execution_count": 16,
   "id": "51bb9336",
   "metadata": {},
   "outputs": [],
   "source": [
    "class Osztaly:\n",
    "    def __init__(self, evfolyam, letszam):\n",
    "        self.__evfolyam = evfolyam\n",
    "        self.__letszam = letszam\n",
    "o1 = Osztaly(12, 32)"
   ]
  },
  {
   "cell_type": "markdown",
   "id": "9ab278d9",
   "metadata": {},
   "source": [
    "Most próbáljuk meg lekérni az értéket.\n",
    "\n",
    "`print(o1._evfolyam)\n",
    "print(o1._letszam)`"
   ]
  },
  {
   "cell_type": "code",
   "execution_count": 17,
   "id": "7a8d0a0c",
   "metadata": {},
   "outputs": [
    {
     "ename": "AttributeError",
     "evalue": "'Osztaly' object has no attribute '__evfolyam'",
     "output_type": "error",
     "traceback": [
      "\u001b[0;31m---------------------------------------------------------------------------\u001b[0m",
      "\u001b[0;31mAttributeError\u001b[0m                            Traceback (most recent call last)",
      "Input \u001b[0;32mIn [17]\u001b[0m, in \u001b[0;36m<cell line: 1>\u001b[0;34m()\u001b[0m\n\u001b[0;32m----> 1\u001b[0m \u001b[38;5;28mprint\u001b[39m(\u001b[43mo1\u001b[49m\u001b[38;5;241;43m.\u001b[39;49m\u001b[43m__evfolyam\u001b[49m)\n\u001b[1;32m      2\u001b[0m \u001b[38;5;28mprint\u001b[39m(o1\u001b[38;5;241m.\u001b[39m__letszam)\n",
      "\u001b[0;31mAttributeError\u001b[0m: 'Osztaly' object has no attribute '__evfolyam'"
     ]
    }
   ],
   "source": [
    "print(o1.__evfolyam)\n",
    "print(o1.__letszam)"
   ]
  },
  {
   "cell_type": "markdown",
   "id": "63c53e74",
   "metadata": {},
   "source": [
    "Most pedig próbáljuk meg megváltoztatni az értékeket."
   ]
  },
  {
   "cell_type": "code",
   "execution_count": 18,
   "id": "da538793",
   "metadata": {},
   "outputs": [
    {
     "name": "stdout",
     "output_type": "stream",
     "text": [
      "10\n"
     ]
    },
    {
     "ename": "AttributeError",
     "evalue": "'Osztaly' object has no attribute '__letszam'",
     "output_type": "error",
     "traceback": [
      "\u001b[0;31m---------------------------------------------------------------------------\u001b[0m",
      "\u001b[0;31mAttributeError\u001b[0m                            Traceback (most recent call last)",
      "Input \u001b[0;32mIn [18]\u001b[0m, in \u001b[0;36m<cell line: 4>\u001b[0;34m()\u001b[0m\n\u001b[1;32m      1\u001b[0m o1\u001b[38;5;241m.\u001b[39m__evfolyam \u001b[38;5;241m=\u001b[39m \u001b[38;5;241m10\u001b[39m\n\u001b[1;32m      3\u001b[0m \u001b[38;5;28mprint\u001b[39m(o1\u001b[38;5;241m.\u001b[39m__evfolyam)\n\u001b[0;32m----> 4\u001b[0m \u001b[38;5;28mprint\u001b[39m(\u001b[43mo1\u001b[49m\u001b[38;5;241;43m.\u001b[39;49m\u001b[43m__letszam\u001b[49m)\n",
      "\u001b[0;31mAttributeError\u001b[0m: 'Osztaly' object has no attribute '__letszam'"
     ]
    }
   ],
   "source": [
    "o1.__evfolyam = 10\n",
    "\n",
    "print(o1.__evfolyam)\n",
    "print(o1.__letszam)"
   ]
  },
  {
   "cell_type": "markdown",
   "id": "29506ae9",
   "metadata": {},
   "source": [
    "$\\textbf{Megoldás:}$ Se kiolvasni, se szerkeszteni nem engedi most a tagváltozókat.\n",
    "\n",
    "De hogyan tudunk mégis hozzáférni a tagváltozókhoz?\n",
    "\n",
    "Nézzük meg a következő kódot.\n",
    "\n",
    "`class Osztaly:\n",
    "    def __init__(self, evfolyam, letszam):\n",
    "        self.__evfolyam = evfolyam\n",
    "        self.__letszam = letszam\n",
    "    @property\n",
    "    def evfolyam(self):\n",
    "        return self.__evfolyam\n",
    "    @evfolyam.setter\n",
    "    def evfolyam(self, evfolyam):\n",
    "        self.__evfolyam = evfolyam\n",
    "o1 = Osztaly(12, 32)\n",
    "print(o1.evfolyam)\n",
    "o1.evfolyam = 10\n",
    "print(o1.evfolyam)`"
   ]
  },
  {
   "cell_type": "code",
   "execution_count": 25,
   "id": "1b449f91",
   "metadata": {},
   "outputs": [
    {
     "name": "stdout",
     "output_type": "stream",
     "text": [
      "12\n",
      "10\n"
     ]
    }
   ],
   "source": [
    "class Osztaly:\n",
    "    def __init__(self, evfolyam, letszam):\n",
    "        self.__evfolyam = evfolyam\n",
    "        self.__letszam = letszam\n",
    "    @property\n",
    "    def evfolyam(self):\n",
    "        return self.__evfolyam\n",
    "    @evfolyam.setter\n",
    "    def evfolyam(self, evfolyam):\n",
    "        self.__evfolyam = evfolyam\n",
    "o1 = Osztaly(12, 32)\n",
    "print(o1.evfolyam)\n",
    "o1.evfolyam = 10\n",
    "print(o1.evfolyam)"
   ]
  },
  {
   "cell_type": "markdown",
   "id": "51b0db8f",
   "metadata": {},
   "source": [
    "$\\textbf{Megoldás:}$ Egyrészről létrehoztunk egy `setter`t, illetve egy `getter`t. A legtöbb esetben a tagásig változókat elrejtjük, és csak `setter`, vagy csak `getter` meghívásával lehet módosítani. Ez miért is hasznos? Pl. így tudjuk ellenőritni, hogy az adott érték csak a \\[8, 12\\] tartományba fog esni.\n",
    "\n",
    "`class Osztaly:\n",
    "    def __init__(self, evfolyam, letszam):\n",
    "        self.__evfolyam = evfolyam\n",
    "        self.__letszam = letszam\n",
    "    @property\n",
    "    def evfolyam(self):\n",
    "        return self.__evfolyam\n",
    "    @evfolyam.setter\n",
    "    def evfolyam(self, evfolyam):\n",
    "        self.__evfolyam = evfolyam if 8<evfolyam<13 else 8\n",
    "o1 = Osztaly(12, 32)\n",
    "print(o1.evfolyam)\n",
    "o1.evfolyam = 7\n",
    "print(o1.evfolyam)`"
   ]
  },
  {
   "cell_type": "code",
   "execution_count": 27,
   "id": "072fd802",
   "metadata": {},
   "outputs": [
    {
     "name": "stdout",
     "output_type": "stream",
     "text": [
      "12\n",
      "8\n"
     ]
    }
   ],
   "source": [
    "class Osztaly:\n",
    "    def __init__(self, evfolyam, letszam):\n",
    "        self.__evfolyam = evfolyam\n",
    "        self.__letszam = letszam\n",
    "    @property\n",
    "    def evfolyam(self):\n",
    "        return self.__evfolyam\n",
    "    @evfolyam.setter\n",
    "    def evfolyam(self, evfolyam):\n",
    "        self.__evfolyam = evfolyam if 8<evfolyam<13 else 8\n",
    "o1 = Osztaly(12, 32)\n",
    "print(o1.evfolyam)\n",
    "o1.evfolyam = 7\n",
    "print(o1.evfolyam)"
   ]
  },
  {
   "cell_type": "markdown",
   "id": "d8996340",
   "metadata": {},
   "source": [
    "Sok esetben szükségünk van arra, hogy az adott objektumot printeljük. Erre van egy univerzális megoldás pythonban: a(z) `__str__()` tagfüggvény.\n",
    "\n",
    "Próbáljuk ki az alábbi kódrészletet:\n",
    "\n",
    "`class Tanulo:\n",
    "    def __init__(self, nev, eletkor):\n",
    "        self.__nev=nev\n",
    "        self.__eletkor=eletkor\n",
    "    def __str__(self):\n",
    "        # Ez egy újfajta jelölés sztring alkotására, figyeljük meg, hogy néz ki!\n",
    "        return f\"{self.__nev} (kor: {self.__eletkor})\"\n",
    "t1 = Tanulo(\"Kis Miska\", 16)\n",
    "print(t1)`"
   ]
  },
  {
   "cell_type": "code",
   "execution_count": 30,
   "id": "7e40aa7c",
   "metadata": {},
   "outputs": [
    {
     "name": "stdout",
     "output_type": "stream",
     "text": [
      "Kis Miska (kor: 16)\n"
     ]
    }
   ],
   "source": [
    "class Tanulo:\n",
    "    def __init__(self, nev, eletkor):\n",
    "        self.__nev=nev\n",
    "        self.__eletkor=eletkor\n",
    "    def __str__(self):\n",
    "        return f\"{self.__nev} (kor: {self.__eletkor})\"\n",
    "t1 = Tanulo(\"Kis Miska\", 16)\n",
    "print(t1)"
   ]
  },
  {
   "cell_type": "markdown",
   "id": "7cf06300",
   "metadata": {},
   "source": [
    "Próbáljuk ki úgy is, hogy nem írjuk meg a(z) `__str__` tagfüggvényt!"
   ]
  },
  {
   "cell_type": "code",
   "execution_count": 32,
   "id": "6058b958",
   "metadata": {},
   "outputs": [
    {
     "name": "stdout",
     "output_type": "stream",
     "text": [
      "<__main__.Tanulo object at 0x7fd9b86fc5e0>\n"
     ]
    }
   ],
   "source": [
    "class Tanulo:\n",
    "    def __init__(self, nev, eletkor):\n",
    "        self.__nev=nev\n",
    "        self.__eletkor=eletkor\n",
    "t1 = Tanulo(\"Kis Miska\", 16)\n",
    "print(t1)"
   ]
  },
  {
   "cell_type": "markdown",
   "id": "00bea0e4",
   "metadata": {},
   "source": [
    "$\\textbf{Megoldás:}$ Ebben az esetben az osztály típusát (Tanulo) kapjuk vissza, illetve a memóriacímet, ahonnan elérhető."
   ]
  },
  {
   "cell_type": "markdown",
   "id": "a1c19bc8",
   "metadata": {},
   "source": [
    "### Feladatok\n",
    "1. Készítsünk egy osztályt az osztályoknak (`Osztaly`), amely az alábbi privát tagsági változókkal rendelkezik:\n",
    "    - evfolyam\n",
    "    - letszam\n",
    "2. Készítsünk egy tanuló (`Tanulo`) osztályt, amely az alábbi privát tagsági változókkal rendelkezik:\n",
    "    - nev\n",
    "    - szul_ido (erre hozzunk létre egy új változó típust: `datum`)\n",
    "3. Írjuk meg ezekhez a `setter`eket, illetve a `getter`eket!\n",
    "4. Írjuk meg a(z) `__init__` konstruktorokat, ahol állítsuk be, ha szükséges, hogy mi legyen az alapértelmezett érték, ha a tartományon kívül esik a beállított érték.\n",
    "5. Az `Osztály` osztályon belül hozzunk létre egy tanulok tagsági változót, amely privát legyen és alapértelmezetten egy üres, módosítható, rendezett lista.\n",
    "6. Töltsük fel az osztályt tanulókkal. Ehhez egy homogén adatszerkezetet kell létrehoznunk. $\\textbf{Kérjünk segítséget!}$\n",
    "\n",
    "    $\\textbf{Tipp:}$ Ez egy sima lista igazából, amihez hozzáadunk mindig egy-egy `Tanulo` típusú elemet.\n",
    "    \n",
    "7. Írjuk meg az osztályokhoz (`Osztaly` és `Tanulo`) a `__str__` tagfüggvényeket.\n",
    "8. Írjunk egy tagsági függvényt, amivel ki tudunk csapni egy-egy hallgatót. :)"
   ]
  },
  {
   "cell_type": "code",
   "execution_count": 33,
   "id": "f2d0f16f",
   "metadata": {},
   "outputs": [],
   "source": [
    "#TODO: Osztaly osztály megírása\n"
   ]
  },
  {
   "cell_type": "code",
   "execution_count": null,
   "id": "71013a9b",
   "metadata": {},
   "outputs": [],
   "source": [
    "#TODO: Tanulo osztály megírása\n"
   ]
  },
  {
   "cell_type": "code",
   "execution_count": null,
   "id": "2d99b8de",
   "metadata": {},
   "outputs": [],
   "source": [
    "#TODO: tanulók generálása\n"
   ]
  },
  {
   "cell_type": "code",
   "execution_count": null,
   "id": "001de36a",
   "metadata": {},
   "outputs": [],
   "source": [
    "#TODO: osztályok generálása és tanulókkal való feltöltése\n"
   ]
  },
  {
   "cell_type": "code",
   "execution_count": 34,
   "id": "1d10fce5",
   "metadata": {},
   "outputs": [],
   "source": [
    "#TODO: Irassuk ki az egyes osztályokat (__str__)\n"
   ]
  }
 ],
 "metadata": {
  "kernelspec": {
   "display_name": "Python 3 (ipykernel)",
   "language": "python",
   "name": "python3"
  },
  "language_info": {
   "codemirror_mode": {
    "name": "ipython",
    "version": 3
   },
   "file_extension": ".py",
   "mimetype": "text/x-python",
   "name": "python",
   "nbconvert_exporter": "python",
   "pygments_lexer": "ipython3",
   "version": "3.9.12"
  }
 },
 "nbformat": 4,
 "nbformat_minor": 5
}
