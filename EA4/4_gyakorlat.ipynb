{
 "cells": [
  {
   "cell_type": "markdown",
   "id": "3b844519",
   "metadata": {},
   "source": [
    "## 4. előadás -  Python\n",
    "## Adatszerkezetek (tömb, lista, sor, verem) \\#2 \n",
    "\n",
    "### 2022. október 06.\n",
    "\n",
    "#### Dr. Tóth Zoltán és Dr. Tamus Zoltán Ádám"
   ]
  },
  {
   "cell_type": "markdown",
   "id": "f746e423",
   "metadata": {},
   "source": [
    "## Listák\n",
    "\n",
    "A lsitáknak 3+1 fajtája van, amelyek az alábbi alapján csoportosíthatóak:\n",
    "\n",
    "| Típus | Rendezett |  Változtatható | Duplikátum lehetséges | Jelölése |\n",
    "|---|---|---|---|---|\n",
    "| List | $\\checkmark$ | $\\checkmark$ | $\\checkmark$ | $list[i]$ |\n",
    "| Tuple | $\\checkmark$ | $\\times$  | $\\checkmark$ | $list(i)$ |\n",
    "| Set | $\\times$ | $\\times$ | $\\times$ | $list{i}$ | \n",
    "| Dictionary | $\\checkmark$ | $\\checkmark$ | $\\times$ | $list[i]$ |\n",
    "\n",
    "\n",
    "\n",
    "### Rendezett\n",
    "Rendezettségről akkor beszélünk, ha az elemeknek egy meghatározott sorrendje van, és az nem változtatható meg.\n",
    "\n",
    "Amennyiben új elemet adsz a lsitához, úgy az a lista végére kerül.\n",
    "\n",
    "### Változtatható\n",
    "Változtathatóságról akkor beszélünk, ha módosíthatjuk, hozzáadhatuk, vagy törölhetünk elemeket miután a listát létrehoztuk.\n",
    "\n",
    "### Duplikátum lehetséges\n",
    "Mivel a listáka indexáltak, így ugyanaz az elem többször is szerepelhet minden probléma nélkül.\n",
    "\n",
    "\n",
    "### Példák\n",
    "\n",
    "#### 1. feladat\n",
    "Próbáljuk ki az alábbi utasításokat, mi lesz az eredménye.\n",
    "\n",
    "##### 1.1\n",
    "`lista1 = [\"alma\", \"körte\", \"meggy\"]\n",
    "print(lista1)`"
   ]
  },
  {
   "cell_type": "code",
   "execution_count": null,
   "id": "70c9c371",
   "metadata": {},
   "outputs": [],
   "source": []
  },
  {
   "cell_type": "markdown",
   "id": "4c18f2d9",
   "metadata": {},
   "source": [
    "$\\textbf{Megoldás:}$ Egy sima listát kapunk, amely rendezett."
   ]
  },
  {
   "cell_type": "markdown",
   "id": "f14d9a5f",
   "metadata": {},
   "source": [
    "##### 1.2. Kérjük le az egyes elemeket.\n",
    "`print(lista1[0])\n",
    "print(lista1[2])\n",
    "print(lista1[3])`"
   ]
  },
  {
   "cell_type": "code",
   "execution_count": null,
   "id": "c35a0de9",
   "metadata": {
    "scrolled": true
   },
   "outputs": [],
   "source": []
  },
  {
   "cell_type": "markdown",
   "id": "f778c5d7",
   "metadata": {},
   "source": [
    "$\\textbf{Megoldás:}$ Ha túlindexálunk, hibát dob.\n",
    "\n",
    "##### 1.3. Listázzuk ki az össze elemét\n",
    "`for x in lista1:\n",
    "    print(x)`"
   ]
  },
  {
   "cell_type": "code",
   "execution_count": null,
   "id": "dc7ec1db",
   "metadata": {},
   "outputs": [],
   "source": []
  },
  {
   "cell_type": "markdown",
   "id": "06a60664",
   "metadata": {},
   "source": [
    "$\\textbf{Megoldás:}$ Sorban kiírja az összes elemet.\n",
    "\n",
    "##### 1.4. Adjunk hozzá egy elemet pluszban\n",
    "`lista1.append(42)\n",
    "print(lista1)`"
   ]
  },
  {
   "cell_type": "code",
   "execution_count": null,
   "id": "51760e60",
   "metadata": {},
   "outputs": [],
   "source": []
  },
  {
   "cell_type": "markdown",
   "id": "03d323ae",
   "metadata": {},
   "source": [
    "##### 1.5.  Írjunk be egy elemet a 3. helyre\n",
    "`lista1.insert(2, \"banán\")\n",
    "print(lista)`"
   ]
  },
  {
   "cell_type": "code",
   "execution_count": null,
   "id": "891981de",
   "metadata": {
    "scrolled": true
   },
   "outputs": [],
   "source": []
  },
  {
   "cell_type": "markdown",
   "id": "acc99a14",
   "metadata": {},
   "source": [
    "##### 1.6. Bővítsük a lsitát egy másik listával\n",
    "`lista1 = [\"alma\", \"körte\", \"narancs\"]\n",
    "lista2 = [\"meggy\", \"mandarin\", \"banán\"]\n",
    "lista1.extend(lista2)\n",
    "print(lista1)`"
   ]
  },
  {
   "cell_type": "code",
   "execution_count": null,
   "id": "94125e56",
   "metadata": {
    "scrolled": true
   },
   "outputs": [],
   "source": []
  },
  {
   "cell_type": "markdown",
   "id": "6f9e8829",
   "metadata": {},
   "source": [
    "#### 2. feladat\n",
    "Próbáljuk ki az alábbi utasításokat, mi lesz az eredménye.\n",
    "\n",
    "##### 2.1.\n",
    "`lista1 = (\"alma\", \"körte\", \"meggy\")\n",
    "print(lista1)`"
   ]
  },
  {
   "cell_type": "code",
   "execution_count": null,
   "id": "ad6a4b70",
   "metadata": {},
   "outputs": [],
   "source": []
  },
  {
   "cell_type": "markdown",
   "id": "e0c90b8f",
   "metadata": {},
   "source": [
    "$\\textbf{Megoldás:}$ Egy sima listát kapunk, amely rendezett."
   ]
  },
  {
   "cell_type": "markdown",
   "id": "57e11275",
   "metadata": {},
   "source": [
    "##### 2.2. Kérjük le az egyes elemeket.\n",
    "`print(lista1[0])\n",
    "print(lista1[2])\n",
    "print(lista1[3])`"
   ]
  },
  {
   "cell_type": "code",
   "execution_count": null,
   "id": "5d593daa",
   "metadata": {
    "scrolled": true
   },
   "outputs": [],
   "source": []
  },
  {
   "cell_type": "markdown",
   "id": "faaf15a2",
   "metadata": {},
   "source": [
    "$\\textbf{Megoldás:}$ Ha túlindexálunk, hibát dob.\n",
    "\n",
    "##### 2.3. Listázzuk ki az össze elemét\n",
    "`for x in lista1:\n",
    "    print(x)`"
   ]
  },
  {
   "cell_type": "code",
   "execution_count": null,
   "id": "19caab01",
   "metadata": {},
   "outputs": [],
   "source": []
  },
  {
   "cell_type": "markdown",
   "id": "61c67881",
   "metadata": {},
   "source": [
    "$\\textbf{Megoldás:}$ Sorban kiírja az összes elemet.\n",
    "\n",
    "##### 2.4. Adjunk hozzá egy elemet pluszban\n",
    "`lista1.append(42)\n",
    "print(lista1)`"
   ]
  },
  {
   "cell_type": "code",
   "execution_count": null,
   "id": "847c552d",
   "metadata": {},
   "outputs": [],
   "source": []
  },
  {
   "cell_type": "markdown",
   "id": "5a0682c6",
   "metadata": {},
   "source": [
    "##### 2.5.  Írjunk be egy elemet a 3. helyre\n",
    "`lista1.insert(2, \"banán\")\n",
    "print(lista)`"
   ]
  },
  {
   "cell_type": "code",
   "execution_count": null,
   "id": "e5e1f6f2",
   "metadata": {
    "scrolled": true
   },
   "outputs": [],
   "source": []
  },
  {
   "cell_type": "markdown",
   "id": "f7c11cad",
   "metadata": {},
   "source": [
    "##### 2.6. Bővítsük a lsitát egy másik listával\n",
    "`lista1 = [\"alma\", \"körte\", \"narancs\"]\n",
    "lista2 = [\"meggy\", \"mandarin\", \"banán\"]\n",
    "lista1.extend(lista2)\n",
    "print(lista1)`"
   ]
  },
  {
   "cell_type": "code",
   "execution_count": null,
   "id": "4de1dbf3",
   "metadata": {
    "scrolled": true
   },
   "outputs": [],
   "source": []
  },
  {
   "cell_type": "markdown",
   "id": "e3920d04",
   "metadata": {},
   "source": [
    "Akkor máshogyan...\n",
    "\n",
    "`lista1 = [\"alma\", \"körte\", \"narancs\"]\n",
    "lista2 = [\"meggy\", \"mandarin\", \"banán\"]\n",
    "lista3 = lista1 + lista2\n",
    "print(lista3)`"
   ]
  },
  {
   "cell_type": "code",
   "execution_count": null,
   "id": "8887820d",
   "metadata": {
    "scrolled": true
   },
   "outputs": [],
   "source": []
  },
  {
   "cell_type": "markdown",
   "id": "f3815f63",
   "metadata": {},
   "source": [
    "##### 2.7. Mi van akkor, ha szorzom?\n",
    "`lista1 = [\"alma\", \"körte\", \"narancs\"]\n",
    "n_lista = lista1 * 2\n",
    "print(n_lista)`"
   ]
  },
  {
   "cell_type": "code",
   "execution_count": null,
   "id": "f33e39e3",
   "metadata": {},
   "outputs": [],
   "source": []
  },
  {
   "cell_type": "markdown",
   "id": "5d1032e7",
   "metadata": {},
   "source": [
    "$\\textbf{Megoldás:}$ Az elemeket ismétli.\n"
   ]
  },
  {
   "cell_type": "markdown",
   "id": "d70026da",
   "metadata": {},
   "source": [
    "#### 3. feladat\n",
    "Próbáljuk ki az alábbi utasításokat, mi lesz az eredménye.\n",
    "\n",
    "##### 3.1.\n",
    "`lista1 = {\"alma\", \"körte\", \"meggy\"}\n",
    "print(lista1)\n",
    "lista2 = {1, 5, 2}\n",
    "print(lista2)\n",
    "lista3 = {\"alma\", \"alma\", \"meggy\"}\n",
    "print(lista3)`"
   ]
  },
  {
   "cell_type": "code",
   "execution_count": null,
   "id": "12e3a203",
   "metadata": {},
   "outputs": [],
   "source": []
  },
  {
   "cell_type": "markdown",
   "id": "b74b7715",
   "metadata": {},
   "source": [
    "$\\textbf{Megoldás:}$ Egy rendezett listát kapunk, amely rendezett, és ismétlődő elem nem lehet benne."
   ]
  },
  {
   "cell_type": "markdown",
   "id": "f301f32b",
   "metadata": {},
   "source": [
    "##### 3.2. Kérjük le az egyes elemeket.\n",
    "`print(lista1[0])\n",
    "print(lista1[2])\n",
    "print(lista1[3])`"
   ]
  },
  {
   "cell_type": "code",
   "execution_count": null,
   "id": "da920b53",
   "metadata": {
    "scrolled": true
   },
   "outputs": [],
   "source": []
  },
  {
   "cell_type": "markdown",
   "id": "975126d9",
   "metadata": {},
   "source": [
    "$\\textbf{Megoldás:}$ Nem kérhető le ilyen formában, mert nem fix a sorrend.\n",
    "\n",
    "##### 3.3. Listázzuk ki az össze elemét\n",
    "`for x in lista1:\n",
    "    print(x)`"
   ]
  },
  {
   "cell_type": "code",
   "execution_count": null,
   "id": "eb6a882f",
   "metadata": {},
   "outputs": [],
   "source": []
  },
  {
   "cell_type": "markdown",
   "id": "ca0eb413",
   "metadata": {},
   "source": [
    "$\\textbf{Megoldás:}$ Sorban kiírja az összes elemet.\n",
    "\n",
    "##### 3.4. Adjunk hozzá egy elemet pluszban\n",
    "`lista1.append(42)\n",
    "print(lista1)`"
   ]
  },
  {
   "cell_type": "code",
   "execution_count": null,
   "id": "b5c05621",
   "metadata": {},
   "outputs": [],
   "source": []
  },
  {
   "cell_type": "markdown",
   "id": "be2ad0d4",
   "metadata": {},
   "source": [
    "##### 3.5.  Írjunk be egy elemet a 3. helyre\n",
    "`lista1.insert(2, \"banán\")\n",
    "print(lista)`"
   ]
  },
  {
   "cell_type": "code",
   "execution_count": null,
   "id": "52849593",
   "metadata": {
    "scrolled": true
   },
   "outputs": [],
   "source": []
  },
  {
   "cell_type": "markdown",
   "id": "27e353cd",
   "metadata": {},
   "source": [
    "#### 4. feladat\n",
    "Próbáljuk ki az alábbi utasításokat, mi lesz az eredménye.\n",
    "\n",
    "##### 4.1.\n",
    "`szotar = {\n",
    "    \"nev\": \"nagy János\",\n",
    "    \"nem\": \"férfi\",\n",
    "    \"szul_ev\": 1964\n",
    "}\n",
    "print(szotar)\n",
    "print(szotar[\"nem\"])`"
   ]
  },
  {
   "cell_type": "code",
   "execution_count": null,
   "id": "52138455",
   "metadata": {},
   "outputs": [],
   "source": []
  },
  {
   "cell_type": "markdown",
   "id": "7be9a56c",
   "metadata": {},
   "source": [
    "### Gyakorló feladatok\n",
    "1. Készítsünk egy listát, ahol eltároljuk egy személy adatait:\n",
    "- neve\n",
    "- szül.idő\n",
    "- szül.hely\n",
    "- neme\n",
    "- évfolyam (1/2/3)"
   ]
  },
  {
   "cell_type": "code",
   "execution_count": null,
   "id": "91c83716",
   "metadata": {
    "scrolled": true
   },
   "outputs": [],
   "source": []
  },
  {
   "cell_type": "markdown",
   "id": "aaaa95e3",
   "metadata": {},
   "source": [
    "2. Kérjünk be 10 egész számot és rendezzük őket sorba!"
   ]
  },
  {
   "cell_type": "code",
   "execution_count": null,
   "id": "7276df3a",
   "metadata": {},
   "outputs": [],
   "source": []
  },
  {
   "cell_type": "markdown",
   "id": "e3fb5e1f",
   "metadata": {},
   "source": [
    "3. Kérjünk be 5 nevet és rendezzük sorba!"
   ]
  },
  {
   "cell_type": "code",
   "execution_count": null,
   "id": "c368e206",
   "metadata": {},
   "outputs": [],
   "source": []
  },
  {
   "cell_type": "markdown",
   "id": "6e34403c",
   "metadata": {},
   "source": [
    "4. Gyűjtsük egy lsitába a prímszámokat 100-ig!"
   ]
  },
  {
   "cell_type": "code",
   "execution_count": null,
   "id": "883dbb4f",
   "metadata": {},
   "outputs": [],
   "source": []
  },
  {
   "cell_type": "markdown",
   "id": "73e55d7c",
   "metadata": {},
   "source": [
    "5. Keressük meg az előző listából a legnagyobb prímpárt!"
   ]
  },
  {
   "cell_type": "code",
   "execution_count": null,
   "id": "ffd1544f",
   "metadata": {},
   "outputs": [],
   "source": []
  },
  {
   "cell_type": "markdown",
   "id": "a6e47b16",
   "metadata": {},
   "source": [
    "### Következő óra eleji kis ZH anyaga:\n",
    "1. listák\n",
    "2. for"
   ]
  }
 ],
 "metadata": {
  "kernelspec": {
   "display_name": "Python 3 (ipykernel)",
   "language": "python",
   "name": "python3"
  },
  "language_info": {
   "codemirror_mode": {
    "name": "ipython",
    "version": 3
   },
   "file_extension": ".py",
   "mimetype": "text/x-python",
   "name": "python",
   "nbconvert_exporter": "python",
   "pygments_lexer": "ipython3",
   "version": "3.9.12"
  }
 },
 "nbformat": 4,
 "nbformat_minor": 5
}
