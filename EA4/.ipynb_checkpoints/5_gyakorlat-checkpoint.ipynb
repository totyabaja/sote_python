{
 "cells": [
  {
   "cell_type": "markdown",
   "id": "3b844519",
   "metadata": {},
   "source": [
    "## 5. előadás -  Python\n",
    "## Függvények\n",
    "\n",
    "### 2022. október 13.\n",
    "\n",
    "#### Dr. Tóth Zoltán és Dr. Tamus Zoltán Ádám"
   ]
  },
  {
   "cell_type": "markdown",
   "id": "f746e423",
   "metadata": {},
   "source": [
    "## Függvények\n",
    "\n",
    "A függvények célja, hogy ismétlődő eljárásokat vagy műveleteket egy egyszerű meghívással végre tudjunk hajtani.\n",
    "Eljárásról akkor beszlünk, ha a függvénynek nincs visszatérési értéke.\n",
    "\n",
    "Milyen elemei vannak egy függvénynek?\n",
    "- függvény neve\n",
    "- függvény argumentuma (paraméterei, változói)\n",
    "- opcionális: függvény visszatérési értéke\n",
    "\n",
    "A pythonban a függvény a következőképpen néz ki:\n",
    "\n",
    "`def fuggveny_neve(parameter1, parameter2, ...):\n",
    "    utasítások\n",
    "    return ertek`\n",
    "\n",
    "Hogyan tudjuk meghívni az elkészült függvényt? Elégséges a nevére hivatkozni és megadni a pramétereket, amennyiben azokkal is rendelkezik. Kicsit később megnézzük az opcionális paraméterezést is.\n",
    "\n",
    "Például paraméter nélkül:\n",
    "\n",
    "`fuggveny_neve1()`\n",
    "\n",
    "És egy példa paraméterekkel:\n",
    "\n",
    "`fuggveny neve2(12, par1)`\n",
    "\n",
    "### Példák\n",
    "\n",
    "#### 1. feladat\n",
    "Próbáljuk ki az alábbi utasításokat, mi lesz az eredménye.\n",
    "\n",
    "##### 1.1\n",
    "`def teszt_fv():\n",
    "    print(\"Hello World!\")`\n",
    "    \n",
    "`teszt_fv()`"
   ]
  },
  {
   "cell_type": "code",
   "execution_count": null,
   "id": "70c9c371",
   "metadata": {},
   "outputs": [],
   "source": []
  },
  {
   "cell_type": "markdown",
   "id": "f14d9a5f",
   "metadata": {},
   "source": [
    "##### 1.2\n",
    "`def teszt_fv2(nev):\n",
    "    print(\"Hello,\", nev)`\n",
    "\n",
    "`teszt_fv2(\"Nóra\")`"
   ]
  },
  {
   "cell_type": "code",
   "execution_count": null,
   "id": "c35a0de9",
   "metadata": {
    "scrolled": true
   },
   "outputs": [],
   "source": []
  },
  {
   "cell_type": "markdown",
   "id": "f778c5d7",
   "metadata": {},
   "source": [
    "Nézzünk példát a nem kötelező függvény paraméterekre!\n",
    "\n",
    "`def fuggveny_neve(nev = \"Aladár\"):\n",
    "    utasítások`\n",
    "\n",
    "##### 1.3\n",
    "`def fv3(szin = \"fehér\"):\n",
    "    print(\"A legjobb szín a\", szin)`\n",
    "\n",
    "`fv3(\"fekete\")\n",
    "fv3(\"zöld\")\n",
    "fv3()`"
   ]
  },
  {
   "cell_type": "code",
   "execution_count": null,
   "id": "dc7ec1db",
   "metadata": {},
   "outputs": [],
   "source": []
  },
  {
   "cell_type": "markdown",
   "id": "06a60664",
   "metadata": {},
   "source": [
    "Van arra is lehetőség, hogy ne adjuk meg az adott paraméter nagyságát. Ebben az esetben így fog kinézni a függvényünk:\n",
    "\n",
    "`def fv(*args):\n",
    "    utasítások`\n",
    "\n",
    "##### 1.4\n",
    "`def fuggveny(*args):\n",
    "    for i in args:\n",
    "        print(i)`\n",
    "\n",
    "`fuggveny(\"Aladár\", \"Béla\", \"Gyula\")`"
   ]
  },
  {
   "cell_type": "code",
   "execution_count": null,
   "id": "51760e60",
   "metadata": {},
   "outputs": [],
   "source": []
  },
  {
   "cell_type": "markdown",
   "id": "03d323ae",
   "metadata": {},
   "source": [
    "Van arra is lehetőség, hogy ne adjuk meg a paraméterek számát. Ebben az esetben így fog kinézni a függvényünk:\n",
    "\n",
    "`def fv(**args):\n",
    "    utasítások`\n",
    "\n",
    "##### 1.4\n",
    "`def fuggveny2(**args):\n",
    "    print(\"A neved:\", veznev, kernev)`\n",
    "\n",
    "`fuggveny2(veznev = \"Nagy\", kernev = \"Béla\")`"
   ]
  },
  {
   "cell_type": "code",
   "execution_count": null,
   "id": "891981de",
   "metadata": {
    "scrolled": true
   },
   "outputs": [],
   "source": []
  },
  {
   "cell_type": "markdown",
   "id": "7be9a56c",
   "metadata": {},
   "source": [
    "### Gyakorló feladatok\n",
    "1. Készítsünk egy függvényt, amely kiszámolja egy szám x-edik hatványát:"
   ]
  },
  {
   "cell_type": "code",
   "execution_count": null,
   "id": "91c83716",
   "metadata": {
    "scrolled": true
   },
   "outputs": [],
   "source": []
  },
  {
   "cell_type": "markdown",
   "id": "aaaa95e3",
   "metadata": {},
   "source": [
    "2. Írjunk egy függvényt, amely köszönti a keresztnevén a felhasználót. Ha nem ismerjük a keresztnevét, csak hívjuk simán Bélának."
   ]
  },
  {
   "cell_type": "code",
   "execution_count": null,
   "id": "f23d8987",
   "metadata": {},
   "outputs": [],
   "source": []
  },
  {
   "cell_type": "markdown",
   "id": "e3fb5e1f",
   "metadata": {},
   "source": [
    "3. A korábban már megírt prím programot írjuk meg egy függvénybe. A függvény mondja meg egy számról, hogy az pírmszám-e."
   ]
  },
  {
   "cell_type": "code",
   "execution_count": null,
   "id": "c368e206",
   "metadata": {},
   "outputs": [],
   "source": []
  },
  {
   "cell_type": "markdown",
   "id": "6e34403c",
   "metadata": {},
   "source": [
    "4. Írjuk egy függvényt, amely egy vektort (listát) kap a bemenetére, és kiírja azokat vesszővel elválasztva.\n",
    "\n",
    "A lista az alábbi legyen:\n",
    "\n",
    "`t_list = (12, 23, \"Alma\", \"Béla\", True)`"
   ]
  },
  {
   "cell_type": "code",
   "execution_count": null,
   "id": "883dbb4f",
   "metadata": {},
   "outputs": [],
   "source": []
  },
  {
   "cell_type": "markdown",
   "id": "73e55d7c",
   "metadata": {},
   "source": [
    "5. Írjunk egy függvényt, amely egy listában visszadja, melyik a legnagyobb szám.\n",
    "\n",
    "A lista az alábbi legyen:\n",
    "\n",
    "`sz_list = (1, 23, 102, 45, 543, 26)`"
   ]
  },
  {
   "cell_type": "code",
   "execution_count": null,
   "id": "ffd1544f",
   "metadata": {},
   "outputs": [],
   "source": []
  },
  {
   "cell_type": "markdown",
   "id": "c4abc08c",
   "metadata": {},
   "source": [
    "6. Írjunk egy függvényt, amely egy listában visszadja, melyik a legkisebb szám.\n",
    "\n",
    "A lista az alábbi legyen:\n",
    "\n",
    "`sz2_list = (67, 23, 102, 45, 543, 26)`"
   ]
  },
  {
   "cell_type": "code",
   "execution_count": null,
   "id": "50187a25",
   "metadata": {},
   "outputs": [],
   "source": []
  },
  {
   "cell_type": "markdown",
   "id": "6c6323f9",
   "metadata": {},
   "source": [
    "7. Írjunk egy függvényt, amely kiszámolja egy lista elemeinek szorzatát.\n",
    "\n",
    "A lista az alábbi legyen:\n",
    "\n",
    "`sz_list = (1, 23, 102, 45, 543, 26)`"
   ]
  },
  {
   "cell_type": "code",
   "execution_count": null,
   "id": "b241dc15",
   "metadata": {},
   "outputs": [],
   "source": []
  },
  {
   "cell_type": "markdown",
   "id": "4b48f760",
   "metadata": {},
   "source": [
    "8. Írjunk egy függvényt, amely az Excel szorzatfüggvényéhez hasonlóan műküdjön. Amennyiben a két lista elemszáma nem egyezik meg, akkor annyit írjunk vissza, hogy 'HIBA'.\n",
    "\n",
    "A lista az alábbi legyen:\n",
    "\n",
    "`sz_list = (1, 23, 102, 45, 543, 26)`"
   ]
  },
  {
   "cell_type": "code",
   "execution_count": null,
   "id": "99c0df79",
   "metadata": {},
   "outputs": [],
   "source": []
  },
  {
   "cell_type": "markdown",
   "id": "2ddfb83c",
   "metadata": {},
   "source": [
    "$\\textbf{Plusz:}$ Írjunk egy függvényt, amely rekurzív módon visszadja az n. fibonacchi értéket.\n",
    "\n",
    "Példa: 0, 1, 1, 2, 3, 5, 8, ..."
   ]
  },
  {
   "cell_type": "code",
   "execution_count": null,
   "id": "97dcb692",
   "metadata": {},
   "outputs": [],
   "source": []
  },
  {
   "cell_type": "markdown",
   "id": "a6e47b16",
   "metadata": {},
   "source": [
    "### Következő óra eleji kis ZH anyaga:\n",
    "1. függvények"
   ]
  }
 ],
 "metadata": {
  "kernelspec": {
   "display_name": "Python 3 (ipykernel)",
   "language": "python",
   "name": "python3"
  },
  "language_info": {
   "codemirror_mode": {
    "name": "ipython",
    "version": 3
   },
   "file_extension": ".py",
   "mimetype": "text/x-python",
   "name": "python",
   "nbconvert_exporter": "python",
   "pygments_lexer": "ipython3",
   "version": "3.9.12"
  }
 },
 "nbformat": 4,
 "nbformat_minor": 5
}
