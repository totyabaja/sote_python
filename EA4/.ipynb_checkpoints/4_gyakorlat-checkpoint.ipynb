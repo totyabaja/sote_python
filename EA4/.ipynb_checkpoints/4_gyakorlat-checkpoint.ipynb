{
 "cells": [
  {
   "cell_type": "markdown",
   "id": "3b844519",
   "metadata": {},
   "source": [
    "## 4. előadás -  Python\n",
    "## Adatszerkezetek (tömb, lista, sor, verem) \\#2 \n",
    "\n",
    "### 2022. október 06.\n",
    "\n",
    "#### Dr. Tóth Zoltán és Dr. Tamus Zoltán Ádám"
   ]
  },
  {
   "cell_type": "markdown",
   "id": "f746e423",
   "metadata": {},
   "source": [
    "## Listák\n",
    "\n",
    "A lsitáknak 3+1 fajtája van, amelyek az alábbi alapján csoportosíthatóak:\n",
    "\n",
    "| Típus | Rendezett |  Változtatható | Duplikátum lehetséges | Jelölése |\n",
    "|---|---|---|---|---|\n",
    "| List | $\\checkmark$ | $\\checkmark$ | $\\checkmark$ | $list[i]$ |\n",
    "| Tuple | $\\checkmark$ | $\\times$  | $\\checkmark$ | $list(i)$ |\n",
    "| Set | $\\times$ | $\\times$ | $\\times$ | $list{i}$ | \n",
    "| Dictionary | $\\checkmark$ | $\\checkmark$ | $\\times$ | $list[i]$ |\n",
    "\n",
    "\n",
    "\n",
    "### Rendezett\n",
    "Rendezettségről akkor beszélünk, ha az elemeknek egy meghatározott sorrendje van, és az nem változtatható meg.\n",
    "\n",
    "Amennyiben új elemet adsz a lsitához, úgy az a lista végére kerül.\n",
    "\n",
    "### Változtatható\n",
    "Változtathatóságról akkor beszélünk, ha módosíthatjuk, hozzáadhatuk, vagy törölhetünk elemeket miután a listát létrehoztuk.\n",
    "\n",
    "### Duplikátum lehetséges\n",
    "Mivel a listáka indexáltak, így ugyanaz az elem többször is szerepelhet minden probléma nélkül.\n",
    "\n",
    "\n",
    "### Példák\n",
    "\n",
    "#### 1. feladat\n",
    "Próbáljuk ki az alábbi utasításokat, mi lesz az eredménye.\n",
    "\n",
    "##### 1.1\n",
    "`lista1 = [\"alma\", \"körte\", \"meggy\"]\n",
    "print(lista1)`"
   ]
  },
  {
   "cell_type": "code",
   "execution_count": null,
   "id": "70c9c371",
   "metadata": {},
   "outputs": [],
   "source": []
  },
  {
   "cell_type": "markdown",
   "id": "4c18f2d9",
   "metadata": {},
   "source": [
    "$\\textbf{Megoldás:}$ Egy sima listát kapunk, amely rendezett."
   ]
  },
  {
   "cell_type": "markdown",
   "id": "77b2d6f7",
   "metadata": {},
   "source": [
    "##### 1.2. Kérjük le az egyes elemeket.\n",
    "`print(lista1[0])\n",
    "print(lista1[2])\n",
    "print(lista1[3])`"
   ]
  },
  {
   "cell_type": "code",
   "execution_count": null,
   "id": "8d5870cf",
   "metadata": {
    "scrolled": true
   },
   "outputs": [],
   "source": []
  },
  {
   "cell_type": "markdown",
   "id": "f778c5d7",
   "metadata": {},
   "source": [
    "$\\textbf{Megoldás:}$ Ha túlindexálunk, hibát dob.\n",
    "\n",
    "##### 1.3. Listázzuk ki az össze elemét\n",
    "`for x in lista1:\n",
    "    print(x)`"
   ]
  },
  {
   "cell_type": "code",
   "execution_count": null,
   "id": "dc7ec1db",
   "metadata": {},
   "outputs": [],
   "source": []
  },
  {
   "cell_type": "markdown",
   "id": "06a60664",
   "metadata": {},
   "source": [
    "$\\textbf{Megoldás:}$ Sorban kiírja az összes elemet.\n",
    "\n",
    "##### 1.4. Adjunk hozzá egy elemet pluszban\n",
    "`lista1.append(42)\n",
    "print(lista1)`"
   ]
  },
  {
   "cell_type": "code",
   "execution_count": null,
   "id": "51760e60",
   "metadata": {},
   "outputs": [],
   "source": []
  },
  {
   "cell_type": "markdown",
   "id": "03d323ae",
   "metadata": {},
   "source": [
    "##### 1.5.  Írjunk be egy elemet a 3. helyre\n",
    "`lista1.insert(2, \"banán\")\n",
    "print(lista)`"
   ]
  },
  {
   "cell_type": "code",
   "execution_count": null,
   "id": "891981de",
   "metadata": {
    "scrolled": true
   },
   "outputs": [],
   "source": []
  },
  {
   "cell_type": "markdown",
   "id": "acc99a14",
   "metadata": {},
   "source": [
    "##### 1.6. Bővítsük a lsitát egy másik listával\n",
    "`lista1 = [\"alma\", \"körte\", \"narancs\"]\n",
    "lista2 = [\"meggy\", \"mandarin\", \"banán\"]\n",
    "lista1.extend(lista2)\n",
    "print(lista1)`"
   ]
  },
  {
   "cell_type": "code",
   "execution_count": null,
   "id": "94125e56",
   "metadata": {
    "scrolled": true
   },
   "outputs": [],
   "source": []
  },
  {
   "cell_type": "markdown",
   "id": "58367e05",
   "metadata": {},
   "source": [
    "#### 2. feladat\n",
    "Próbáljuk ki az alábbi utasításokat, mi lesz az eredménye.\n",
    "\n",
    "##### 2.1.\n",
    "`lista1 = (\"alma\", \"körte\", \"meggy\")\n",
    "print(lista1)`"
   ]
  },
  {
   "cell_type": "code",
   "execution_count": 14,
   "id": "6057698a",
   "metadata": {},
   "outputs": [
    {
     "name": "stdout",
     "output_type": "stream",
     "text": [
      "('alma', 'körte', 'meggy')\n"
     ]
    }
   ],
   "source": []
  },
  {
   "cell_type": "markdown",
   "id": "ede8fff7",
   "metadata": {},
   "source": [
    "$\\textbf{Megoldás:}$ Egy sima listát kapunk, amely rendezett."
   ]
  },
  {
   "cell_type": "markdown",
   "id": "51b807b7",
   "metadata": {},
   "source": [
    "##### 2.2. Kérjük le az egyes elemeket.\n",
    "`print(lista1[0])\n",
    "print(lista1[2])\n",
    "print(lista1[3])`"
   ]
  },
  {
   "cell_type": "code",
   "execution_count": 16,
   "id": "7683b529",
   "metadata": {
    "scrolled": true
   },
   "outputs": [
    {
     "name": "stdout",
     "output_type": "stream",
     "text": [
      "alma\n",
      "meggy\n"
     ]
    },
    {
     "ename": "IndexError",
     "evalue": "tuple index out of range",
     "output_type": "error",
     "traceback": [
      "\u001b[0;31m---------------------------------------------------------------------------\u001b[0m",
      "\u001b[0;31mIndexError\u001b[0m                                Traceback (most recent call last)",
      "Input \u001b[0;32mIn [16]\u001b[0m, in \u001b[0;36m<cell line: 3>\u001b[0;34m()\u001b[0m\n\u001b[1;32m      1\u001b[0m \u001b[38;5;28mprint\u001b[39m(lista1[\u001b[38;5;241m0\u001b[39m])\n\u001b[1;32m      2\u001b[0m \u001b[38;5;28mprint\u001b[39m(lista1[\u001b[38;5;241m2\u001b[39m])\n\u001b[0;32m----> 3\u001b[0m \u001b[38;5;28mprint\u001b[39m(\u001b[43mlista1\u001b[49m\u001b[43m[\u001b[49m\u001b[38;5;241;43m3\u001b[39;49m\u001b[43m]\u001b[49m)\n",
      "\u001b[0;31mIndexError\u001b[0m: tuple index out of range"
     ]
    }
   ],
   "source": []
  },
  {
   "cell_type": "markdown",
   "id": "4c1b593b",
   "metadata": {},
   "source": [
    "$\\textbf{Megoldás:}$ Ha túlindexálunk, hibát dob.\n",
    "\n",
    "##### 2.3. Listázzuk ki az össze elemét\n",
    "`for x in lista1:\n",
    "    print(x)`"
   ]
  },
  {
   "cell_type": "code",
   "execution_count": 17,
   "id": "49131889",
   "metadata": {},
   "outputs": [
    {
     "name": "stdout",
     "output_type": "stream",
     "text": [
      "alma\n",
      "körte\n",
      "meggy\n"
     ]
    }
   ],
   "source": []
  },
  {
   "cell_type": "markdown",
   "id": "ae36120c",
   "metadata": {},
   "source": [
    "$\\textbf{Megoldás:}$ Sorban kiírja az összes elemet.\n",
    "\n",
    "##### 2.4. Adjunk hozzá egy elemet pluszban\n",
    "`lista1.append(42)\n",
    "print(lista1)`"
   ]
  },
  {
   "cell_type": "code",
   "execution_count": 18,
   "id": "88bba500",
   "metadata": {},
   "outputs": [
    {
     "ename": "AttributeError",
     "evalue": "'tuple' object has no attribute 'append'",
     "output_type": "error",
     "traceback": [
      "\u001b[0;31m---------------------------------------------------------------------------\u001b[0m",
      "\u001b[0;31mAttributeError\u001b[0m                            Traceback (most recent call last)",
      "Input \u001b[0;32mIn [18]\u001b[0m, in \u001b[0;36m<cell line: 1>\u001b[0;34m()\u001b[0m\n\u001b[0;32m----> 1\u001b[0m \u001b[43mlista1\u001b[49m\u001b[38;5;241;43m.\u001b[39;49m\u001b[43mappend\u001b[49m(\u001b[38;5;241m42\u001b[39m)\n\u001b[1;32m      2\u001b[0m \u001b[38;5;28mprint\u001b[39m(lista1)\n",
      "\u001b[0;31mAttributeError\u001b[0m: 'tuple' object has no attribute 'append'"
     ]
    }
   ],
   "source": []
  },
  {
   "cell_type": "markdown",
   "id": "26d022ae",
   "metadata": {},
   "source": [
    "##### 2.5.  Írjunk be egy elemet a 3. helyre\n",
    "`lista1.insert(2, \"banán\")\n",
    "print(lista)`"
   ]
  },
  {
   "cell_type": "code",
   "execution_count": 19,
   "id": "136c8d31",
   "metadata": {
    "scrolled": true
   },
   "outputs": [
    {
     "ename": "AttributeError",
     "evalue": "'tuple' object has no attribute 'insert'",
     "output_type": "error",
     "traceback": [
      "\u001b[0;31m---------------------------------------------------------------------------\u001b[0m",
      "\u001b[0;31mAttributeError\u001b[0m                            Traceback (most recent call last)",
      "Input \u001b[0;32mIn [19]\u001b[0m, in \u001b[0;36m<cell line: 1>\u001b[0;34m()\u001b[0m\n\u001b[0;32m----> 1\u001b[0m \u001b[43mlista1\u001b[49m\u001b[38;5;241;43m.\u001b[39;49m\u001b[43minsert\u001b[49m(\u001b[38;5;241m2\u001b[39m, \u001b[38;5;124m\"\u001b[39m\u001b[38;5;124mbanán\u001b[39m\u001b[38;5;124m\"\u001b[39m)\n\u001b[1;32m      2\u001b[0m \u001b[38;5;28mprint\u001b[39m(lista1)\n",
      "\u001b[0;31mAttributeError\u001b[0m: 'tuple' object has no attribute 'insert'"
     ]
    }
   ],
   "source": []
  },
  {
   "cell_type": "markdown",
   "id": "d5725807",
   "metadata": {},
   "source": [
    "##### 2.6. Bővítsük a lsitát egy másik listával\n",
    "`lista1 = [\"alma\", \"körte\", \"narancs\"]\n",
    "lista2 = [\"meggy\", \"mandarin\", \"banán\"]\n",
    "lista1.extend(lista2)\n",
    "print(lista1)`"
   ]
  },
  {
   "cell_type": "code",
   "execution_count": 22,
   "id": "05d6fcd8",
   "metadata": {
    "scrolled": true
   },
   "outputs": [
    {
     "ename": "AttributeError",
     "evalue": "'tuple' object has no attribute 'extend'",
     "output_type": "error",
     "traceback": [
      "\u001b[0;31m---------------------------------------------------------------------------\u001b[0m",
      "\u001b[0;31mAttributeError\u001b[0m                            Traceback (most recent call last)",
      "Input \u001b[0;32mIn [22]\u001b[0m, in \u001b[0;36m<cell line: 3>\u001b[0;34m()\u001b[0m\n\u001b[1;32m      1\u001b[0m lista1 \u001b[38;5;241m=\u001b[39m (\u001b[38;5;124m\"\u001b[39m\u001b[38;5;124malma\u001b[39m\u001b[38;5;124m\"\u001b[39m, \u001b[38;5;124m\"\u001b[39m\u001b[38;5;124mkörte\u001b[39m\u001b[38;5;124m\"\u001b[39m, \u001b[38;5;124m\"\u001b[39m\u001b[38;5;124mnarancs\u001b[39m\u001b[38;5;124m\"\u001b[39m)\n\u001b[1;32m      2\u001b[0m lista2 \u001b[38;5;241m=\u001b[39m (\u001b[38;5;124m\"\u001b[39m\u001b[38;5;124mmeggy\u001b[39m\u001b[38;5;124m\"\u001b[39m, \u001b[38;5;124m\"\u001b[39m\u001b[38;5;124mmandarin\u001b[39m\u001b[38;5;124m\"\u001b[39m, \u001b[38;5;124m\"\u001b[39m\u001b[38;5;124mbanán\u001b[39m\u001b[38;5;124m\"\u001b[39m)\n\u001b[0;32m----> 3\u001b[0m \u001b[43mlista1\u001b[49m\u001b[38;5;241;43m.\u001b[39;49m\u001b[43mextend\u001b[49m(lista2)\n\u001b[1;32m      4\u001b[0m \u001b[38;5;28mprint\u001b[39m(lista1)\n",
      "\u001b[0;31mAttributeError\u001b[0m: 'tuple' object has no attribute 'extend'"
     ]
    }
   ],
   "source": []
  },
  {
   "cell_type": "markdown",
   "id": "fc66555a",
   "metadata": {},
   "source": [
    "Akkor máshogyan...\n",
    "\n",
    "`lista1 = [\"alma\", \"körte\", \"narancs\"]\n",
    "lista2 = [\"meggy\", \"mandarin\", \"banán\"]\n",
    "lista3 = lista1 + lista2\n",
    "print(lista3)`"
   ]
  },
  {
   "cell_type": "code",
   "execution_count": 24,
   "id": "86f4bbe4",
   "metadata": {
    "scrolled": true
   },
   "outputs": [
    {
     "name": "stdout",
     "output_type": "stream",
     "text": [
      "['alma', 'körte', 'narancs', 'meggy', 'mandarin', 'banán']\n"
     ]
    }
   ],
   "source": []
  },
  {
   "cell_type": "markdown",
   "id": "887d2ceb",
   "metadata": {},
   "source": [
    "##### 2.7. Mi van akkor, ha szorzom?\n",
    "`lista1 = [\"alma\", \"körte\", \"narancs\"]\n",
    "n_lista = lista1 * 2\n",
    "print(n_lista)`"
   ]
  },
  {
   "cell_type": "code",
   "execution_count": 23,
   "id": "a8920ff6",
   "metadata": {},
   "outputs": [
    {
     "name": "stdout",
     "output_type": "stream",
     "text": [
      "['alma', 'körte', 'narancs', 'alma', 'körte', 'narancs']\n"
     ]
    }
   ],
   "source": []
  },
  {
   "cell_type": "markdown",
   "id": "dc70b04f",
   "metadata": {},
   "source": [
    "$\\textbf{Megoldás:}$ Az elemeket ismétli.\n"
   ]
  },
  {
   "cell_type": "markdown",
   "id": "9566d616",
   "metadata": {},
   "source": [
    "#### 3. feladat\n",
    "Próbáljuk ki az alábbi utasításokat, mi lesz az eredménye.\n",
    "\n",
    "##### 3.1.\n",
    "`lista1 = {\"alma\", \"körte\", \"meggy\"}\n",
    "print(lista1)\n",
    "lista2 = {1, 5, 2}\n",
    "print(lista2)\n",
    "lista3 = {\"alma\", \"alma\", \"meggy\"}\n",
    "print(lista3)`"
   ]
  },
  {
   "cell_type": "code",
   "execution_count": 27,
   "id": "d2a2e243",
   "metadata": {},
   "outputs": [
    {
     "name": "stdout",
     "output_type": "stream",
     "text": [
      "{'körte', 'meggy', 'alma'}\n",
      "{1, 2, 5}\n",
      "{'meggy', 'alma'}\n"
     ]
    }
   ],
   "source": []
  },
  {
   "cell_type": "markdown",
   "id": "cb5cac09",
   "metadata": {},
   "source": [
    "$\\textbf{Megoldás:}$ Egy rendezett listát kapunk, amely rendezett, és ismétlődő elem nem lehet benne."
   ]
  },
  {
   "cell_type": "markdown",
   "id": "73e9d103",
   "metadata": {},
   "source": [
    "##### 3.2. Kérjük le az egyes elemeket.\n",
    "`print(lista1[0])\n",
    "print(lista1[2])\n",
    "print(lista1[3])`"
   ]
  },
  {
   "cell_type": "code",
   "execution_count": 28,
   "id": "6056842c",
   "metadata": {
    "scrolled": true
   },
   "outputs": [
    {
     "ename": "TypeError",
     "evalue": "'set' object is not subscriptable",
     "output_type": "error",
     "traceback": [
      "\u001b[0;31m---------------------------------------------------------------------------\u001b[0m",
      "\u001b[0;31mTypeError\u001b[0m                                 Traceback (most recent call last)",
      "Input \u001b[0;32mIn [28]\u001b[0m, in \u001b[0;36m<cell line: 1>\u001b[0;34m()\u001b[0m\n\u001b[0;32m----> 1\u001b[0m \u001b[38;5;28mprint\u001b[39m(\u001b[43mlista1\u001b[49m\u001b[43m[\u001b[49m\u001b[38;5;241;43m0\u001b[39;49m\u001b[43m]\u001b[49m)\n\u001b[1;32m      2\u001b[0m \u001b[38;5;28mprint\u001b[39m(lista1[\u001b[38;5;241m2\u001b[39m])\n\u001b[1;32m      3\u001b[0m \u001b[38;5;28mprint\u001b[39m(lista1[\u001b[38;5;241m3\u001b[39m])\n",
      "\u001b[0;31mTypeError\u001b[0m: 'set' object is not subscriptable"
     ]
    }
   ],
   "source": []
  },
  {
   "cell_type": "markdown",
   "id": "796bb1c2",
   "metadata": {},
   "source": [
    "$\\textbf{Megoldás:}$ Nem kérhető le ilyen formában, mert nem fix a sorrend.\n",
    "\n",
    "##### 3.3. Listázzuk ki az össze elemét\n",
    "`for x in lista1:\n",
    "    print(x)`"
   ]
  },
  {
   "cell_type": "code",
   "execution_count": 29,
   "id": "a6f7f19b",
   "metadata": {},
   "outputs": [
    {
     "name": "stdout",
     "output_type": "stream",
     "text": [
      "körte\n",
      "meggy\n",
      "alma\n"
     ]
    }
   ],
   "source": []
  },
  {
   "cell_type": "markdown",
   "id": "97452d6e",
   "metadata": {},
   "source": [
    "$\\textbf{Megoldás:}$ Sorban kiírja az összes elemet.\n",
    "\n",
    "##### 3.4. Adjunk hozzá egy elemet pluszban\n",
    "`lista1.append(42)\n",
    "print(lista1)`"
   ]
  },
  {
   "cell_type": "code",
   "execution_count": 30,
   "id": "076abf86",
   "metadata": {},
   "outputs": [
    {
     "ename": "AttributeError",
     "evalue": "'set' object has no attribute 'append'",
     "output_type": "error",
     "traceback": [
      "\u001b[0;31m---------------------------------------------------------------------------\u001b[0m",
      "\u001b[0;31mAttributeError\u001b[0m                            Traceback (most recent call last)",
      "Input \u001b[0;32mIn [30]\u001b[0m, in \u001b[0;36m<cell line: 1>\u001b[0;34m()\u001b[0m\n\u001b[0;32m----> 1\u001b[0m \u001b[43mlista1\u001b[49m\u001b[38;5;241;43m.\u001b[39;49m\u001b[43mappend\u001b[49m(\u001b[38;5;241m42\u001b[39m)\n\u001b[1;32m      2\u001b[0m \u001b[38;5;28mprint\u001b[39m(lista1)\n",
      "\u001b[0;31mAttributeError\u001b[0m: 'set' object has no attribute 'append'"
     ]
    }
   ],
   "source": []
  },
  {
   "cell_type": "markdown",
   "id": "3854b939",
   "metadata": {},
   "source": [
    "##### 3.5.  Írjunk be egy elemet a 3. helyre\n",
    "`lista1.insert(2, \"banán\")\n",
    "print(lista)`"
   ]
  },
  {
   "cell_type": "code",
   "execution_count": 32,
   "id": "57ded2be",
   "metadata": {
    "scrolled": true
   },
   "outputs": [
    {
     "ename": "AttributeError",
     "evalue": "'set' object has no attribute 'insert'",
     "output_type": "error",
     "traceback": [
      "\u001b[0;31m---------------------------------------------------------------------------\u001b[0m",
      "\u001b[0;31mAttributeError\u001b[0m                            Traceback (most recent call last)",
      "Input \u001b[0;32mIn [32]\u001b[0m, in \u001b[0;36m<cell line: 1>\u001b[0;34m()\u001b[0m\n\u001b[0;32m----> 1\u001b[0m \u001b[43mlista1\u001b[49m\u001b[38;5;241;43m.\u001b[39;49m\u001b[43minsert\u001b[49m(\u001b[38;5;241m2\u001b[39m, \u001b[38;5;124m\"\u001b[39m\u001b[38;5;124mbanán\u001b[39m\u001b[38;5;124m\"\u001b[39m)\n\u001b[1;32m      2\u001b[0m \u001b[38;5;28mprint\u001b[39m(lista1)\n",
      "\u001b[0;31mAttributeError\u001b[0m: 'set' object has no attribute 'insert'"
     ]
    }
   ],
   "source": []
  },
  {
   "cell_type": "markdown",
   "id": "9dd99bfc",
   "metadata": {},
   "source": [
    "#### 4. feladat\n",
    "Próbáljuk ki az alábbi utasításokat, mi lesz az eredménye.\n",
    "\n",
    "##### 4.1.\n",
    "`szotar = {\n",
    "    \"nev\": \"nagy János\",\n",
    "    \"nem\": \"férfi\",\n",
    "    \"szul_ev\": 1964\n",
    "}\n",
    "print(szotar)\n",
    "print(szotar[\"nem\"])`"
   ]
  },
  {
   "cell_type": "code",
   "execution_count": 34,
   "id": "89342939",
   "metadata": {},
   "outputs": [
    {
     "name": "stdout",
     "output_type": "stream",
     "text": [
      "{'nev': 'nagy János', 'nem': 'férfi', 'szul_ev': 1964}\n",
      "férfi\n"
     ]
    }
   ],
   "source": []
  },
  {
   "cell_type": "markdown",
   "id": "7be9a56c",
   "metadata": {},
   "source": [
    "### Gyakorló feladatok\n",
    "1. Készítsünk egy listát, ahol eltároljuk egy személy adatait:\n",
    "- neve\n",
    "- szül.idő\n",
    "- szül.hely\n",
    "- neme\n",
    "- évfolyam (1/2/3)"
   ]
  },
  {
   "cell_type": "code",
   "execution_count": null,
   "id": "91c83716",
   "metadata": {
    "scrolled": true
   },
   "outputs": [],
   "source": []
  },
  {
   "cell_type": "markdown",
   "id": "aaaa95e3",
   "metadata": {},
   "source": [
    "2. Kérjünk be 10 egész számot és rendezzük őket sorba!"
   ]
  },
  {
   "cell_type": "code",
   "execution_count": null,
   "id": "7276df3a",
   "metadata": {},
   "outputs": [],
   "source": []
  },
  {
   "cell_type": "markdown",
   "id": "7e177b6d",
   "metadata": {},
   "source": [
    "3. Kérjünk be 5 nevet és rendezzük sorba!"
   ]
  },
  {
   "cell_type": "code",
   "execution_count": null,
   "id": "631af23b",
   "metadata": {},
   "outputs": [],
   "source": []
  },
  {
   "cell_type": "markdown",
   "id": "50d9a052",
   "metadata": {},
   "source": [
    "4. Gyűjtsük egy lsitába a prímszámokat 100-ig!"
   ]
  },
  {
   "cell_type": "code",
   "execution_count": null,
   "id": "4a94b495",
   "metadata": {},
   "outputs": [],
   "source": []
  },
  {
   "cell_type": "markdown",
   "id": "2e4fb0ee",
   "metadata": {},
   "source": [
    "5. Keressük meg az előző listából a legnagyobb prímpárt!"
   ]
  },
  {
   "cell_type": "code",
   "execution_count": null,
   "id": "ab36d878",
   "metadata": {},
   "outputs": [],
   "source": []
  },
  {
   "cell_type": "markdown",
   "id": "a6e47b16",
   "metadata": {},
   "source": [
    "### Következő óra eleji kis ZH anyaga:\n",
    "1. listák\n",
    "2. for"
   ]
  }
 ],
 "metadata": {
  "kernelspec": {
   "display_name": "Python 3 (ipykernel)",
   "language": "python",
   "name": "python3"
  },
  "language_info": {
   "codemirror_mode": {
    "name": "ipython",
    "version": 3
   },
   "file_extension": ".py",
   "mimetype": "text/x-python",
   "name": "python",
   "nbconvert_exporter": "python",
   "pygments_lexer": "ipython3",
   "version": "3.9.12"
  }
 },
 "nbformat": 4,
 "nbformat_minor": 5
}
