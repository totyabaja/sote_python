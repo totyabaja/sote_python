{
 "cells": [
  {
   "cell_type": "markdown",
   "id": "0693019a",
   "metadata": {},
   "source": [
    "# Gyakolró óra\n",
    "Ideje: 2022.10.20.\n",
    "Készítette: Tóth Zoltán és Tamus Ádám\n",
    "\n",
    "## Értékek beolvasása\n",
    "1. Írjunk egy függvényt, amely beolvas egy egész számot a bemeneten és az értéket visszaadja. A függvény neve a következő legyen: `beolvas_egesz`"
   ]
  },
  {
   "cell_type": "code",
   "execution_count": null,
   "id": "e4d47ac8",
   "metadata": {},
   "outputs": [],
   "source": []
  },
  {
   "cell_type": "markdown",
   "id": "240414a9",
   "metadata": {},
   "source": [
    "2. Írjunk egy függvényt, amely beolvas egy pozitív egész számot a bemeneten és az értéket visszaadja. Negatív szám esetén 0-val tér vissza. A függvény neve a következő legyen: `beolvas_pozitiv_egesz`"
   ]
  },
  {
   "cell_type": "code",
   "execution_count": null,
   "id": "84ec25d1",
   "metadata": {},
   "outputs": [],
   "source": []
  },
  {
   "cell_type": "markdown",
   "id": "f80bf6ce",
   "metadata": {},
   "source": [
    "3. Írjunk egy függvényt, amely beolvas egy negatív egész számot a bemeneten és az értéket visszaadja. Pozitív szám esetén 1-val térjen vissza. A függvény neve a következő legyen: `beolvas_negativ_egesz`"
   ]
  },
  {
   "cell_type": "code",
   "execution_count": null,
   "id": "28a361da",
   "metadata": {},
   "outputs": [],
   "source": []
  },
  {
   "cell_type": "markdown",
   "id": "4806fe76",
   "metadata": {},
   "source": [
    "4. Írjunk egy függvényt, amely beolvas egy tetszőleges számot a bemeneten és az értéket visszaadja. A függvény neve a következő legyen: `beolvas_szam`"
   ]
  },
  {
   "cell_type": "code",
   "execution_count": null,
   "id": "ee75974d",
   "metadata": {},
   "outputs": [],
   "source": []
  },
  {
   "cell_type": "markdown",
   "id": "a1a5ef8a",
   "metadata": {},
   "source": [
    "5. Írjunk egy függvényt, amely egy számról eldönti, hogy páratlan-e. Visszatérési értéke: True/False. A függvény neve a következő legyen: `beolvas_paratlan_e`"
   ]
  },
  {
   "cell_type": "code",
   "execution_count": null,
   "id": "3508d16e",
   "metadata": {},
   "outputs": [],
   "source": []
  },
  {
   "cell_type": "markdown",
   "id": "1934a9cf",
   "metadata": {},
   "source": [
    "6. Írjunk egy függvényt, amely kap egy listát, és a visszatérési értéke a csak a páros számok tartalmazó lista. A függvény neve a következő legyen: `paratlan_torlo`"
   ]
  },
  {
   "cell_type": "code",
   "execution_count": null,
   "id": "6ab616fb",
   "metadata": {},
   "outputs": [],
   "source": []
  },
  {
   "cell_type": "markdown",
   "id": "c70ba9ce",
   "metadata": {},
   "source": [
    "7. Írjunk egy függvényt, amely kap egy listát, és egy értéket. Amennyiben az érték megtalálható a listában True-val tér vissza. A függvény neve a következő legyen: `benne-van-e`"
   ]
  },
  {
   "cell_type": "code",
   "execution_count": null,
   "id": "2affd7e3",
   "metadata": {},
   "outputs": [],
   "source": []
  },
  {
   "cell_type": "markdown",
   "id": "cccd7f05",
   "metadata": {},
   "source": [
    "8. Írjunk egy függvényt, amely kap egy listát, és a visszatérési értéke a legnagyobb érték. A függvény neve a következő legyen: `maximum`"
   ]
  },
  {
   "cell_type": "code",
   "execution_count": null,
   "id": "6280206a",
   "metadata": {},
   "outputs": [],
   "source": []
  },
  {
   "cell_type": "markdown",
   "id": "21a86bb3",
   "metadata": {},
   "source": [
    "9. Írjunk egy függvényt, amely kap egy listát, és a visszatérési értéke a legkisebb érték. A függvény neve a következő legyen: `minimum`"
   ]
  },
  {
   "cell_type": "code",
   "execution_count": null,
   "id": "61c5ab5d",
   "metadata": {},
   "outputs": [],
   "source": []
  },
  {
   "cell_type": "markdown",
   "id": "bf7fb2f3",
   "metadata": {},
   "source": [
    "10. Vérnyomásmérőket gyártunk. A legyártott készülékek különböző pontosságúak, ez alapján kategóriákba sorolják és ennek megfelelően árazzák. A pontosságuk alapján a következő kategóriák vannak:\n",
    "\n",
    "| Értéktartomány \\[Hgmm\\]| Pontossági osztály |\n",
    "|---|---|\n",
    "| $x \\leq 2$ | Kiváló |\n",
    "| $ 2 < x \\leq 5$ | Jó|\n",
    "| $ 5 < x \\leq 10$ | Megfeelő\n",
    "| $ 10 > x $ | Selejt\n",
    "\n",
    "Írjunk egy függvényt, amely bekéri a legyártott vérnyomásmérő pontosságát, majd az alapján visszatér az osztályba sorolási értékkel! A függvény neve a következő legyen: `verny_pontossag`"
   ]
  },
  {
   "cell_type": "code",
   "execution_count": null,
   "id": "6fec19f1",
   "metadata": {},
   "outputs": [],
   "source": []
  },
  {
   "cell_type": "markdown",
   "id": "ea7c4ec1",
   "metadata": {},
   "source": [
    "11. Írjunk függvényt, amely bekéri a szisztolés és a diasztolés vérnyomásértékeket és az alábbi ábrának megfelelően kiértékeli! Visszatérési érték a besorolás.\n",
    "A függvény neve a következő legyen: `verny_ertek`\n",
    "\n",
    "![title](https://www.omron-healthcare.hu/on/demandware.static/-/Sites-OMR-HU-Library/default/dw3547a342/wordpress_images/uploads/2019/02/Picture1-538x405.png)"
   ]
  },
  {
   "cell_type": "code",
   "execution_count": null,
   "id": "5062af40",
   "metadata": {},
   "outputs": [],
   "source": []
  },
  {
   "cell_type": "markdown",
   "id": "08156fdc",
   "metadata": {},
   "source": [
    "12. Szeretnénk a jegyeket megállapítani az alapján, hogy hány pontot ért el az adott hallgató.\n",
    "\n",
    "Készítsen olyan függvényt, amely képes bekérni a pontszámot (lehet fél pont is), és visszadja az érdemjegyet szövegesen. A függvény neve a következő legyen: `erdemjegy`\n",
    "\n",
    "| Ponthatárok | Érdemjegy |\n",
    "|---|---|\n",
    "| 0,0 - 49,9 | elégtelen |\n",
    "| 50,0 - 59,9 | elégséges |\n",
    "| 60,0 - 69,9 | közepes |\n",
    "| 70,0 - 79,9 | jó |\n",
    "| 80-100 | jeles |"
   ]
  },
  {
   "cell_type": "code",
   "execution_count": null,
   "id": "7e3e0b46",
   "metadata": {},
   "outputs": [],
   "source": []
  }
 ],
 "metadata": {
  "kernelspec": {
   "display_name": "Python 3 (ipykernel)",
   "language": "python",
   "name": "python3"
  },
  "language_info": {
   "codemirror_mode": {
    "name": "ipython",
    "version": 3
   },
   "file_extension": ".py",
   "mimetype": "text/x-python",
   "name": "python",
   "nbconvert_exporter": "python",
   "pygments_lexer": "ipython3",
   "version": "3.9.12"
  }
 },
 "nbformat": 4,
 "nbformat_minor": 5
}
