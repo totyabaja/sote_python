{
 "cells": [
  {
   "cell_type": "markdown",
   "id": "0693019a",
   "metadata": {},
   "source": [
    "# Gyakolró óra\n",
    "Ideje: 2022.10.20.\n",
    "Készítette: Tóth Zoltán és Tamus Ádám\n",
    "\n",
    "## Értékek beolvasása\n",
    "1. Írjunk egy függvényt, amely beolvas egy egész számot a bemeneten és az értéket visszaadja. A függvény neve a következő legyen: `beolvas_egesz`"
   ]
  },
  {
   "cell_type": "code",
   "execution_count": 3,
   "id": "e4d47ac8",
   "metadata": {},
   "outputs": [
    {
     "name": "stdout",
     "output_type": "stream",
     "text": [
      "Kérek egy egész számot: 1\n",
      "1\n",
      "Kérek egy egész számot: 2\n",
      "2\n"
     ]
    }
   ],
   "source": [
    "def beolvas_egesz():\n",
    "    x = int(input(\"Kérek egy egész számot: \"))\n",
    "    return x\n",
    "\n",
    "def beolvas_egesz_2():\n",
    "    return int(input(\"Kérek egy egész számot: \"))\n",
    "\n",
    "print(beolvas_egesz())\n",
    "print(beolvas_egesz_2())"
   ]
  },
  {
   "cell_type": "markdown",
   "id": "240414a9",
   "metadata": {},
   "source": [
    "2. Írjunk egy függvényt, amely beolvas egy pozitív egész számot a bemeneten és az értéket visszaadja. Negatív szám esetén 0-val tér vissza. A függvény neve a következő legyen: `beolvas_pozitiv_egesz`"
   ]
  },
  {
   "cell_type": "code",
   "execution_count": 4,
   "id": "84ec25d1",
   "metadata": {},
   "outputs": [
    {
     "name": "stdout",
     "output_type": "stream",
     "text": [
      "Kérek egy pozitív egész számot: 1\n",
      "1\n",
      "Kérek egy pozitív egész számot: -2\n",
      "0\n",
      "Kérek egy pozitív egész számot: -3\n",
      "0\n"
     ]
    }
   ],
   "source": [
    "def beolvas_pozitiv_egesz():\n",
    "    x = int(input(\"Kérek egy pozitív egész számot: \"))\n",
    "    if x < 0:\n",
    "        return 0\n",
    "    else:\n",
    "        return x\n",
    "\n",
    "def beolvas_pozitiv_egesz_2():\n",
    "    x = int(input(\"Kérek egy pozitív egész számot: \"))\n",
    "    if x < 0:\n",
    "        return 0\n",
    "    return x\n",
    "    \n",
    "def beolvas_pozitiv_egesz_3():\n",
    "    x = int(input(\"Kérek egy pozitív egész számot: \"))\n",
    "    return x if x > 0 else 0\n",
    "\n",
    "print(beolvas_pozitiv_egesz())\n",
    "print(beolvas_pozitiv_egesz_2())\n",
    "print(beolvas_pozitiv_egesz_3())"
   ]
  },
  {
   "cell_type": "markdown",
   "id": "f80bf6ce",
   "metadata": {},
   "source": [
    "3. Írjunk egy függvényt, amely beolvas egy negatív egész számot a bemeneten és az értéket visszaadja. Pozitív szám esetén 1-val térjen vissza. A függvény neve a következő legyen: `beolvas_negativ_egesz`"
   ]
  },
  {
   "cell_type": "code",
   "execution_count": 6,
   "id": "28a361da",
   "metadata": {},
   "outputs": [
    {
     "name": "stdout",
     "output_type": "stream",
     "text": [
      "Kérek egy negatív egész számot: -2\n",
      "-2\n",
      "Kérek egy pozitív egész számot: 3\n",
      "1\n",
      "Kérek egy pozitív egész számot: -12.4\n"
     ]
    },
    {
     "ename": "ValueError",
     "evalue": "invalid literal for int() with base 10: '-12.4'",
     "output_type": "error",
     "traceback": [
      "\u001b[0;31m---------------------------------------------------------------------------\u001b[0m",
      "\u001b[0;31mValueError\u001b[0m                                Traceback (most recent call last)",
      "Input \u001b[0;32mIn [6]\u001b[0m, in \u001b[0;36m<cell line: 20>\u001b[0;34m()\u001b[0m\n\u001b[1;32m     18\u001b[0m \u001b[38;5;28mprint\u001b[39m(beolvas_negativ_egesz())\n\u001b[1;32m     19\u001b[0m \u001b[38;5;28mprint\u001b[39m(beolvas_negativ_egesz_2())\n\u001b[0;32m---> 20\u001b[0m \u001b[38;5;28mprint\u001b[39m(\u001b[43mbeolvas_negativ_egesz_3\u001b[49m\u001b[43m(\u001b[49m\u001b[43m)\u001b[49m)\n",
      "Input \u001b[0;32mIn [6]\u001b[0m, in \u001b[0;36mbeolvas_negativ_egesz_3\u001b[0;34m()\u001b[0m\n\u001b[1;32m     14\u001b[0m \u001b[38;5;28;01mdef\u001b[39;00m \u001b[38;5;21mbeolvas_negativ_egesz_3\u001b[39m():\n\u001b[0;32m---> 15\u001b[0m     x \u001b[38;5;241m=\u001b[39m \u001b[38;5;28;43mint\u001b[39;49m\u001b[43m(\u001b[49m\u001b[38;5;28;43minput\u001b[39;49m\u001b[43m(\u001b[49m\u001b[38;5;124;43m\"\u001b[39;49m\u001b[38;5;124;43mKérek egy pozitív egész számot: \u001b[39;49m\u001b[38;5;124;43m\"\u001b[39;49m\u001b[43m)\u001b[49m\u001b[43m)\u001b[49m\n\u001b[1;32m     16\u001b[0m     \u001b[38;5;28;01mreturn\u001b[39;00m x \u001b[38;5;28;01mif\u001b[39;00m x \u001b[38;5;241m<\u001b[39m \u001b[38;5;241m0\u001b[39m \u001b[38;5;28;01melse\u001b[39;00m \u001b[38;5;241m1\u001b[39m\n",
      "\u001b[0;31mValueError\u001b[0m: invalid literal for int() with base 10: '-12.4'"
     ]
    }
   ],
   "source": [
    "def beolvas_negativ_egesz():\n",
    "    x = int(input(\"Kérek egy negatív egész számot: \"))\n",
    "    if x > 0:\n",
    "        return 1\n",
    "    else:\n",
    "        return x\n",
    "\n",
    "def beolvas_negativ_egesz_2():\n",
    "    x = int(input(\"Kérek egy pozitív egész számot: \"))\n",
    "    if x > 0:\n",
    "        return 1\n",
    "    return x\n",
    "    \n",
    "def beolvas_negativ_egesz_3():\n",
    "    x = int(input(\"Kérek egy pozitív egész számot: \"))\n",
    "    return x if x < 0 else 1\n",
    "\n",
    "print(beolvas_negativ_egesz())\n",
    "print(beolvas_negativ_egesz_2())\n",
    "print(beolvas_negativ_egesz_3())"
   ]
  },
  {
   "cell_type": "markdown",
   "id": "4806fe76",
   "metadata": {},
   "source": [
    "4. Írjunk egy függvényt, amely beolvas egy tetszőleges számot a bemeneten és az értéket visszaadja. A függvény neve a következő legyen: `beolvas_szam`"
   ]
  },
  {
   "cell_type": "code",
   "execution_count": 5,
   "id": "ee75974d",
   "metadata": {},
   "outputs": [
    {
     "name": "stdout",
     "output_type": "stream",
     "text": [
      "Kérek egy számot: 12\n",
      "12.0\n",
      "Kérek egy számot: 34.3\n",
      "34.3\n"
     ]
    }
   ],
   "source": [
    "def beolvas_szam():\n",
    "    x = float(input(\"Kérek egy számot: \"))\n",
    "    return x\n",
    "\n",
    "def beolvas_szam_2():\n",
    "    return float(input(\"Kérek egy számot: \"))\n",
    "\n",
    "print(beolvas_szam())\n",
    "print(beolvas_szam_2())"
   ]
  },
  {
   "cell_type": "markdown",
   "id": "a1a5ef8a",
   "metadata": {},
   "source": [
    "5. Írjunk egy függvényt, amely egy számról eldönti, hogy páratlan-e. Visszatérési értéke: True/False. A függvény neve a következő legyen: `beolvas_paratlan_e`"
   ]
  },
  {
   "cell_type": "code",
   "execution_count": 7,
   "id": "3508d16e",
   "metadata": {},
   "outputs": [
    {
     "name": "stdout",
     "output_type": "stream",
     "text": [
      "True\n",
      "False\n",
      "False\n"
     ]
    }
   ],
   "source": [
    "def beolvas_paratlan_e(szam):\n",
    "    if szam % 2 == 1:\n",
    "        return True\n",
    "    else:\n",
    "        return False\n",
    "    \n",
    "def beolvas_paratlan_e_2(szam):\n",
    "    if szam % 2 == 1:\n",
    "        return True\n",
    "    return False\n",
    "    \n",
    "def beolvas_paratlan_e_3(szam):\n",
    "    return True if szam % 2 == 1 else False\n",
    "\n",
    "print(beolvas_paratlan_e(-3))\n",
    "print(beolvas_paratlan_e_2(4))\n",
    "print(beolvas_paratlan_e_3(-234))"
   ]
  },
  {
   "cell_type": "markdown",
   "id": "1934a9cf",
   "metadata": {},
   "source": [
    "6. Írjunk egy függvényt, amely kap egy listát, és a visszatérési értéke a csak a páros számok tartalmazó lista. A függvény neve a következő legyen: `paratlan_torlo`"
   ]
  },
  {
   "cell_type": "code",
   "execution_count": 6,
   "id": "6ab616fb",
   "metadata": {},
   "outputs": [
    {
     "name": "stdout",
     "output_type": "stream",
     "text": [
      "[1, 65, 89, 34]\n"
     ]
    }
   ],
   "source": [
    "def paratlan_torlo(lista):\n",
    "    for x in lista:\n",
    "        if x % 2 == 0:\n",
    "            lista.remove(x)\n",
    "    return lista\n",
    "    \n",
    "listam = [1, 2, 65, 89, 100]\n",
    "print(paratlan_torlo(listam))"
   ]
  },
  {
   "cell_type": "markdown",
   "id": "c70ba9ce",
   "metadata": {},
   "source": [
    "7. Írjunk egy függvényt, amely kap egy listát, és egy értéket. Amennyiben az érték megtalálható a listában True-val tér vissza. A függvény neve a következő legyen: `benne-van-e`"
   ]
  },
  {
   "cell_type": "code",
   "execution_count": 9,
   "id": "2affd7e3",
   "metadata": {},
   "outputs": [
    {
     "name": "stdout",
     "output_type": "stream",
     "text": [
      "True\n",
      "False\n"
     ]
    }
   ],
   "source": [
    "def benne_van_e(lista, ertek):\n",
    "    if lista.count(ertek) > 0:\n",
    "        return True\n",
    "    else:\n",
    "        return False\n",
    "    \n",
    "def benne_van_e_2(lista, ertek):\n",
    "    return True if lista.count(ertek) else False\n",
    "    \n",
    "listam = [1, 2, 65, 89, 100]\n",
    "print(benne_van_e(listam, 2))\n",
    "print(benne_van_e_2(listam, 64))"
   ]
  },
  {
   "cell_type": "markdown",
   "id": "cccd7f05",
   "metadata": {},
   "source": [
    "8. Írjunk egy függvényt, amely kap egy listát, és a visszatérési értéke a legnagyobb érték. A függvény neve a következő legyen: `maximum`"
   ]
  },
  {
   "cell_type": "code",
   "execution_count": 17,
   "id": "6280206a",
   "metadata": {},
   "outputs": [
    {
     "name": "stdout",
     "output_type": "stream",
     "text": [
      "234\n"
     ]
    }
   ],
   "source": [
    "def maximum(lista):\n",
    "    temp = lista[0]\n",
    "    for x in lista:\n",
    "        if x > temp:\n",
    "            temp = x\n",
    "    return temp\n",
    "\n",
    "listam = [2, 34, 5, 234, 88]\n",
    "print(maximum(listam))"
   ]
  },
  {
   "cell_type": "markdown",
   "id": "21a86bb3",
   "metadata": {},
   "source": [
    "9. Írjunk egy függvényt, amely kap egy listát, és a visszatérési értéke a legkisebb érték. A függvény neve a következő legyen: `minimum`"
   ]
  },
  {
   "cell_type": "code",
   "execution_count": 18,
   "id": "61c5ab5d",
   "metadata": {},
   "outputs": [
    {
     "name": "stdout",
     "output_type": "stream",
     "text": [
      "2\n"
     ]
    }
   ],
   "source": [
    "def minimum(lista):\n",
    "    temp = lista[0]\n",
    "    for x in lista:\n",
    "        if x < temp:\n",
    "            temp = x\n",
    "    return temp\n",
    "\n",
    "listam = [2, 34, 5, 234, 88]\n",
    "print(minimum(listam))"
   ]
  },
  {
   "cell_type": "markdown",
   "id": "bf7fb2f3",
   "metadata": {},
   "source": [
    "10. Vérnyomásmérőket gyártunk. A legyártott készülékek különböző pontosságúak, ez alapján kategóriákba sorolják és ennek megfelelően árazzák. A pontosságuk alapján a következő kategóriák vannak:\n",
    "\n",
    "| Értéktartomány \\[Hgmm\\]| Pontossági osztály |\n",
    "|---|---|\n",
    "| $x \\leq 2$ | Kiváló |\n",
    "| $ 2 < x \\leq 5$ | Jó|\n",
    "| $ 5 < x \\leq 10$ | Megfeelő\n",
    "| $ 10 > x $ | Selejt\n",
    "\n",
    "Írjunk egy függvényt, amely bekéri a legyártott vérnyomásmérő pontosságát, majd az alapján visszatér az osztályba sorolási értékkel! A függvény neve a következő legyen: `verny_pontossag`"
   ]
  },
  {
   "cell_type": "code",
   "execution_count": 20,
   "id": "6fec19f1",
   "metadata": {},
   "outputs": [
    {
     "name": "stdout",
     "output_type": "stream",
     "text": [
      "jó\n"
     ]
    }
   ],
   "source": [
    "def verny_pontossag(pontossag):\n",
    "    if pontossag <= 2:\n",
    "        return \"kiváló\"\n",
    "    elif pontossag <= 5:\n",
    "        return \"jó\"\n",
    "    elif pontossag <= 10:\n",
    "        return \"megfelelő\"\n",
    "    else:\n",
    "        return \"selejt\"\n",
    "\n",
    "print(verny_pontossag(3.2))"
   ]
  },
  {
   "cell_type": "markdown",
   "id": "ea7c4ec1",
   "metadata": {},
   "source": [
    "11. Írjunk függvényt, amely bekéri a szisztolés és a diasztolés vérnyomásértékeket és az alábbi ábrának megfelelően kiértékeli! Visszatérési érték a besorolás.\n",
    "A függvény neve a következő legyen: `verny_ertek`\n",
    "\n",
    "![title](https://www.omron-healthcare.hu/on/demandware.static/-/Sites-OMR-HU-Library/default/dw3547a342/wordpress_images/uploads/2019/02/Picture1-538x405.png)"
   ]
  },
  {
   "cell_type": "code",
   "execution_count": 22,
   "id": "5062af40",
   "metadata": {},
   "outputs": [
    {
     "name": "stdout",
     "output_type": "stream",
     "text": [
      "elsőfokú magas vérnyomás\n"
     ]
    }
   ],
   "source": [
    "def verny_ertek(sisztoles, diasztoles):\n",
    "    if sisztoles <= 120 and diasztoles <= 80:\n",
    "        return \"optimális vérnyomás\"\n",
    "    elif sisztoles <= 130 and diasztoles <= 85:\n",
    "        return \"normálsi vérnyomás\"\n",
    "    elif sisztoles <= 140 and diasztoles <= 90:\n",
    "        return \"emelkedett-normál szisztolés vérnyomás\"\n",
    "    elif sisztoles <= 160 and diasztoles <= 100:\n",
    "        return \"elsőfokú magas vérnyomás\"\n",
    "    elif sisztoles <= 180 and diasztoles <= 110:\n",
    "        return \"másodfokú magas vérnyomás\"\n",
    "    else:\n",
    "        return \"harmadfokú magas vérnyomás\"\n",
    "\n",
    "print(verny_ertek(145, 95))"
   ]
  },
  {
   "cell_type": "markdown",
   "id": "08156fdc",
   "metadata": {},
   "source": [
    "12. Szeretnénk a jegyeket megállapítani az alapján, hogy hány pontot ért el az adott hallgató.\n",
    "\n",
    "Készítsen olyan függvényt, amely képes bekérni a pontszámot (lehet fél pont is), és visszadja az érdemjegyet szövegesen. A függvény neve a következő legyen: `erdemjegy`\n",
    "\n",
    "| Ponthatárok | Érdemjegy |\n",
    "|---|---|\n",
    "| 0,0 - 49,9 | elégtelen |\n",
    "| 50,0 - 59,9 | elégséges |\n",
    "| 60,0 - 69,9 | közepes |\n",
    "| 70,0 - 79,9 | jó |\n",
    "| 80-100 | jeles |"
   ]
  },
  {
   "cell_type": "code",
   "execution_count": 23,
   "id": "7e3e0b46",
   "metadata": {},
   "outputs": [
    {
     "name": "stdout",
     "output_type": "stream",
     "text": [
      "közepes\n"
     ]
    }
   ],
   "source": [
    "def erdemjegy(pont):\n",
    "    if pont < 50:\n",
    "        return \"elégtelen\"\n",
    "    if pont < 60:\n",
    "        return \"elégséges\"\n",
    "    if pont < 70:\n",
    "        return \"közepes\"\n",
    "    if pont < 80:\n",
    "        return \"jó\"\n",
    "    else:\n",
    "        return \"jeles\"\n",
    "    \n",
    "print(erdemjegy(60.5))"
   ]
  }
 ],
 "metadata": {
  "kernelspec": {
   "display_name": "Python 3 (ipykernel)",
   "language": "python",
   "name": "python3"
  },
  "language_info": {
   "codemirror_mode": {
    "name": "ipython",
    "version": 3
   },
   "file_extension": ".py",
   "mimetype": "text/x-python",
   "name": "python",
   "nbconvert_exporter": "python",
   "pygments_lexer": "ipython3",
   "version": "3.9.12"
  }
 },
 "nbformat": 4,
 "nbformat_minor": 5
}
