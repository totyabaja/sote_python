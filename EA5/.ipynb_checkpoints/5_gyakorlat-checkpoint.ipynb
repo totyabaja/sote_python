{
 "cells": [
  {
   "cell_type": "markdown",
   "id": "3b844519",
   "metadata": {},
   "source": [
    "## 5. előadás -  Python\n",
    "## Függvények\n",
    "\n",
    "### 2022. október 13.\n",
    "\n",
    "#### Dr. Tóth Zoltán és Dr. Tamus Zoltán Ádám"
   ]
  },
  {
   "cell_type": "markdown",
   "id": "f746e423",
   "metadata": {},
   "source": [
    "## Függvények\n",
    "\n",
    "A függvények célja, hogy ismétlődő eljárásokat vagy műveleteket egy egyszerű meghívással végre tudjunk hajtani.\n",
    "Eljárásról akkor beszlünk, ha a függvénynek nincs visszatérési értéke.\n",
    "\n",
    "Milyen elemei vannak egy függvénynek?\n",
    "- függvény neve\n",
    "- függvény argumentuma (paraméterei, változói)\n",
    "- opcionális: függvény visszatérési értéke\n",
    "\n",
    "A pythonban a függvény a következőképpen néz ki:\n",
    "\n",
    "`def fuggveny_neve(parameter1, parameter2, ...):\n",
    "    utasítások\n",
    "    return ertek`\n",
    "\n",
    "Hogyan tudjuk meghívni az elkészült függvényt? Elégséges a nevére hivatkozni és megadni a pramétereket, amennyiben azokkal is rendelkezik. Kicsit később megnézzük az opcionális paraméterezést is.\n",
    "\n",
    "Például paraméter nélkül:\n",
    "\n",
    "`fuggveny_neve1()`\n",
    "\n",
    "És egy példa paraméterekkel:\n",
    "\n",
    "`fuggveny neve2(12, par1)`\n",
    "\n",
    "### Példák\n",
    "\n",
    "#### 1. feladat\n",
    "Próbáljuk ki az alábbi utasításokat, mi lesz az eredménye.\n",
    "\n",
    "##### 1.1\n",
    "`def teszt_fv():\n",
    "    print(\"Hello World!\")`\n",
    "    \n",
    "`teszt_fv()`"
   ]
  },
  {
   "cell_type": "code",
   "execution_count": 1,
   "id": "70c9c371",
   "metadata": {},
   "outputs": [
    {
     "name": "stdout",
     "output_type": "stream",
     "text": [
      "Hello World!\n"
     ]
    }
   ],
   "source": [
    "def teszt_fv():\n",
    "    print(\"Hello World!\")\n",
    "teszt_fv()"
   ]
  },
  {
   "cell_type": "markdown",
   "id": "f14d9a5f",
   "metadata": {},
   "source": [
    "##### 1.2\n",
    "`def teszt_fv2(nev):\n",
    "    print(\"Hello,\", nev)`\n",
    "\n",
    "`teszt_fv2(\"Nóra\")`"
   ]
  },
  {
   "cell_type": "code",
   "execution_count": 2,
   "id": "c35a0de9",
   "metadata": {
    "scrolled": true
   },
   "outputs": [
    {
     "name": "stdout",
     "output_type": "stream",
     "text": [
      "Hello, Zoli\n"
     ]
    }
   ],
   "source": [
    "def teszt_fv2(nev):\n",
    "    print(\"Hello,\", nev)\n",
    "teszt_fv2(\"Zoli\")"
   ]
  },
  {
   "cell_type": "markdown",
   "id": "f778c5d7",
   "metadata": {},
   "source": [
    "Nézzünk példát a nem kötelező függvény paraméterekre!\n",
    "\n",
    "`def fuggveny_neve(nev = \"Aladár\"):\n",
    "    utasítások`\n",
    "\n",
    "##### 1.3\n",
    "`def fv3(szin = \"fehér\"):\n",
    "    print(\"A legjobb szín a\", szin)`\n",
    "\n",
    "`fv3(\"fekete\")\n",
    "fv3(\"zöld\")\n",
    "fv3()`"
   ]
  },
  {
   "cell_type": "code",
   "execution_count": 9,
   "id": "dc7ec1db",
   "metadata": {},
   "outputs": [
    {
     "name": "stdout",
     "output_type": "stream",
     "text": [
      "Zoli kedvenc színe a fekete\r\n",
      "Zoli kedvenc színe a fehér\r\n",
      "Zoli kedvenc színe a fehér!!!!\r\n",
      "Zoli kedvenc színe a fehér222"
     ]
    }
   ],
   "source": [
    "def fv3(nev, szin = \"fehér\", end=\"\\r\\n\"):\n",
    "    print(nev, \"kedvenc színe a\", szin, end=end)\n",
    "    \n",
    "fv3(\"Zoli\", \"fekete\")\n",
    "fv3(\"Zoli\")\n",
    "fv3(\"Zoli\", end=\"!!!!\\r\\n\")\n",
    "fv3(end=\"222\", nev=\"Zoli\")"
   ]
  },
  {
   "cell_type": "markdown",
   "id": "06a60664",
   "metadata": {},
   "source": [
    "Van arra is lehetőség, hogy ne adjuk meg az adott paraméter nagyságát. Ebben az esetben így fog kinézni a függvényünk:\n",
    "\n",
    "`def fv(*args):\n",
    "    utasítások`\n",
    "\n",
    "##### 1.4\n",
    "`def fuggveny(*args):\n",
    "    for i in args:\n",
    "        print(i)`\n",
    "\n",
    "`fuggveny(\"Aladár\", \"Béla\", \"Gyula\")`"
   ]
  },
  {
   "cell_type": "code",
   "execution_count": 12,
   "id": "51760e60",
   "metadata": {},
   "outputs": [
    {
     "name": "stdout",
     "output_type": "stream",
     "text": [
      "Béla\n",
      "Aladár\n"
     ]
    }
   ],
   "source": [
    "def fuggveny(*args):\n",
    "    for i in args:\n",
    "        print(i)\n",
    "        \n",
    "fuggveny(\"Béla\", \"Aladár\")"
   ]
  },
  {
   "cell_type": "markdown",
   "id": "03d323ae",
   "metadata": {},
   "source": [
    "Van arra is lehetőség, hogy ne adjuk meg a paraméterek számát. Ebben az esetben így fog kinézni a függvényünk:\n",
    "\n",
    "`def fv(**args):\n",
    "    utasítások`\n",
    "\n",
    "##### 1.4\n",
    "`def fuggveny2(**args):\n",
    "    print(\"A neved:\", veznev, kernev)`\n",
    "\n",
    "`fuggveny2(veznev = \"Nagy\", kernev = \"Béla\")`"
   ]
  },
  {
   "cell_type": "code",
   "execution_count": 14,
   "id": "891981de",
   "metadata": {
    "scrolled": true
   },
   "outputs": [
    {
     "name": "stdout",
     "output_type": "stream",
     "text": [
      "A neved: Nagy Béla\n"
     ]
    }
   ],
   "source": [
    "def fuggveny2(**args):\n",
    "    print(\"A neved:\", args[\"veznev\"], args[\"kernev\"])\n",
    "    \n",
    "fuggveny2(veznev = \"Nagy\", kernev = \"Béla\")"
   ]
  },
  {
   "cell_type": "markdown",
   "id": "7be9a56c",
   "metadata": {},
   "source": [
    "### Gyakorló feladatok\n",
    "1. Készítsünk egy függvényt, amely kiszámolja egy szám x-edik hatványát:"
   ]
  },
  {
   "cell_type": "code",
   "execution_count": 16,
   "id": "91c83716",
   "metadata": {
    "scrolled": true
   },
   "outputs": [
    {
     "name": "stdout",
     "output_type": "stream",
     "text": [
      "100\n"
     ]
    }
   ],
   "source": [
    "def hatvany(szam, kitevo=2):\n",
    "    return szam**kitevo\n",
    "\n",
    "print(hatvany(10))"
   ]
  },
  {
   "cell_type": "markdown",
   "id": "aaaa95e3",
   "metadata": {},
   "source": [
    "2. Írjunk egy függvényt, amely köszönti a keresztnevén a felhasználót. Ha nem ismerjük a keresztnevét, csak hívjuk simán Bélának."
   ]
  },
  {
   "cell_type": "code",
   "execution_count": null,
   "id": "f23d8987",
   "metadata": {},
   "outputs": [],
   "source": []
  },
  {
   "cell_type": "markdown",
   "id": "e3fb5e1f",
   "metadata": {},
   "source": [
    "3. A korábban már megírt prím programot írjuk meg egy függvénybe. A függvény mondja meg egy számról, hogy az pírmszám-e."
   ]
  },
  {
   "cell_type": "code",
   "execution_count": 19,
   "id": "c368e206",
   "metadata": {},
   "outputs": [
    {
     "name": "stdout",
     "output_type": "stream",
     "text": [
      "True\n",
      "nem prim\n"
     ]
    }
   ],
   "source": [
    "def prim_e(szam):\n",
    "    if szam == 1:\n",
    "        return True\n",
    "    elif szam == 2:\n",
    "        return True\n",
    "    elif szam%2 == 0:\n",
    "        return False\n",
    "    else:\n",
    "        for i in range(3, szam):\n",
    "            if szam % i == 0:\n",
    "                return False\n",
    "            else:\n",
    "                return True\n",
    "    return True\n",
    "\n",
    "print(prim_e(2))\n",
    "\n",
    "print(\"Prím szám a szam\") if prim_e(12) else print(\"nem prim\")"
   ]
  },
  {
   "cell_type": "markdown",
   "id": "6e34403c",
   "metadata": {},
   "source": [
    "4. Írjuk egy függvényt, amely egy vektort (listát) kap a bemenetére, és kiírja azokat vesszővel elválasztva.\n",
    "\n",
    "A lista az alábbi legyen:\n",
    "\n",
    "`t_list = (12, 23, \"Alma\", \"Béla\", True)`"
   ]
  },
  {
   "cell_type": "code",
   "execution_count": 20,
   "id": "883dbb4f",
   "metadata": {},
   "outputs": [
    {
     "name": "stdout",
     "output_type": "stream",
     "text": [
      "(12, 23, 'Alma', 'Béla', True)\n"
     ]
    }
   ],
   "source": [
    "def fv(lista):\n",
    "    print(t_list, sep=\", \")\n",
    "    \n",
    "t_list = (12, 23, \"Alma\", \"Béla\", True)\n",
    "fv(t_list)"
   ]
  },
  {
   "cell_type": "markdown",
   "id": "73e55d7c",
   "metadata": {},
   "source": [
    "5. Írjunk egy függvényt, amely egy listában visszadja, melyik a legnagyobb szám.\n",
    "\n",
    "A lista az alábbi legyen:\n",
    "\n",
    "`sz_list = (1, 23, 102, 45, 543, 26)`"
   ]
  },
  {
   "cell_type": "code",
   "execution_count": null,
   "id": "ffd1544f",
   "metadata": {},
   "outputs": [],
   "source": []
  },
  {
   "cell_type": "markdown",
   "id": "c4abc08c",
   "metadata": {},
   "source": [
    "6. Írjunk egy függvényt, amely egy listában visszadja, melyik a legkisebb szám.\n",
    "\n",
    "A lista az alábbi legyen:\n",
    "\n",
    "`sz2_list = (67, 23, 102, 45, 543, 26)`"
   ]
  },
  {
   "cell_type": "code",
   "execution_count": null,
   "id": "50187a25",
   "metadata": {},
   "outputs": [],
   "source": []
  },
  {
   "cell_type": "markdown",
   "id": "6c6323f9",
   "metadata": {},
   "source": [
    "7. Írjunk egy függvényt, amely kiszámolja egy lista elemeinek szorzatát.\n",
    "\n",
    "A lista az alábbi legyen:\n",
    "\n",
    "`sz_list = (1, 23, 102, 45, 543, 26)`"
   ]
  },
  {
   "cell_type": "code",
   "execution_count": 25,
   "id": "b241dc15",
   "metadata": {},
   "outputs": [
    {
     "name": "stdout",
     "output_type": "stream",
     "text": [
      "12\n"
     ]
    }
   ],
   "source": [
    "sz_list = (3, 4)\n",
    "\n",
    "def szorzat(lista):\n",
    "    sz = 1\n",
    "    for i in lista:\n",
    "        sz = sz * i\n",
    "    return sz\n",
    "\n",
    "print(szorzat(sz_list))"
   ]
  },
  {
   "cell_type": "markdown",
   "id": "4b48f760",
   "metadata": {},
   "source": [
    "8. Írjunk egy függvényt, amely az Excel szorzatfüggvényéhez hasonlóan műküdjön. Amennyiben a két lista elemszáma nem egyezik meg, akkor annyit írjunk vissza, hogy 'HIBA'.\n",
    "\n",
    "A lista az alábbi legyen:\n",
    "\n",
    "`sz_list = (1, 23, 102, 45, 543, 26)`"
   ]
  },
  {
   "cell_type": "code",
   "execution_count": 28,
   "id": "99c0df79",
   "metadata": {},
   "outputs": [
    {
     "name": "stdout",
     "output_type": "stream",
     "text": [
      "308484\n"
     ]
    }
   ],
   "source": [
    "sz_list = (1, 23, 102, 45, 543, 26)\n",
    "\n",
    "def szorzatosszeg(lista1, lista2):\n",
    "    if len(lista1) == len(lista2):\n",
    "        x = 0\n",
    "        \n",
    "        i = 0 # iterátor\n",
    "        while i < len(lista1):\n",
    "            x = x + lista1[i] * lista2[i]\n",
    "            i += 1\n",
    "            \n",
    "        return x\n",
    "    else:\n",
    "        return \"HIBA\"\n",
    "\n",
    "print(szorzatosszeg(sz_list, sz_list))"
   ]
  },
  {
   "cell_type": "markdown",
   "id": "2ddfb83c",
   "metadata": {},
   "source": [
    "$\\textbf{Plusz:}$ Írjunk egy függvényt, amely rekurzív módon visszadja az n. fibonacchi értéket.\n",
    "\n",
    "Példa: 0, 1, 1, 2, 3, 5, 8, ..."
   ]
  },
  {
   "cell_type": "code",
   "execution_count": null,
   "id": "97dcb692",
   "metadata": {},
   "outputs": [],
   "source": []
  },
  {
   "cell_type": "markdown",
   "id": "a6e47b16",
   "metadata": {},
   "source": [
    "### Következő óra eleji kis ZH anyaga:\n",
    "1. függvények"
   ]
  }
 ],
 "metadata": {
  "kernelspec": {
   "display_name": "Python 3 (ipykernel)",
   "language": "python",
   "name": "python3"
  },
  "language_info": {
   "codemirror_mode": {
    "name": "ipython",
    "version": 3
   },
   "file_extension": ".py",
   "mimetype": "text/x-python",
   "name": "python",
   "nbconvert_exporter": "python",
   "pygments_lexer": "ipython3",
   "version": "3.9.12"
  }
 },
 "nbformat": 4,
 "nbformat_minor": 5
}
